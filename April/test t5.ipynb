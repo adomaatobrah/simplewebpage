{
 "cells": [
  {
   "cell_type": "code",
   "execution_count": 109,
   "metadata": {},
   "outputs": [],
   "source": [
    "import torch\n",
    "from transformers import T5Tokenizer, T5ForConditionalGeneration, T5Config"
   ]
  },
  {
   "cell_type": "code",
   "execution_count": 110,
   "metadata": {},
   "outputs": [],
   "source": [
    "model = T5ForConditionalGeneration.from_pretrained(\"t5-base\")\n",
    "tokenizer = T5Tokenizer.from_pretrained(\"t5-base\")"
   ]
  },
  {
   "cell_type": "code",
   "execution_count": 147,
   "metadata": {
    "scrolled": false
   },
   "outputs": [],
   "source": [
    "english = \"translate English to German: When Liana Barrientos was 23 years old, she got married in Westchester County.\"\n",
    "german = \"Als Liana Barrientos 23 Jahre alt war, heiratete sie in Westchester County.\"\n",
    "\n",
    "words = []\n",
    "\n",
    "input_ids = tokenizer.encode(\"translate English to German: \" + english, return_tensors=\"pt\")\n",
    "output_ids = tokenizer.encode(german, return_tensors='pt')\n",
    "\n",
    "\n",
    "outputs1 = model.generate(input_ids, max_length=40, num_beams=4, early_stopping=True)\n",
    "machine_translation = [tokenizer.decode(g, skip_special_tokens=True, clean_up_tokenization_spaces=False) for g in outputs1]\n",
    "\n",
    "lm_labels = tokenizer.encode(german, return_tensors='pt')\n",
    "outputs = model(input_ids=input_ids, lm_labels=lm_labels)\n",
    "\n",
    "loss, prediction_scores = outputs[:2]\n",
    "\n",
    "all_predictions = []\n",
    "next_pos = 0\n",
    "\n",
    "for word in prediction_scores[0]:\n",
    "    predicted_words = word.topk(5).indices\n",
    "    next_word = output_ids[0, next_pos]\n",
    "    predicted_words_list = []\n",
    "\n",
    "    for index in predicted_words:\n",
    "        predicted_words_list.append(tokenizer.decode(index.item()))\n",
    "    all_predictions.append((tokenizer.decode(next_word.item()), predicted_words_list))\n",
    "    next_pos += 1"
   ]
  },
  {
   "cell_type": "code",
   "execution_count": 149,
   "metadata": {
    "scrolled": true
   },
   "outputs": [
    {
     "data": {
      "text/plain": [
       "tensor(5)"
      ]
     },
     "execution_count": 149,
     "metadata": {},
     "output_type": "execute_result"
    }
   ],
   "source": [
    "next_word"
   ]
  },
  {
   "cell_type": "code",
   "execution_count": 152,
   "metadata": {},
   "outputs": [
    {
     "ename": "ValueError",
     "evalue": "tensor(16) is not in list",
     "output_type": "error",
     "traceback": [
      "\u001b[1;31m---------------------------------------------------------------------------\u001b[0m",
      "\u001b[1;31mValueError\u001b[0m                                Traceback (most recent call last)",
      "\u001b[1;32m<ipython-input-152-c2fd8d755f94>\u001b[0m in \u001b[0;36m<module>\u001b[1;34m\u001b[0m\n\u001b[0;32m     30\u001b[0m         \u001b[0mencoded_predictions\u001b[0m\u001b[1;33m.\u001b[0m\u001b[0mappend\u001b[0m\u001b[1;33m(\u001b[0m\u001b[0mindex\u001b[0m\u001b[1;33m.\u001b[0m\u001b[0mitem\u001b[0m\u001b[1;33m(\u001b[0m\u001b[1;33m)\u001b[0m\u001b[1;33m)\u001b[0m\u001b[1;33m\u001b[0m\u001b[1;33m\u001b[0m\u001b[0m\n\u001b[0;32m     31\u001b[0m         \u001b[1;32mif\u001b[0m \u001b[0mnext_word\u001b[0m \u001b[1;32min\u001b[0m \u001b[0mpredicted_words\u001b[0m\u001b[1;33m:\u001b[0m\u001b[1;33m\u001b[0m\u001b[1;33m\u001b[0m\u001b[0m\n\u001b[1;32m---> 32\u001b[1;33m             \u001b[0mlistpos\u001b[0m \u001b[1;33m=\u001b[0m \u001b[0mencoded_predictions\u001b[0m\u001b[1;33m.\u001b[0m\u001b[0mindex\u001b[0m\u001b[1;33m(\u001b[0m\u001b[0mnext_word\u001b[0m\u001b[1;33m)\u001b[0m\u001b[1;33m\u001b[0m\u001b[1;33m\u001b[0m\u001b[0m\n\u001b[0m\u001b[0;32m     33\u001b[0m             \u001b[1;32mif\u001b[0m \u001b[0mlistpos\u001b[0m \u001b[1;33m<\u001b[0m\u001b[1;36m10\u001b[0m\u001b[1;33m:\u001b[0m\u001b[1;33m\u001b[0m\u001b[1;33m\u001b[0m\u001b[0m\n\u001b[0;32m     34\u001b[0m                 \u001b[0mcolors\u001b[0m\u001b[1;33m.\u001b[0m\u001b[0mappend\u001b[0m\u001b[1;33m(\u001b[0m\u001b[1;33m(\u001b[0m\u001b[0mtokenizer\u001b[0m\u001b[1;33m.\u001b[0m\u001b[0mdecode\u001b[0m\u001b[1;33m(\u001b[0m\u001b[0mnext_word\u001b[0m\u001b[1;33m.\u001b[0m\u001b[0mitem\u001b[0m\u001b[1;33m(\u001b[0m\u001b[1;33m)\u001b[0m\u001b[1;33m)\u001b[0m\u001b[1;33m,\u001b[0m \u001b[1;34m\"lime\"\u001b[0m\u001b[1;33m)\u001b[0m\u001b[1;33m)\u001b[0m\u001b[1;33m\u001b[0m\u001b[1;33m\u001b[0m\u001b[0m\n",
      "\u001b[1;31mValueError\u001b[0m: tensor(16) is not in list"
     ]
    }
   ],
   "source": [
    "english = \"translate English to German: When Liana Barrientos was 23 years old, she got married in Westchester County.\"\n",
    "german = \"Als Liana Barrientos 23 Jahre alt war, heiratete sie in Westchester County.\"\n",
    "\n",
    "words = []\n",
    "\n",
    "input_ids = tokenizer.encode(\"translate English to German: \" + english, return_tensors=\"pt\")\n",
    "output_ids = tokenizer.encode(german, return_tensors='pt')\n",
    "\n",
    "\n",
    "outputs1 = model.generate(input_ids, max_length=40, num_beams=4, early_stopping=True)\n",
    "machine_translation = [tokenizer.decode(g, skip_special_tokens=True, clean_up_tokenization_spaces=False) for g in outputs1]\n",
    "\n",
    "lm_labels = tokenizer.encode(german, return_tensors='pt')\n",
    "outputs = model(input_ids=input_ids, lm_labels=lm_labels)\n",
    "\n",
    "loss, prediction_scores = outputs[:2]\n",
    "\n",
    "all_predictions = []\n",
    "next_pos = 0\n",
    "\n",
    "for word in prediction_scores[0]:\n",
    "    predicted_words = word.topk(1000).indices\n",
    "    next_word = output_ids[0, next_pos]\n",
    "    encoded_predictions = []\n",
    "    decoded_predictions = []\n",
    "    colors = []\n",
    "\n",
    "    for index in predicted_words:\n",
    "        decoded_predictions.append(tokenizer.decode(index.item()))\n",
    "        encoded_predictions.append(index.item())\n",
    "        if next_word in predicted_words:\n",
    "            listpos = encoded_predictions.index(next_word)\n",
    "            if listpos <10:\n",
    "                colors.append((tokenizer.decode(next_word.item()), \"lime\"))\n",
    "\n",
    "    all_predictions.append((colors, predicted_words_list))\n",
    "    next_pos += 1"
   ]
  },
  {
   "cell_type": "code",
   "execution_count": 215,
   "metadata": {},
   "outputs": [],
   "source": [
    "english = \"translate English to German: How are you.\"\n",
    "german = \"Als Liana Barrientos 23 Jahre alt war, heiratete sie in Westchester County.\"\n",
    "\n",
    "words = []\n",
    "\n",
    "input_ids = tokenizer.encode(\"translate English to German: \" + english, return_tensors=\"pt\")\n",
    "output_ids = tokenizer.encode(german, return_tensors='pt')\n",
    "\n",
    "\n",
    "outputs1 = model.generate(input_ids, max_length=40, num_beams=4, early_stopping=True)\n",
    "machine_translation = [tokenizer.decode(g, skip_special_tokens=True, clean_up_tokenization_spaces=False) for g in outputs1]\n",
    "\n",
    "lm_labels = tokenizer.encode(german, return_tensors='pt')\n",
    "outputs = model(input_ids=input_ids, lm_labels=lm_labels)\n",
    "\n",
    "loss, prediction_scores = outputs[:2]\n",
    "\n",
    "all_predictions = []\n",
    "next_pos = 0\n",
    "\n",
    "for word in prediction_scores[0]:\n",
    "    predicted_words = word.topk(1000).indices\n",
    "    next_word = output_ids[0, next_pos]\n",
    "    encoded_predictions = []\n",
    "    decoded_predictions = []\n",
    "    colors = ()\n",
    "\n",
    "    for index in predicted_words:\n",
    "        decoded_predictions.append(tokenizer.decode(index.item()))\n",
    "        encoded_predictions.append(index.item())\n",
    "    if next_word in predicted_words:\n",
    "        listpos = encoded_predictions.index(next_word)          \n",
    "        if listpos <10:\n",
    "            colors = (tokenizer.decode(next_word.item()), \"lime\")\n",
    "        else:\n",
    "            colors = (tokenizer.decode(next_word.item()), \"yellow\")\n",
    "\n",
    "    all_predictions.append((colors, decoded_predictions[0:5]))\n",
    "    next_pos += 1"
   ]
  },
  {
   "cell_type": "code",
   "execution_count": null,
   "metadata": {},
   "outputs": [],
   "source": []
  }
 ],
 "metadata": {
  "kernelspec": {
   "display_name": "Python 3",
   "language": "python",
   "name": "python3"
  },
  "language_info": {
   "codemirror_mode": {
    "name": "ipython",
    "version": 3
   },
   "file_extension": ".py",
   "mimetype": "text/x-python",
   "name": "python",
   "nbconvert_exporter": "python",
   "pygments_lexer": "ipython3",
   "version": "3.7.6"
  }
 },
 "nbformat": 4,
 "nbformat_minor": 4
}
