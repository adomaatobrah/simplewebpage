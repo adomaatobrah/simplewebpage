{
 "cells": [
  {
   "cell_type": "code",
   "execution_count": 6,
   "metadata": {},
   "outputs": [],
   "source": [
    "import torch"
   ]
  },
  {
   "cell_type": "code",
   "execution_count": 8,
   "metadata": {
    "scrolled": true
   },
   "outputs": [],
   "source": [
    "from transformers import MarianMTModel, MarianTokenizer"
   ]
  },
  {
   "cell_type": "code",
   "execution_count": 85,
   "metadata": {},
   "outputs": [],
   "source": [
    "from torchvision import transforms"
   ]
  },
  {
   "cell_type": "code",
   "execution_count": 10,
   "metadata": {
    "scrolled": false
   },
   "outputs": [
    {
     "name": "stdout",
     "output_type": "stream",
     "text": [
      "['>>fr<<', '>>es<<', '>>it<<', '>>pt<<', '>>pt_br<<', '>>ro<<', '>>ca<<', '>>gl<<', '>>pt_BR<<', '>>la<<', '>>wa<<', '>>fur<<', '>>oc<<', '>>fr_CA<<', '>>sc<<', '>>es_ES<<', '>>es_MX<<', '>>es_AR<<', '>>es_PR<<', '>>es_UY<<', '>>es_CL<<', '>>es_CO<<', '>>es_CR<<', '>>es_GT<<', '>>es_HN<<', '>>es_NI<<', '>>es_PA<<', '>>es_PE<<', '>>es_VE<<', '>>es_DO<<', '>>es_EC<<', '>>es_SV<<', '>>an<<', '>>pt_PT<<', '>>frp<<', '>>lad<<', '>>vec<<', '>>fr_FR<<', '>>co<<', '>>it_IT<<', '>>lld<<', '>>lij<<', '>>lmo<<', '>>nap<<', '>>rm<<', '>>scn<<', '>>mwl<<']\n"
     ]
    }
   ],
   "source": [
    "en_ROMANCE_model_name = 'Helsinki-NLP/opus-mt-en-ROMANCE'\n",
    "en_ROMANCE_tokenizer = MarianTokenizer.from_pretrained(en_ROMANCE_model_name)\n",
    "print(en_ROMANCE_tokenizer.supported_language_codes)"
   ]
  },
  {
   "cell_type": "code",
   "execution_count": 12,
   "metadata": {},
   "outputs": [],
   "source": [
    "en_ROMANCE = MarianMTModel.from_pretrained(en_ROMANCE_model_name)"
   ]
  },
  {
   "cell_type": "code",
   "execution_count": 14,
   "metadata": {},
   "outputs": [],
   "source": [
    "ROMANCE_en_model_name = 'Helsinki-NLP/opus-mt-ROMANCE-en'\n",
    "ROMANCE_en_tokenizer = MarianTokenizer.from_pretrained(ROMANCE_en_model_name)\n"
   ]
  },
  {
   "cell_type": "code",
   "execution_count": 16,
   "metadata": {},
   "outputs": [],
   "source": [
    "ROMANCE_en = MarianMTModel.from_pretrained(ROMANCE_en_model_name)"
   ]
  },
  {
   "cell_type": "code",
   "execution_count": 18,
   "metadata": {},
   "outputs": [
    {
     "data": {
      "text/plain": [
       "{'input_ids': tensor([[    1,  1114,   124,    33, 16213,    15, 13380,   568, 24747,     9,\n",
       "            13, 21182,     0]]), 'attention_mask': tensor([[1, 1, 1, 1, 1, 1, 1, 1, 1, 1, 1, 1, 1]])}"
      ]
     },
     "execution_count": 18,
     "metadata": {},
     "output_type": "execute_result"
    }
   ],
   "source": [
    "batch = ROMANCE_en_tokenizer.prepare_translation_batch(['>>en<< Este es un frase que queremos traducir a ingles'])\n",
    "batch"
   ]
  },
  {
   "cell_type": "code",
   "execution_count": 20,
   "metadata": {},
   "outputs": [
    {
     "data": {
      "text/plain": [
       "['<pad> This is a phrase we want to translate into English']"
      ]
     },
     "execution_count": 20,
     "metadata": {},
     "output_type": "execute_result"
    }
   ],
   "source": [
    "translated = ROMANCE_en.generate(**batch)\n",
    "[ROMANCE_en_tokenizer.decode(t) for t in translated]"
   ]
  },
  {
   "cell_type": "code",
   "execution_count": 22,
   "metadata": {},
   "outputs": [
    {
     "data": {
      "text/plain": [
       "tensor([[65000,   182,    26,     9, 12461,   103,   329,    11, 22578,   232,\n",
       "          1337]])"
      ]
     },
     "execution_count": 22,
     "metadata": {},
     "output_type": "execute_result"
    }
   ],
   "source": [
    "translated"
   ]
  },
  {
   "cell_type": "code",
   "execution_count": 24,
   "metadata": {},
   "outputs": [],
   "source": [
    "spanish = en_ROMANCE_tokenizer.prepare_translation_batch(['>>es<< This is a phrase we want to translate into Spanish'])"
   ]
  },
  {
   "cell_type": "code",
   "execution_count": 26,
   "metadata": {
    "scrolled": true
   },
   "outputs": [
    {
     "data": {
      "text/plain": [
       "['<pad> Esta es una frase que queremos traducir al español']"
      ]
     },
     "execution_count": 26,
     "metadata": {},
     "output_type": "execute_result"
    }
   ],
   "source": [
    "eng_to_spanish = en_ROMANCE.generate(**spanish)\n",
    "[en_ROMANCE_tokenizer.decode(t) for t in eng_to_spanish]"
   ]
  },
  {
   "cell_type": "code",
   "execution_count": 27,
   "metadata": {},
   "outputs": [
    {
     "data": {
      "text/plain": [
       "tensor([[65000,  1427,   129,    92, 16216,    17, 13390,   560, 22503,   111,\n",
       "         12412]])"
      ]
     },
     "execution_count": 27,
     "metadata": {},
     "output_type": "execute_result"
    }
   ],
   "source": [
    "eng_to_spanish"
   ]
  },
  {
   "cell_type": "code",
   "execution_count": 28,
   "metadata": {},
   "outputs": [],
   "source": [
    "en_ROMANCE??"
   ]
  },
  {
   "cell_type": "code",
   "execution_count": 124,
   "metadata": {},
   "outputs": [
    {
     "data": {
      "text/plain": [
       "tensor([[65000,  1427]])"
      ]
     },
     "execution_count": 124,
     "metadata": {},
     "output_type": "execute_result"
    }
   ],
   "source": [
    "partial_decode = torch.LongTensor([65000, 1427])\n",
    "partial_decode.unsqueeze(0)"
   ]
  },
  {
   "cell_type": "code",
   "execution_count": 32,
   "metadata": {},
   "outputs": [],
   "source": [
    "from transformers import MarianMTModel, MarianTokenizer\n",
    "\n",
    "en_ROMANCE_model_name = 'Helsinki-NLP/opus-mt-en-ROMANCE'\n",
    "en_ROMANCE_tokenizer = MarianTokenizer.from_pretrained(en_ROMANCE_model_name)\n",
    "en_ROMANCE = MarianMTModel.from_pretrained(en_ROMANCE_model_name)"
   ]
  },
  {
   "cell_type": "code",
   "execution_count": 125,
   "metadata": {
    "scrolled": false
   },
   "outputs": [
    {
     "data": {
      "text/plain": [
       "(tensor([[[nan, nan, nan,  ..., nan, nan, nan],\n",
       "          [nan, nan, nan,  ..., nan, nan, nan]]], grad_fn=<AddBackward0>),\n",
       " tensor([[[-2.0293e-01,  2.0769e-02,  2.8147e-02,  ...,  1.0518e+00,\n",
       "            1.0340e-01, -8.8115e-02],\n",
       "          [-3.6971e-01,  1.9407e-01,  2.8978e-01,  ...,  1.9322e+00,\n",
       "            3.5916e-01,  1.1154e-03],\n",
       "          [-3.5610e-01,  2.6620e-01,  1.5143e-01,  ...,  2.1092e+00,\n",
       "           -1.0457e-01,  5.2787e-01],\n",
       "          ...,\n",
       "          [-6.9544e-02,  1.5759e-01,  3.8321e-01,  ...,  1.4983e+00,\n",
       "            3.7078e-01,  8.3071e-03],\n",
       "          [-2.8330e-01,  1.0562e-01,  2.4944e-01,  ...,  1.8255e+00,\n",
       "            1.2717e-01, -1.2668e-01],\n",
       "          [-3.3574e-03,  1.5221e-01,  2.5999e-01,  ...,  9.5313e-01,\n",
       "           -2.8015e-02, -1.5033e-01]]], grad_fn=<TransposeBackward0>))"
      ]
     },
     "execution_count": 125,
     "metadata": {},
     "output_type": "execute_result"
    }
   ],
   "source": [
    "input_ids = en_ROMANCE_tokenizer.encode('>>es<< This is a phrase we want to translate into Spanish', return_tensors=\"pt\")\n",
    "\n",
    "english_encoded=en_ROMANCE.model.encoder(input_ids = input_ids)\n",
    "partial_decode = torch.LongTensor([65000, 1427])\n",
    "\n",
    "next_word_logits = en_ROMANCE(input_ids = input_ids,\n",
    "                   encoder_outputs = english_encoded,\n",
    "                   decoder_input_ids = partial_decode.unsqueeze(0))\n",
    "next_word_logits"
   ]
  },
  {
   "cell_type": "code",
   "execution_count": 157,
   "metadata": {
    "scrolled": true
   },
   "outputs": [
    {
     "ename": "ValueError",
     "evalue": "not enough values to unpack (expected 2, got 1)",
     "output_type": "error",
     "traceback": [
      "\u001b[1;31m---------------------------------------------------------------------------\u001b[0m",
      "\u001b[1;31mValueError\u001b[0m                                Traceback (most recent call last)",
      "\u001b[1;32m<ipython-input-157-f4831502b13e>\u001b[0m in \u001b[0;36m<module>\u001b[1;34m\u001b[0m\n\u001b[0;32m      9\u001b[0m )\n\u001b[0;32m     10\u001b[0m \u001b[1;32mwith\u001b[0m \u001b[0mtorch\u001b[0m\u001b[1;33m.\u001b[0m\u001b[0mno_grad\u001b[0m\u001b[1;33m(\u001b[0m\u001b[1;33m)\u001b[0m\u001b[1;33m:\u001b[0m\u001b[1;33m\u001b[0m\u001b[1;33m\u001b[0m\u001b[0m\n\u001b[1;32m---> 11\u001b[1;33m     \u001b[0mmodel_outputs\u001b[0m \u001b[1;33m=\u001b[0m \u001b[0men_ROMANCE\u001b[0m\u001b[1;33m(\u001b[0m\u001b[1;33m**\u001b[0m\u001b[0mmodel_inputs\u001b[0m\u001b[1;33m)\u001b[0m\u001b[1;33m\u001b[0m\u001b[1;33m\u001b[0m\u001b[0m\n\u001b[0m\u001b[0;32m     12\u001b[0m \u001b[1;33m\u001b[0m\u001b[0m\n\u001b[0;32m     13\u001b[0m \u001b[0mnext_token_logits\u001b[0m \u001b[1;33m=\u001b[0m \u001b[0mmodel_outputs\u001b[0m\u001b[1;33m[\u001b[0m\u001b[1;36m0\u001b[0m\u001b[1;33m]\u001b[0m\u001b[1;33m[\u001b[0m\u001b[1;33m:\u001b[0m\u001b[1;33m,\u001b[0m \u001b[1;33m-\u001b[0m\u001b[1;36m1\u001b[0m\u001b[1;33m,\u001b[0m \u001b[1;33m:\u001b[0m\u001b[1;33m]\u001b[0m\u001b[1;33m\u001b[0m\u001b[1;33m\u001b[0m\u001b[0m\n",
      "\u001b[1;32m~\\anaconda3\\lib\\site-packages\\torch\\nn\\modules\\module.py\u001b[0m in \u001b[0;36m__call__\u001b[1;34m(self, *input, **kwargs)\u001b[0m\n\u001b[0;32m    548\u001b[0m             \u001b[0mresult\u001b[0m \u001b[1;33m=\u001b[0m \u001b[0mself\u001b[0m\u001b[1;33m.\u001b[0m\u001b[0m_slow_forward\u001b[0m\u001b[1;33m(\u001b[0m\u001b[1;33m*\u001b[0m\u001b[0minput\u001b[0m\u001b[1;33m,\u001b[0m \u001b[1;33m**\u001b[0m\u001b[0mkwargs\u001b[0m\u001b[1;33m)\u001b[0m\u001b[1;33m\u001b[0m\u001b[1;33m\u001b[0m\u001b[0m\n\u001b[0;32m    549\u001b[0m         \u001b[1;32melse\u001b[0m\u001b[1;33m:\u001b[0m\u001b[1;33m\u001b[0m\u001b[1;33m\u001b[0m\u001b[0m\n\u001b[1;32m--> 550\u001b[1;33m             \u001b[0mresult\u001b[0m \u001b[1;33m=\u001b[0m \u001b[0mself\u001b[0m\u001b[1;33m.\u001b[0m\u001b[0mforward\u001b[0m\u001b[1;33m(\u001b[0m\u001b[1;33m*\u001b[0m\u001b[0minput\u001b[0m\u001b[1;33m,\u001b[0m \u001b[1;33m**\u001b[0m\u001b[0mkwargs\u001b[0m\u001b[1;33m)\u001b[0m\u001b[1;33m\u001b[0m\u001b[1;33m\u001b[0m\u001b[0m\n\u001b[0m\u001b[0;32m    551\u001b[0m         \u001b[1;32mfor\u001b[0m \u001b[0mhook\u001b[0m \u001b[1;32min\u001b[0m \u001b[0mself\u001b[0m\u001b[1;33m.\u001b[0m\u001b[0m_forward_hooks\u001b[0m\u001b[1;33m.\u001b[0m\u001b[0mvalues\u001b[0m\u001b[1;33m(\u001b[0m\u001b[1;33m)\u001b[0m\u001b[1;33m:\u001b[0m\u001b[1;33m\u001b[0m\u001b[1;33m\u001b[0m\u001b[0m\n\u001b[0;32m    552\u001b[0m             \u001b[0mhook_result\u001b[0m \u001b[1;33m=\u001b[0m \u001b[0mhook\u001b[0m\u001b[1;33m(\u001b[0m\u001b[0mself\u001b[0m\u001b[1;33m,\u001b[0m \u001b[0minput\u001b[0m\u001b[1;33m,\u001b[0m \u001b[0mresult\u001b[0m\u001b[1;33m)\u001b[0m\u001b[1;33m\u001b[0m\u001b[1;33m\u001b[0m\u001b[0m\n",
      "\u001b[1;32m~\\AppData\\Roaming\\Python\\Python37\\site-packages\\transformers\\modeling_bart.py\u001b[0m in \u001b[0;36mforward\u001b[1;34m(self, input_ids, attention_mask, encoder_outputs, decoder_input_ids, decoder_attention_mask, decoder_cached_states, labels, use_cache, output_attentions, output_hidden_states, **unused)\u001b[0m\n\u001b[0;32m    978\u001b[0m             \u001b[0muse_cache\u001b[0m\u001b[1;33m=\u001b[0m\u001b[0muse_cache\u001b[0m\u001b[1;33m,\u001b[0m\u001b[1;33m\u001b[0m\u001b[1;33m\u001b[0m\u001b[0m\n\u001b[0;32m    979\u001b[0m             \u001b[0moutput_attentions\u001b[0m\u001b[1;33m=\u001b[0m\u001b[0moutput_attentions\u001b[0m\u001b[1;33m,\u001b[0m\u001b[1;33m\u001b[0m\u001b[1;33m\u001b[0m\u001b[0m\n\u001b[1;32m--> 980\u001b[1;33m             \u001b[0moutput_hidden_states\u001b[0m\u001b[1;33m=\u001b[0m\u001b[0moutput_hidden_states\u001b[0m\u001b[1;33m,\u001b[0m\u001b[1;33m\u001b[0m\u001b[1;33m\u001b[0m\u001b[0m\n\u001b[0m\u001b[0;32m    981\u001b[0m         )\n\u001b[0;32m    982\u001b[0m         \u001b[0mlm_logits\u001b[0m \u001b[1;33m=\u001b[0m \u001b[0mF\u001b[0m\u001b[1;33m.\u001b[0m\u001b[0mlinear\u001b[0m\u001b[1;33m(\u001b[0m\u001b[0moutputs\u001b[0m\u001b[1;33m[\u001b[0m\u001b[1;36m0\u001b[0m\u001b[1;33m]\u001b[0m\u001b[1;33m,\u001b[0m \u001b[0mself\u001b[0m\u001b[1;33m.\u001b[0m\u001b[0mmodel\u001b[0m\u001b[1;33m.\u001b[0m\u001b[0mshared\u001b[0m\u001b[1;33m.\u001b[0m\u001b[0mweight\u001b[0m\u001b[1;33m,\u001b[0m \u001b[0mbias\u001b[0m\u001b[1;33m=\u001b[0m\u001b[0mself\u001b[0m\u001b[1;33m.\u001b[0m\u001b[0mfinal_logits_bias\u001b[0m\u001b[1;33m)\u001b[0m\u001b[1;33m\u001b[0m\u001b[1;33m\u001b[0m\u001b[0m\n",
      "\u001b[1;32m~\\anaconda3\\lib\\site-packages\\torch\\nn\\modules\\module.py\u001b[0m in \u001b[0;36m__call__\u001b[1;34m(self, *input, **kwargs)\u001b[0m\n\u001b[0;32m    548\u001b[0m             \u001b[0mresult\u001b[0m \u001b[1;33m=\u001b[0m \u001b[0mself\u001b[0m\u001b[1;33m.\u001b[0m\u001b[0m_slow_forward\u001b[0m\u001b[1;33m(\u001b[0m\u001b[1;33m*\u001b[0m\u001b[0minput\u001b[0m\u001b[1;33m,\u001b[0m \u001b[1;33m**\u001b[0m\u001b[0mkwargs\u001b[0m\u001b[1;33m)\u001b[0m\u001b[1;33m\u001b[0m\u001b[1;33m\u001b[0m\u001b[0m\n\u001b[0;32m    549\u001b[0m         \u001b[1;32melse\u001b[0m\u001b[1;33m:\u001b[0m\u001b[1;33m\u001b[0m\u001b[1;33m\u001b[0m\u001b[0m\n\u001b[1;32m--> 550\u001b[1;33m             \u001b[0mresult\u001b[0m \u001b[1;33m=\u001b[0m \u001b[0mself\u001b[0m\u001b[1;33m.\u001b[0m\u001b[0mforward\u001b[0m\u001b[1;33m(\u001b[0m\u001b[1;33m*\u001b[0m\u001b[0minput\u001b[0m\u001b[1;33m,\u001b[0m \u001b[1;33m**\u001b[0m\u001b[0mkwargs\u001b[0m\u001b[1;33m)\u001b[0m\u001b[1;33m\u001b[0m\u001b[1;33m\u001b[0m\u001b[0m\n\u001b[0m\u001b[0;32m    551\u001b[0m         \u001b[1;32mfor\u001b[0m \u001b[0mhook\u001b[0m \u001b[1;32min\u001b[0m \u001b[0mself\u001b[0m\u001b[1;33m.\u001b[0m\u001b[0m_forward_hooks\u001b[0m\u001b[1;33m.\u001b[0m\u001b[0mvalues\u001b[0m\u001b[1;33m(\u001b[0m\u001b[1;33m)\u001b[0m\u001b[1;33m:\u001b[0m\u001b[1;33m\u001b[0m\u001b[1;33m\u001b[0m\u001b[0m\n\u001b[0;32m    552\u001b[0m             \u001b[0mhook_result\u001b[0m \u001b[1;33m=\u001b[0m \u001b[0mhook\u001b[0m\u001b[1;33m(\u001b[0m\u001b[0mself\u001b[0m\u001b[1;33m,\u001b[0m \u001b[0minput\u001b[0m\u001b[1;33m,\u001b[0m \u001b[0mresult\u001b[0m\u001b[1;33m)\u001b[0m\u001b[1;33m\u001b[0m\u001b[1;33m\u001b[0m\u001b[0m\n",
      "\u001b[1;32m~\\AppData\\Roaming\\Python\\Python37\\site-packages\\transformers\\modeling_bart.py\u001b[0m in \u001b[0;36mforward\u001b[1;34m(self, input_ids, attention_mask, decoder_input_ids, encoder_outputs, decoder_attention_mask, decoder_cached_states, use_cache, output_attentions, output_hidden_states)\u001b[0m\n\u001b[0;32m    857\u001b[0m             \u001b[0moutput_attentions\u001b[0m\u001b[1;33m=\u001b[0m\u001b[0moutput_attentions\u001b[0m\u001b[1;33m,\u001b[0m\u001b[1;33m\u001b[0m\u001b[1;33m\u001b[0m\u001b[0m\n\u001b[0;32m    858\u001b[0m             \u001b[0moutput_hidden_states\u001b[0m\u001b[1;33m=\u001b[0m\u001b[0moutput_hidden_states\u001b[0m\u001b[1;33m,\u001b[0m\u001b[1;33m\u001b[0m\u001b[1;33m\u001b[0m\u001b[0m\n\u001b[1;32m--> 859\u001b[1;33m             \u001b[0muse_cache\u001b[0m\u001b[1;33m=\u001b[0m\u001b[0muse_cache\u001b[0m\u001b[1;33m,\u001b[0m\u001b[1;33m\u001b[0m\u001b[1;33m\u001b[0m\u001b[0m\n\u001b[0m\u001b[0;32m    860\u001b[0m         )\n\u001b[0;32m    861\u001b[0m \u001b[1;33m\u001b[0m\u001b[0m\n",
      "\u001b[1;32m~\\anaconda3\\lib\\site-packages\\torch\\nn\\modules\\module.py\u001b[0m in \u001b[0;36m__call__\u001b[1;34m(self, *input, **kwargs)\u001b[0m\n\u001b[0;32m    548\u001b[0m             \u001b[0mresult\u001b[0m \u001b[1;33m=\u001b[0m \u001b[0mself\u001b[0m\u001b[1;33m.\u001b[0m\u001b[0m_slow_forward\u001b[0m\u001b[1;33m(\u001b[0m\u001b[1;33m*\u001b[0m\u001b[0minput\u001b[0m\u001b[1;33m,\u001b[0m \u001b[1;33m**\u001b[0m\u001b[0mkwargs\u001b[0m\u001b[1;33m)\u001b[0m\u001b[1;33m\u001b[0m\u001b[1;33m\u001b[0m\u001b[0m\n\u001b[0;32m    549\u001b[0m         \u001b[1;32melse\u001b[0m\u001b[1;33m:\u001b[0m\u001b[1;33m\u001b[0m\u001b[1;33m\u001b[0m\u001b[0m\n\u001b[1;32m--> 550\u001b[1;33m             \u001b[0mresult\u001b[0m \u001b[1;33m=\u001b[0m \u001b[0mself\u001b[0m\u001b[1;33m.\u001b[0m\u001b[0mforward\u001b[0m\u001b[1;33m(\u001b[0m\u001b[1;33m*\u001b[0m\u001b[0minput\u001b[0m\u001b[1;33m,\u001b[0m \u001b[1;33m**\u001b[0m\u001b[0mkwargs\u001b[0m\u001b[1;33m)\u001b[0m\u001b[1;33m\u001b[0m\u001b[1;33m\u001b[0m\u001b[0m\n\u001b[0m\u001b[0;32m    551\u001b[0m         \u001b[1;32mfor\u001b[0m \u001b[0mhook\u001b[0m \u001b[1;32min\u001b[0m \u001b[0mself\u001b[0m\u001b[1;33m.\u001b[0m\u001b[0m_forward_hooks\u001b[0m\u001b[1;33m.\u001b[0m\u001b[0mvalues\u001b[0m\u001b[1;33m(\u001b[0m\u001b[1;33m)\u001b[0m\u001b[1;33m:\u001b[0m\u001b[1;33m\u001b[0m\u001b[1;33m\u001b[0m\u001b[0m\n\u001b[0;32m    552\u001b[0m             \u001b[0mhook_result\u001b[0m \u001b[1;33m=\u001b[0m \u001b[0mhook\u001b[0m\u001b[1;33m(\u001b[0m\u001b[0mself\u001b[0m\u001b[1;33m,\u001b[0m \u001b[0minput\u001b[0m\u001b[1;33m,\u001b[0m \u001b[0mresult\u001b[0m\u001b[1;33m)\u001b[0m\u001b[1;33m\u001b[0m\u001b[1;33m\u001b[0m\u001b[0m\n",
      "\u001b[1;32m~\\AppData\\Roaming\\Python\\Python37\\site-packages\\transformers\\modeling_bart.py\u001b[0m in \u001b[0;36mforward\u001b[1;34m(self, input_ids, encoder_hidden_states, encoder_padding_mask, decoder_padding_mask, decoder_causal_mask, decoder_cached_states, use_cache, output_attentions, output_hidden_states, **unused)\u001b[0m\n\u001b[0;32m    481\u001b[0m \u001b[1;33m\u001b[0m\u001b[0m\n\u001b[0;32m    482\u001b[0m         \u001b[1;31m# embed positions\u001b[0m\u001b[1;33m\u001b[0m\u001b[1;33m\u001b[0m\u001b[1;33m\u001b[0m\u001b[0m\n\u001b[1;32m--> 483\u001b[1;33m         \u001b[0mpositions\u001b[0m \u001b[1;33m=\u001b[0m \u001b[0mself\u001b[0m\u001b[1;33m.\u001b[0m\u001b[0membed_positions\u001b[0m\u001b[1;33m(\u001b[0m\u001b[0minput_ids\u001b[0m\u001b[1;33m,\u001b[0m \u001b[0muse_cache\u001b[0m\u001b[1;33m=\u001b[0m\u001b[0muse_cache\u001b[0m\u001b[1;33m)\u001b[0m\u001b[1;33m\u001b[0m\u001b[1;33m\u001b[0m\u001b[0m\n\u001b[0m\u001b[0;32m    484\u001b[0m \u001b[1;33m\u001b[0m\u001b[0m\n\u001b[0;32m    485\u001b[0m         \u001b[1;32mif\u001b[0m \u001b[0muse_cache\u001b[0m\u001b[1;33m:\u001b[0m\u001b[1;33m\u001b[0m\u001b[1;33m\u001b[0m\u001b[0m\n",
      "\u001b[1;32m~\\anaconda3\\lib\\site-packages\\torch\\nn\\modules\\module.py\u001b[0m in \u001b[0;36m__call__\u001b[1;34m(self, *input, **kwargs)\u001b[0m\n\u001b[0;32m    548\u001b[0m             \u001b[0mresult\u001b[0m \u001b[1;33m=\u001b[0m \u001b[0mself\u001b[0m\u001b[1;33m.\u001b[0m\u001b[0m_slow_forward\u001b[0m\u001b[1;33m(\u001b[0m\u001b[1;33m*\u001b[0m\u001b[0minput\u001b[0m\u001b[1;33m,\u001b[0m \u001b[1;33m**\u001b[0m\u001b[0mkwargs\u001b[0m\u001b[1;33m)\u001b[0m\u001b[1;33m\u001b[0m\u001b[1;33m\u001b[0m\u001b[0m\n\u001b[0;32m    549\u001b[0m         \u001b[1;32melse\u001b[0m\u001b[1;33m:\u001b[0m\u001b[1;33m\u001b[0m\u001b[1;33m\u001b[0m\u001b[0m\n\u001b[1;32m--> 550\u001b[1;33m             \u001b[0mresult\u001b[0m \u001b[1;33m=\u001b[0m \u001b[0mself\u001b[0m\u001b[1;33m.\u001b[0m\u001b[0mforward\u001b[0m\u001b[1;33m(\u001b[0m\u001b[1;33m*\u001b[0m\u001b[0minput\u001b[0m\u001b[1;33m,\u001b[0m \u001b[1;33m**\u001b[0m\u001b[0mkwargs\u001b[0m\u001b[1;33m)\u001b[0m\u001b[1;33m\u001b[0m\u001b[1;33m\u001b[0m\u001b[0m\n\u001b[0m\u001b[0;32m    551\u001b[0m         \u001b[1;32mfor\u001b[0m \u001b[0mhook\u001b[0m \u001b[1;32min\u001b[0m \u001b[0mself\u001b[0m\u001b[1;33m.\u001b[0m\u001b[0m_forward_hooks\u001b[0m\u001b[1;33m.\u001b[0m\u001b[0mvalues\u001b[0m\u001b[1;33m(\u001b[0m\u001b[1;33m)\u001b[0m\u001b[1;33m:\u001b[0m\u001b[1;33m\u001b[0m\u001b[1;33m\u001b[0m\u001b[0m\n\u001b[0;32m    552\u001b[0m             \u001b[0mhook_result\u001b[0m \u001b[1;33m=\u001b[0m \u001b[0mhook\u001b[0m\u001b[1;33m(\u001b[0m\u001b[0mself\u001b[0m\u001b[1;33m,\u001b[0m \u001b[0minput\u001b[0m\u001b[1;33m,\u001b[0m \u001b[0mresult\u001b[0m\u001b[1;33m)\u001b[0m\u001b[1;33m\u001b[0m\u001b[1;33m\u001b[0m\u001b[0m\n",
      "\u001b[1;32m~\\anaconda3\\lib\\site-packages\\torch\\autograd\\grad_mode.py\u001b[0m in \u001b[0;36mdecorate_context\u001b[1;34m(*args, **kwargs)\u001b[0m\n\u001b[0;32m     13\u001b[0m         \u001b[1;32mdef\u001b[0m \u001b[0mdecorate_context\u001b[0m\u001b[1;33m(\u001b[0m\u001b[1;33m*\u001b[0m\u001b[0margs\u001b[0m\u001b[1;33m,\u001b[0m \u001b[1;33m**\u001b[0m\u001b[0mkwargs\u001b[0m\u001b[1;33m)\u001b[0m\u001b[1;33m:\u001b[0m\u001b[1;33m\u001b[0m\u001b[1;33m\u001b[0m\u001b[0m\n\u001b[0;32m     14\u001b[0m             \u001b[1;32mwith\u001b[0m \u001b[0mself\u001b[0m\u001b[1;33m:\u001b[0m\u001b[1;33m\u001b[0m\u001b[1;33m\u001b[0m\u001b[0m\n\u001b[1;32m---> 15\u001b[1;33m                 \u001b[1;32mreturn\u001b[0m \u001b[0mfunc\u001b[0m\u001b[1;33m(\u001b[0m\u001b[1;33m*\u001b[0m\u001b[0margs\u001b[0m\u001b[1;33m,\u001b[0m \u001b[1;33m**\u001b[0m\u001b[0mkwargs\u001b[0m\u001b[1;33m)\u001b[0m\u001b[1;33m\u001b[0m\u001b[1;33m\u001b[0m\u001b[0m\n\u001b[0m\u001b[0;32m     16\u001b[0m         \u001b[1;32mreturn\u001b[0m \u001b[0mdecorate_context\u001b[0m\u001b[1;33m\u001b[0m\u001b[1;33m\u001b[0m\u001b[0m\n\u001b[0;32m     17\u001b[0m \u001b[1;33m\u001b[0m\u001b[0m\n",
      "\u001b[1;32m~\\AppData\\Roaming\\Python\\Python37\\site-packages\\transformers\\modeling_bart.py\u001b[0m in \u001b[0;36mforward\u001b[1;34m(self, input_ids, use_cache)\u001b[0m\n\u001b[0;32m   1273\u001b[0m     \u001b[1;32mdef\u001b[0m \u001b[0mforward\u001b[0m\u001b[1;33m(\u001b[0m\u001b[0mself\u001b[0m\u001b[1;33m,\u001b[0m \u001b[0minput_ids\u001b[0m\u001b[1;33m,\u001b[0m \u001b[0muse_cache\u001b[0m\u001b[1;33m=\u001b[0m\u001b[1;32mFalse\u001b[0m\u001b[1;33m)\u001b[0m\u001b[1;33m:\u001b[0m\u001b[1;33m\u001b[0m\u001b[1;33m\u001b[0m\u001b[0m\n\u001b[0;32m   1274\u001b[0m         \u001b[1;34m\"\"\"Input is expected to be of size [bsz x seqlen].\"\"\"\u001b[0m\u001b[1;33m\u001b[0m\u001b[1;33m\u001b[0m\u001b[0m\n\u001b[1;32m-> 1275\u001b[1;33m         \u001b[0mbsz\u001b[0m\u001b[1;33m,\u001b[0m \u001b[0mseq_len\u001b[0m \u001b[1;33m=\u001b[0m \u001b[0minput_ids\u001b[0m\u001b[1;33m.\u001b[0m\u001b[0mshape\u001b[0m\u001b[1;33m[\u001b[0m\u001b[1;33m:\u001b[0m\u001b[1;36m2\u001b[0m\u001b[1;33m]\u001b[0m\u001b[1;33m\u001b[0m\u001b[1;33m\u001b[0m\u001b[0m\n\u001b[0m\u001b[0;32m   1276\u001b[0m         \u001b[1;32mif\u001b[0m \u001b[0muse_cache\u001b[0m\u001b[1;33m:\u001b[0m\u001b[1;33m\u001b[0m\u001b[1;33m\u001b[0m\u001b[0m\n\u001b[0;32m   1277\u001b[0m             \u001b[0mpositions\u001b[0m \u001b[1;33m=\u001b[0m \u001b[0minput_ids\u001b[0m\u001b[1;33m.\u001b[0m\u001b[0mdata\u001b[0m\u001b[1;33m.\u001b[0m\u001b[0mnew\u001b[0m\u001b[1;33m(\u001b[0m\u001b[1;36m1\u001b[0m\u001b[1;33m,\u001b[0m \u001b[1;36m1\u001b[0m\u001b[1;33m)\u001b[0m\u001b[1;33m.\u001b[0m\u001b[0mfill_\u001b[0m\u001b[1;33m(\u001b[0m\u001b[0mseq_len\u001b[0m \u001b[1;33m-\u001b[0m \u001b[1;36m1\u001b[0m\u001b[1;33m)\u001b[0m  \u001b[1;31m# called before slicing\u001b[0m\u001b[1;33m\u001b[0m\u001b[1;33m\u001b[0m\u001b[0m\n",
      "\u001b[1;31mValueError\u001b[0m: not enough values to unpack (expected 2, got 1)"
     ]
    }
   ],
   "source": [
    "input_ids = en_ROMANCE_tokenizer.encode('>>es<< This is a phrase we want to translate into Spanish', return_tensors=\"pt\")\n",
    "batch = en_ROMANCE_tokenizer.prepare_translation_batch(['>>es<< This is a phrase we want to translate into Spanish'])\n",
    "english_encoded = en_ROMANCE.get_encoder()(**batch)\n",
    "\n",
    "past = (english_encoded, None)\n",
    "\n",
    "model_inputs = en_ROMANCE.prepare_inputs_for_generation(\n",
    "    partial_decode, past=past, attention_mask=batch['attention_mask'], use_cache=en_ROMANCE.config.use_cache\n",
    ")\n",
    "with torch.no_grad():\n",
    "    model_outputs = en_ROMANCE(**model_inputs)\n",
    "    \n",
    "next_token_logits = model_outputs[0][:, -1, :]\n",
    "past = model_outputs[1]\n",
    "\n",
    "next_token_to_add = next_token_logits[0].argmax()\n",
    "partial_decode = torch.cat((partial_decode, next_token_to_add.unsqueeze(0).unsqueeze(0)), -1)\n"
   ]
  },
  {
   "cell_type": "code",
   "execution_count": 681,
   "metadata": {},
   "outputs": [],
   "source": [
    "ROMANCE_en_model_name = 'Helsinki-NLP/opus-mt-ROMANCE-en'\n",
    "ROMANCE_en_tokenizer = MarianTokenizer.from_pretrained(ROMANCE_en_model_name)\n",
    "ROMANCE_en = MarianMTModel.from_pretrained(ROMANCE_en_model_name)"
   ]
  },
  {
   "cell_type": "code",
   "execution_count": 685,
   "metadata": {
    "scrolled": true
   },
   "outputs": [
    {
     "name": "stdout",
     "output_type": "stream",
     "text": [
      "tensor([[65000]])\n",
      "0 :  tensor(9999)\n",
      "tensor([[65000,  9999]])\n",
      "1 :  tensor(55)\n",
      "tensor([[65000,  9999,    55]])\n",
      "tensor([[65000,  9999,    55,     3]])\n",
      "tensor([[65000,  9999,    55,     3,     0]])\n",
      " Hola. Hola\n"
     ]
    },
    {
     "data": {
      "text/plain": [
       "' (▁felt.'"
      ]
     },
     "execution_count": 685,
     "metadata": {},
     "output_type": "execute_result"
    }
   ],
   "source": [
    "\n",
    "\n",
    "tokenizer = en_ROMANCE_tokenizer\n",
    "model = en_ROMANCE\n",
    "#tokenizer = ROMANCE_en_tokenizer\n",
    "#model = ROMANCE_en\n",
    "\n",
    "\n",
    "english = \">>es<<Hello\"\n",
    "batch = tokenizer.prepare_translation_batch([english])\n",
    "english_encoded = model.get_encoder()(**batch)\n",
    "decoder_start_token = model.config.decoder_start_token_id\n",
    "\n",
    "starting_word = tokenizer.convert_tokens_to_ids(tokenizer.tokenize(\"Hola\"))\n",
    "#starting_word = tokenizer.encode(\"A la\")\n",
    "\n",
    "partial_decode = torch.LongTensor([decoder_start_token]).unsqueeze(0)\n",
    "past = (english_encoded, None)\n",
    "\n",
    "prefix = torch.LongTensor(starting_word)\n",
    "#prefix = torch.LongTensor(tokenizer.convert_tokens_to_ids(\"A la\".replace(' ', '▁').split('▁')))\n",
    "#prefix = torch.LongTensor(tokenizer.encode(\"A la\"))\n",
    "#prefix = torch.LongTensor(tokenizer.encode(\"A▁la▁\"))\n",
    "\n",
    "for x in range (0, 5):\n",
    "    print(partial_decode)\n",
    "    model_inputs = model.prepare_inputs_for_generation(\n",
    "    partial_decode, past=past, attention_mask=batch['attention_mask'], use_cache=model.config.use_cache\n",
    "    )\n",
    "    with torch.no_grad():\n",
    "        model_outputs = model(**model_inputs)\n",
    "\n",
    "    next_token_logits = model_outputs[0][:, -1, :]\n",
    "    past = model_outputs[1]\n",
    "    \n",
    "    if x < len(prefix):\n",
    "        next_token_to_add = prefix[x]\n",
    "        print(x, \": \", next_token_to_add)\n",
    "    else:\n",
    "        next_token_to_add = next_token_logits[0].argmax()\n",
    "    \n",
    "    partial_decode = torch.cat((partial_decode, next_token_to_add.unsqueeze(0).unsqueeze(0)), -1)\n",
    "        \n",
    "\n",
    "final = tokenizer.decode(partial_decode[0]).split(\"<pad>\")[1]\n",
    "print(final)\n",
    "\n",
    "batch2 = ROMANCE_en_tokenizer.prepare_translation_batch([\">>en<< \" + final])\n",
    "spanish_to_english = ROMANCE_en.generate(**batch2)\n",
    "new_english = tokenizer.decode(spanish_to_english[0]).split(\"<pad>\")[1]\n",
    "\n",
    "new_english"
   ]
  },
  {
   "cell_type": "code",
   "execution_count": 686,
   "metadata": {},
   "outputs": [
    {
     "data": {
      "text/plain": [
       "{'input_ids': tensor([[    1, 10467,     3, 10467,     0]]), 'attention_mask': tensor([[1, 1, 1, 1, 1]])}"
      ]
     },
     "execution_count": 686,
     "metadata": {},
     "output_type": "execute_result"
    }
   ],
   "source": [
    "batch2"
   ]
  },
  {
   "cell_type": "code",
   "execution_count": 694,
   "metadata": {},
   "outputs": [],
   "source": [
    "batch = ROMANCE_en_tokenizer.prepare_translation_batch([\">>en<< Hola\"])\n",
    "spanish_to_english = ROMANCE_en.generate(**batch)\n",
    "machine_translation = ROMANCE_en_tokenizer.decode(spanish_to_english[0]).split(\"<pad>\")[1]"
   ]
  },
  {
   "cell_type": "code",
   "execution_count": 695,
   "metadata": {},
   "outputs": [
    {
     "data": {
      "text/plain": [
       "' - Hello.'"
      ]
     },
     "execution_count": 695,
     "metadata": {},
     "output_type": "execute_result"
    }
   ],
   "source": [
    "machine_translation"
   ]
  },
  {
   "cell_type": "code",
   "execution_count": 495,
   "metadata": {},
   "outputs": [
    {
     "data": {
      "text/plain": [
       "['A', 'la']"
      ]
     },
     "execution_count": 495,
     "metadata": {},
     "output_type": "execute_result"
    }
   ],
   "source": [
    "\"A la\".replace(' ', '▁').split('▁')"
   ]
  },
  {
   "cell_type": "code",
   "execution_count": 664,
   "metadata": {},
   "outputs": [
    {
     "data": {
      "text/plain": [
       "[67, 11, 0]"
      ]
     },
     "execution_count": 664,
     "metadata": {},
     "output_type": "execute_result"
    }
   ],
   "source": [
    "tokenizer.encode(\"A la\")"
   ]
  },
  {
   "cell_type": "code",
   "execution_count": 665,
   "metadata": {},
   "outputs": [
    {
     "data": {
      "text/plain": [
       "[67, 11]"
      ]
     },
     "execution_count": 665,
     "metadata": {},
     "output_type": "execute_result"
    }
   ],
   "source": [
    "tokenizer.convert_tokens_to_ids(tokenizer.tokenize(\"A la\"))"
   ]
  },
  {
   "cell_type": "code",
   "execution_count": 537,
   "metadata": {},
   "outputs": [
    {
     "data": {
      "text/plain": [
       "['A', '▁la', '▁tienda']"
      ]
     },
     "execution_count": 537,
     "metadata": {},
     "output_type": "execute_result"
    }
   ],
   "source": [
    "line = \"A la tienda\".split(' ')\n",
    "first = [line[0]]\n",
    "s =  ['▁'+e for e in line if line.index(e)>0]\n",
    "\n",
    "for item in s:\n",
    "    first.append(item)\n",
    "    \n",
    "first"
   ]
  },
  {
   "cell_type": "code",
   "execution_count": 638,
   "metadata": {},
   "outputs": [
    {
     "data": {
      "text/plain": [
       "['▁Las', '▁man', 'zan', 'as', '</s>']"
      ]
     },
     "execution_count": 638,
     "metadata": {},
     "output_type": "execute_result"
    }
   ],
   "source": [
    "en = tokenizer.encode(\"Las manzanas\")\n",
    "thelist = []\n",
    "for token in en:\n",
    "    h = tokenizer.convert_ids_to_tokens(token)\n",
    "    thelist.append(h)\n",
    "thelist"
   ]
  },
  {
   "cell_type": "code",
   "execution_count": 557,
   "metadata": {},
   "outputs": [
    {
     "data": {
      "text/plain": [
       "[939, 476, 9364, 410, 0]"
      ]
     },
     "execution_count": 557,
     "metadata": {},
     "output_type": "execute_result"
    }
   ],
   "source": [
    "tokenizer.convert_tokens_to_ids(thelist)"
   ]
  },
  {
   "cell_type": "code",
   "execution_count": 558,
   "metadata": {},
   "outputs": [
    {
     "data": {
      "text/plain": [
       "[939, 476, 9364, 410, 0]"
      ]
     },
     "execution_count": 558,
     "metadata": {},
     "output_type": "execute_result"
    }
   ],
   "source": [
    "tokenizer.encode(\"Las manzanas\")"
   ]
  },
  {
   "cell_type": "code",
   "execution_count": 559,
   "metadata": {},
   "outputs": [
    {
     "data": {
      "text/plain": [
       "'Las'"
      ]
     },
     "execution_count": 559,
     "metadata": {},
     "output_type": "execute_result"
    }
   ],
   "source": [
    "tokenizer.decode(torch.Tensor([21147]))"
   ]
  },
  {
   "cell_type": "code",
   "execution_count": 675,
   "metadata": {},
   "outputs": [
    {
     "data": {
      "text/plain": [
       "'</s>'"
      ]
     },
     "execution_count": 675,
     "metadata": {},
     "output_type": "execute_result"
    }
   ],
   "source": [
    "tokenizer.convert_ids_to_tokens(0)"
   ]
  },
  {
   "cell_type": "code",
   "execution_count": 430,
   "metadata": {},
   "outputs": [
    {
     "data": {
      "text/plain": [
       "tensor([65000,    67,    11,     0])"
      ]
     },
     "execution_count": 430,
     "metadata": {},
     "output_type": "execute_result"
    }
   ],
   "source": [
    "tokenizer.encode(\"<pad>A la\", return_tensors=\"pt\")[0]"
   ]
  },
  {
   "cell_type": "code",
   "execution_count": 647,
   "metadata": {},
   "outputs": [
    {
     "data": {
      "text/plain": [
       "[67, 11, 0]"
      ]
     },
     "execution_count": 647,
     "metadata": {},
     "output_type": "execute_result"
    }
   ],
   "source": [
    "tokenizer.encode(\"A la\")"
   ]
  },
  {
   "cell_type": "code",
   "execution_count": 648,
   "metadata": {},
   "outputs": [
    {
     "data": {
      "text/plain": [
       "[1]"
      ]
     },
     "execution_count": 648,
     "metadata": {},
     "output_type": "execute_result"
    }
   ],
   "source": [
    "tokenizer.convert_tokens_to_ids([\"A\", \"la\"])"
   ]
  },
  {
   "cell_type": "code",
   "execution_count": 428,
   "metadata": {},
   "outputs": [
    {
     "data": {
      "text/plain": [
       "18103"
      ]
     },
     "execution_count": 428,
     "metadata": {},
     "output_type": "execute_result"
    }
   ],
   "source": [
    "tokenizer.convert_tokens_to_ids(\" tienda\".replace(' ', '▁'))"
   ]
  },
  {
   "cell_type": "code",
   "execution_count": 667,
   "metadata": {},
   "outputs": [
    {
     "data": {
      "text/plain": [
       "'.'"
      ]
     },
     "execution_count": 667,
     "metadata": {},
     "output_type": "execute_result"
    }
   ],
   "source": [
    "tokenizer.convert_ids_to_tokens(3)"
   ]
  },
  {
   "cell_type": "code",
   "execution_count": 655,
   "metadata": {},
   "outputs": [
    {
     "data": {
      "text/plain": [
       "['▁Man', 'zan', 'as']"
      ]
     },
     "execution_count": 655,
     "metadata": {},
     "output_type": "execute_result"
    }
   ],
   "source": [
    "tokenizer.tokenize(\"Manzanas\")"
   ]
  },
  {
   "cell_type": "code",
   "execution_count": 276,
   "metadata": {},
   "outputs": [],
   "source": [
    "model.prepare_inputs_for_generation??"
   ]
  },
  {
   "cell_type": "code",
   "execution_count": 277,
   "metadata": {},
   "outputs": [],
   "source": [
    "model.model??"
   ]
  },
  {
   "cell_type": "code",
   "execution_count": 258,
   "metadata": {},
   "outputs": [
    {
     "data": {
      "text/plain": [
       "'<pad> Corr a la tienda de la tienda a'"
      ]
     },
     "execution_count": 258,
     "metadata": {},
     "output_type": "execute_result"
    }
   ],
   "source": [
    "final"
   ]
  },
  {
   "cell_type": "code",
   "execution_count": 259,
   "metadata": {},
   "outputs": [
    {
     "data": {
      "text/plain": [
       "tensor([[65000, 10509,     9,    11, 18103,     5,    11, 18103,     9]])"
      ]
     },
     "execution_count": 259,
     "metadata": {},
     "output_type": "execute_result"
    }
   ],
   "source": [
    "partial_decode"
   ]
  },
  {
   "cell_type": "code",
   "execution_count": 261,
   "metadata": {},
   "outputs": [
    {
     "data": {
      "text/plain": [
       "'<pad> Corrí a la tienda.'"
      ]
     },
     "execution_count": 261,
     "metadata": {},
     "output_type": "execute_result"
    }
   ],
   "source": [
    "final"
   ]
  },
  {
   "cell_type": "code",
   "execution_count": 262,
   "metadata": {},
   "outputs": [
    {
     "data": {
      "text/plain": [
       "tensor([[65000, 10509,   620,     9,    11, 18103,     3,     0]])"
      ]
     },
     "execution_count": 262,
     "metadata": {},
     "output_type": "execute_result"
    }
   ],
   "source": [
    "partial_decode"
   ]
  },
  {
   "cell_type": "code",
   "execution_count": 256,
   "metadata": {},
   "outputs": [
    {
     "data": {
      "text/plain": [
       "{'input_ids': tensor([[  16,   22, 7159,   12,    4, 5971,    3,    0]]), 'attention_mask': tensor([[1, 1, 1, 1, 1, 1, 1, 1]])}"
      ]
     },
     "execution_count": 256,
     "metadata": {},
     "output_type": "execute_result"
    }
   ],
   "source": [
    "batch"
   ]
  },
  {
   "cell_type": "code",
   "execution_count": 257,
   "metadata": {},
   "outputs": [
    {
     "data": {
      "text/plain": [
       "(tensor([[[-1.8868e-01,  1.5954e-02,  5.3438e-02,  ...,  1.0132e+00,\n",
       "            1.2336e-01, -2.1607e-02],\n",
       "          [-6.8476e-01,  2.5475e-02, -2.3553e-01,  ...,  1.6161e+00,\n",
       "           -5.6394e-01,  2.3299e-02],\n",
       "          [-6.0008e-01,  1.3130e-01,  5.9747e-02,  ...,  1.7662e+00,\n",
       "           -2.7124e-01,  1.7678e-01],\n",
       "          ...,\n",
       "          [-4.6728e-01, -1.4575e-01,  1.3083e-01,  ...,  1.6113e+00,\n",
       "           -1.8874e-01,  1.1142e-01],\n",
       "          [-1.4793e-02,  8.9173e-03, -1.9321e-01,  ...,  1.4010e+00,\n",
       "           -3.5746e-01,  4.0463e-01],\n",
       "          [-1.9166e-01,  1.9024e-04,  7.7792e-03,  ...,  8.7008e-01,\n",
       "            6.2007e-02, -1.4011e-01]]], grad_fn=<TransposeBackward0>),\n",
       " [],\n",
       " [])"
      ]
     },
     "execution_count": 257,
     "metadata": {},
     "output_type": "execute_result"
    }
   ],
   "source": [
    "english_encoded"
   ]
  },
  {
   "cell_type": "code",
   "execution_count": 248,
   "metadata": {},
   "outputs": [],
   "source": [
    "model.prepare_inputs_for_generation??"
   ]
  },
  {
   "cell_type": "code",
   "execution_count": 255,
   "metadata": {},
   "outputs": [
    {
     "data": {
      "text/plain": [
       "tensor([[1, 1, 1, 1, 1, 1, 1, 1]])"
      ]
     },
     "execution_count": 255,
     "metadata": {},
     "output_type": "execute_result"
    }
   ],
   "source": [
    "batch['attention_mask']"
   ]
  },
  {
   "cell_type": "code",
   "execution_count": 247,
   "metadata": {},
   "outputs": [
    {
     "data": {
      "text/plain": [
       "((tensor([[[-1.8868e-01,  1.5954e-02,  5.3438e-02,  ...,  1.0132e+00,\n",
       "             1.2336e-01, -2.1607e-02],\n",
       "           [-6.8476e-01,  2.5475e-02, -2.3553e-01,  ...,  1.6161e+00,\n",
       "            -5.6394e-01,  2.3299e-02],\n",
       "           [-6.0008e-01,  1.3130e-01,  5.9747e-02,  ...,  1.7662e+00,\n",
       "            -2.7124e-01,  1.7678e-01],\n",
       "           ...,\n",
       "           [-4.6728e-01, -1.4575e-01,  1.3083e-01,  ...,  1.6113e+00,\n",
       "            -1.8874e-01,  1.1142e-01],\n",
       "           [-1.4793e-02,  8.9173e-03, -1.9321e-01,  ...,  1.4010e+00,\n",
       "            -3.5746e-01,  4.0463e-01],\n",
       "           [-1.9166e-01,  1.9024e-04,  7.7792e-03,  ...,  8.7008e-01,\n",
       "             6.2007e-02, -1.4011e-01]]], requires_grad=True),\n",
       "  tensor([[False, False, False, False, False, False, False, False]])),\n",
       " [{'self': {'prev_key': tensor([[[[ 1.6233,  0.3699,  1.2587,  ...,  0.8627,  0.0221, -0.6690],\n",
       "              [-0.3883,  0.2948,  0.9705,  ...,  1.7831,  1.7119, -1.4530],\n",
       "              [ 2.5376,  1.4050, -0.0922,  ...,  0.9905,  1.8753, -1.8672],\n",
       "              ...,\n",
       "              [ 0.9757,  2.4738,  2.5301,  ..., -2.1750,  0.9570, -0.6573],\n",
       "              [ 2.0312,  0.7250, -0.0298,  ...,  0.8629,  2.1353, -0.7449],\n",
       "              [ 0.6834, -0.3696,  2.0132,  ...,  2.0692,  2.5087, -0.4283]],\n",
       "    \n",
       "             [[ 0.4893,  0.8447,  0.1054,  ...,  1.4244,  0.1259, -0.2422],\n",
       "              [ 2.2704,  1.0475, -0.2801,  ..., -0.4314,  1.5674, -0.2982],\n",
       "              [ 1.6469,  0.2706, -1.3272,  ..., -0.4387,  0.1276, -0.8692],\n",
       "              ...,\n",
       "              [ 0.4621,  2.1363, -0.8835,  ..., -0.0933, -0.9008, -1.9832],\n",
       "              [-0.4413,  0.8059, -0.9339,  ..., -1.6150,  0.4695, -0.8284],\n",
       "              [-2.3891,  0.2860,  0.1322,  ..., -1.4590,  0.2830, -0.1451]],\n",
       "    \n",
       "             [[ 1.6000, -1.9833, -0.4249,  ...,  1.3308, -0.4701, -1.3207],\n",
       "              [ 2.0407, -2.5413, -1.8074,  ...,  1.0797,  2.3852, -0.5801],\n",
       "              [ 2.7581, -3.8129, -0.1732,  ..., -1.3290,  3.6635, -2.1766],\n",
       "              ...,\n",
       "              [ 0.3014, -2.3689,  0.7847,  ..., -3.1945,  0.2712, -3.5014],\n",
       "              [ 1.0439, -0.3890,  1.9625,  ..., -5.1196,  0.9381, -3.3681],\n",
       "              [-0.1147,  1.4766,  1.8638,  ..., -2.5325,  0.8990, -3.3911]],\n",
       "    \n",
       "             ...,\n",
       "    \n",
       "             [[-0.2776,  0.6476, -0.3656,  ..., -0.9417,  0.8216,  2.2871],\n",
       "              [-0.8893,  0.7143,  0.6965,  ..., -1.2366, -0.3020, -0.7564],\n",
       "              [-2.0637,  1.3115, -0.5327,  ...,  0.3552, -0.4347, -2.2814],\n",
       "              ...,\n",
       "              [-1.0820,  0.0361, -1.5500,  ...,  1.4242,  0.0656, -2.6629],\n",
       "              [-1.1678,  1.1364, -1.3467,  ...,  0.6182, -0.8733, -1.5436],\n",
       "              [ 1.1285, -0.0958, -1.1114,  ...,  0.5855, -1.9586, -3.2336]],\n",
       "    \n",
       "             [[-1.7832,  0.1903, -1.2662,  ...,  1.2235, -2.1297, -0.7691],\n",
       "              [-0.7061,  1.1916, -0.7021,  ...,  0.4504, -1.0613, -0.1183],\n",
       "              [-0.2567, -0.4232, -0.3061,  ...,  0.5512, -0.0166, -0.0884],\n",
       "              ...,\n",
       "              [-0.3282, -0.0294, -0.4266,  ..., -0.1100,  0.6054,  0.0601],\n",
       "              [ 0.0679, -1.2062, -0.1567,  ..., -0.2803,  0.6233,  0.2358],\n",
       "              [-0.2976, -0.0911,  0.4628,  ..., -0.3751,  0.6121, -1.2402]],\n",
       "    \n",
       "             [[-0.2265,  0.0817,  0.8570,  ...,  0.1011,  0.8082,  0.0635],\n",
       "              [-0.8493, -0.1692,  1.9335,  ...,  3.0381,  1.7692, -0.2856],\n",
       "              [ 0.8435, -1.6907,  1.7439,  ...,  2.8314,  1.6035,  1.1658],\n",
       "              ...,\n",
       "              [ 0.5340, -2.4562,  2.3948,  ...,  0.8291, -0.9432,  0.6035],\n",
       "              [ 1.9790, -0.3964,  1.5003,  ...,  1.7290,  1.5234,  0.2072],\n",
       "              [ 0.2975,  3.7038,  0.5188,  ...,  0.4459,  1.8064,  1.0454]]]]),\n",
       "    'prev_value': tensor([[[[ 3.3048e-01,  9.6493e-01,  1.3373e+00,  ...,  1.0831e+00,\n",
       "               -2.7297e-01, -1.1509e+00],\n",
       "              [-8.6687e-01, -2.3155e-01,  7.3599e-01,  ..., -7.4140e-02,\n",
       "               -4.3332e-02, -8.0244e-01],\n",
       "              [-5.5380e-01, -6.8946e-01,  1.7750e-01,  ...,  1.3621e+00,\n",
       "                7.6772e-02, -3.3284e-01],\n",
       "              ...,\n",
       "              [-4.7794e-01, -4.7660e-01, -9.4728e-01,  ...,  1.0153e+00,\n",
       "                2.3630e-01,  5.0979e-01],\n",
       "              [-6.1324e-01, -4.8671e-01,  1.5007e-02,  ...,  1.3431e+00,\n",
       "                1.5540e-01, -2.5272e-01],\n",
       "              [-5.1432e-02,  4.4620e-01, -1.4310e-01,  ...,  5.4025e-01,\n",
       "               -5.4202e-01, -3.0012e-01]],\n",
       "    \n",
       "             [[ 1.4509e+00,  2.5845e-01,  6.8803e-01,  ...,  1.7237e+00,\n",
       "               -4.2567e-01, -1.0880e+00],\n",
       "              [ 1.5591e-01,  8.1263e-01, -2.1144e-01,  ...,  1.7601e-01,\n",
       "               -2.0383e-02, -3.9107e-01],\n",
       "              [ 1.3171e-01, -2.5465e-01,  8.2866e-01,  ...,  3.5842e-01,\n",
       "               -6.5608e-01,  3.5338e-01],\n",
       "              ...,\n",
       "              [ 4.0453e-01,  5.1559e-01, -4.3156e-01,  ..., -1.4739e-01,\n",
       "                1.4723e-01, -4.0440e-01],\n",
       "              [-7.7891e-02, -1.7805e-01,  7.8516e-01,  ...,  3.3775e-01,\n",
       "               -4.8643e-01,  4.7389e-01],\n",
       "              [ 1.7670e-01, -1.4669e-01,  2.5732e-01,  ..., -2.6660e-01,\n",
       "                4.0108e-01,  7.7674e-01]],\n",
       "    \n",
       "             [[-7.8274e-01, -9.3463e-01, -7.0804e-01,  ..., -1.5543e+00,\n",
       "               -2.3159e-01, -2.2040e+00],\n",
       "              [ 1.3088e+00, -1.6126e+00,  6.1198e-01,  ...,  1.9432e+00,\n",
       "                1.3366e+00,  1.3121e+00],\n",
       "              [ 2.8088e-01,  1.4343e+00, -2.7710e-01,  ...,  2.6919e-01,\n",
       "               -2.5788e-01,  2.0398e+00],\n",
       "              ...,\n",
       "              [ 1.3999e+00,  2.1009e-01,  1.0324e+00,  ..., -2.1074e+00,\n",
       "               -2.3137e-01,  2.9700e-01],\n",
       "              [ 3.5674e-01,  1.3752e+00, -7.2140e-02,  ...,  1.3744e-01,\n",
       "               -6.8846e-02,  1.9785e+00],\n",
       "              [-6.5498e-01, -1.2675e+00,  1.8488e-01,  ...,  6.1215e-01,\n",
       "               -4.7093e-01,  5.4939e-02]],\n",
       "    \n",
       "             ...,\n",
       "    \n",
       "             [[ 1.0969e+00,  4.2122e-01,  7.3849e-01,  ..., -2.6477e-01,\n",
       "               -9.9584e-01,  5.9522e-01],\n",
       "              [ 9.1783e-01, -2.9301e-01,  1.4202e-01,  ..., -1.6935e+00,\n",
       "               -1.0447e+00,  5.7614e-01],\n",
       "              [-2.1713e-01, -2.0165e+00, -7.7994e-01,  ...,  1.2049e+00,\n",
       "               -2.5386e+00,  3.9300e-01],\n",
       "              ...,\n",
       "              [-5.0483e-01,  2.9676e-01, -9.8015e-01,  ...,  5.3624e-03,\n",
       "               -9.9572e-01, -7.8247e-01],\n",
       "              [-2.4913e-01, -1.9362e+00, -9.1031e-01,  ...,  1.1031e+00,\n",
       "               -2.6020e+00,  4.4282e-01],\n",
       "              [-1.5738e-01, -9.5562e-01,  1.2804e+00,  ..., -6.2537e-02,\n",
       "                6.9465e-02,  6.1334e-01]],\n",
       "    \n",
       "             [[ 5.3207e-01, -2.5679e-02,  5.0923e-01,  ...,  5.4463e-01,\n",
       "               -1.3252e+00, -2.1167e-01],\n",
       "              [-4.9919e-01,  1.7289e+00,  3.1454e-02,  ...,  2.6295e-01,\n",
       "                1.2929e-01,  1.4600e+00],\n",
       "              [ 8.7715e-02,  1.5203e-01, -9.3229e-01,  ...,  1.4107e-01,\n",
       "               -1.1031e-01,  8.2126e-01],\n",
       "              ...,\n",
       "              [-6.0428e-01,  1.1926e+00,  2.2634e-01,  ..., -2.6010e-01,\n",
       "                4.3388e-01,  3.8298e-01],\n",
       "              [ 1.7732e-01,  2.3159e-01, -9.7168e-01,  ...,  2.4327e-01,\n",
       "               -1.5631e-01,  7.2011e-01],\n",
       "              [ 3.1124e-01,  3.3203e-01,  2.3452e-01,  ...,  5.6448e-01,\n",
       "               -1.2184e+00, -8.6908e-01]],\n",
       "    \n",
       "             [[ 1.5319e+00, -2.1353e-02, -8.0783e-02,  ..., -5.2806e-01,\n",
       "               -5.3878e-01,  7.6383e-01],\n",
       "              [-4.8696e-01, -4.2178e-01, -3.3607e-01,  ...,  2.4601e-03,\n",
       "                2.4818e-01,  4.5515e-01],\n",
       "              [ 1.0082e+00, -4.5156e-01, -4.8470e-01,  ...,  1.2777e+00,\n",
       "               -4.6812e-01,  5.9823e-01],\n",
       "              ...,\n",
       "              [-1.8968e-01,  2.8912e-03, -2.3141e-01,  ...,  1.4534e+00,\n",
       "               -5.2512e-02,  5.4326e-01],\n",
       "              [ 9.9137e-01, -4.8688e-01, -6.1786e-01,  ...,  1.3250e+00,\n",
       "               -5.1708e-01,  2.4558e-01],\n",
       "              [ 4.5010e-01, -1.4934e-01, -8.9134e-02,  ...,  4.4155e-01,\n",
       "                1.3726e+00,  6.9562e-01]]]]),\n",
       "    'prev_key_padding_mask': None},\n",
       "   'encoder_decoder': {'prev_key': tensor([[[[ 1.1542e+00, -7.2687e-02,  6.6176e-01,  ...,  3.0544e-01,\n",
       "               -3.4046e-01,  2.9095e-03],\n",
       "              [ 5.7593e-02,  6.2830e-01,  1.8267e+00,  ...,  6.2265e-01,\n",
       "               -2.2743e+00, -2.3888e-01],\n",
       "              [ 1.1688e+00,  1.3731e-01,  1.3075e+00,  ..., -9.6187e-03,\n",
       "               -9.3575e-01, -4.6765e-01],\n",
       "              ...,\n",
       "              [ 1.1164e+00, -4.2384e-01,  1.6159e+00,  ..., -8.7039e-02,\n",
       "                2.6773e-01, -2.3578e-01],\n",
       "              [ 5.6821e-01,  7.2052e-01,  1.8954e+00,  ...,  1.2395e+00,\n",
       "               -7.2435e-01, -3.2776e-01],\n",
       "              [ 1.0245e+00,  5.5784e-01,  7.7124e-01,  ...,  4.9120e-01,\n",
       "               -1.5124e-01, -2.2399e-02]],\n",
       "    \n",
       "             [[-2.6232e-01, -4.7315e-01, -3.1048e-01,  ..., -6.4434e-01,\n",
       "               -1.1972e+00, -1.5906e-01],\n",
       "              [ 7.8505e-01, -1.9683e-01, -1.4821e+00,  ..., -1.1782e+00,\n",
       "               -2.2733e+00, -3.9923e-01],\n",
       "              [-4.7300e-01,  3.4302e-01,  2.5338e-01,  ..., -1.8413e+00,\n",
       "               -2.1825e+00, -2.8976e-01],\n",
       "              ...,\n",
       "              [-2.1397e-01, -2.0982e+00, -2.0704e+00,  ...,  6.4012e-01,\n",
       "               -1.9004e+00, -5.8519e-01],\n",
       "              [ 1.1056e-01, -8.0572e-01, -8.7974e-01,  ..., -1.3622e+00,\n",
       "               -4.0541e+00, -5.1232e-01],\n",
       "              [-6.0167e-03, -4.0813e-01, -4.3969e-01,  ..., -5.4720e-01,\n",
       "               -1.5495e+00, -5.2421e-01]],\n",
       "    \n",
       "             [[-1.3898e+00, -7.4868e-01, -8.3555e-02,  ...,  8.8251e-01,\n",
       "                4.8950e-02,  5.3487e-03],\n",
       "              [-1.5102e+00, -1.1138e+00, -3.2197e-01,  ...,  1.2375e+00,\n",
       "               -1.1029e+00, -6.4062e-01],\n",
       "              [-2.2751e+00, -2.5713e+00,  3.6732e-01,  ...,  2.0841e+00,\n",
       "                3.8679e-01, -9.4605e-01],\n",
       "              ...,\n",
       "              [-9.7859e-01, -9.2215e-01, -2.7072e-01,  ...,  8.3663e-01,\n",
       "               -1.5252e+00, -2.3575e-01],\n",
       "              [-9.9309e-01, -1.0599e+00, -4.5419e-01,  ...,  9.9598e-01,\n",
       "                2.9066e-01, -4.5559e-01],\n",
       "              [-7.6742e-01, -8.7702e-01,  4.1957e-02,  ...,  7.5968e-01,\n",
       "                2.4363e-01, -3.6626e-02]],\n",
       "    \n",
       "             ...,\n",
       "    \n",
       "             [[ 4.2452e-01, -3.6574e-01,  4.9222e-01,  ..., -2.9504e-01,\n",
       "                5.9051e-01,  1.4694e-01],\n",
       "              [ 1.0670e+00, -1.1315e+00,  5.4841e-01,  ..., -2.7220e-01,\n",
       "                8.6123e-01,  3.3766e-01],\n",
       "              [ 6.9280e-01, -2.6545e-01,  6.4415e-01,  ...,  1.7262e-01,\n",
       "                7.7774e-01,  7.7955e-01],\n",
       "              ...,\n",
       "              [ 3.7622e-01, -3.7904e-01,  6.7943e-01,  ..., -3.4090e-01,\n",
       "                4.7923e-01,  6.5810e-01],\n",
       "              [-1.5427e-02,  2.6652e-02,  3.8292e-01,  ...,  2.6515e-02,\n",
       "                6.7189e-01,  6.3466e-01],\n",
       "              [ 3.9769e-01, -4.7456e-01,  2.1858e-01,  ...,  3.5053e-01,\n",
       "                2.2572e-01,  3.6702e-01]],\n",
       "    \n",
       "             [[ 4.4473e-01,  4.1290e-01, -1.0402e+00,  ...,  1.2871e-01,\n",
       "               -5.5538e-01, -7.9694e-01],\n",
       "              [-5.2822e-01,  1.5490e+00, -1.4159e+00,  ..., -6.1722e-02,\n",
       "               -1.8793e+00, -4.9922e-01],\n",
       "              [ 7.7632e-01,  1.1937e-01, -1.6056e+00,  ...,  4.9729e-02,\n",
       "               -1.1355e+00, -7.7486e-01],\n",
       "              ...,\n",
       "              [ 1.5068e+00,  1.6478e+00, -1.5995e+00,  ...,  2.9772e-01,\n",
       "               -9.0170e-01, -9.3587e-01],\n",
       "              [ 4.7261e-01,  7.3068e-01, -6.9639e-01,  ...,  1.2711e+00,\n",
       "               -8.0504e-01, -1.0428e+00],\n",
       "              [ 6.1994e-01,  5.2734e-01, -6.5587e-01,  ...,  5.6858e-01,\n",
       "               -5.8293e-01, -3.6044e-01]],\n",
       "    \n",
       "             [[ 8.1897e-01,  1.1423e-03, -5.8751e-02,  ...,  2.8983e-01,\n",
       "               -2.4181e-01, -8.8296e-01],\n",
       "              [ 2.0901e+00,  4.4346e-01,  6.8541e-01,  ...,  5.8657e-01,\n",
       "               -6.8260e-01, -1.0963e-01],\n",
       "              [ 1.2728e+00,  8.8729e-02,  5.6576e-01,  ...,  2.6340e-01,\n",
       "               -2.3748e-01, -1.4404e+00],\n",
       "              ...,\n",
       "              [ 1.1530e+00, -6.6830e-01, -3.4144e-02,  ..., -2.5756e-01,\n",
       "                5.4662e-01, -1.5363e+00],\n",
       "              [ 1.7357e+00, -7.6375e-01, -2.1262e-01,  ..., -1.4378e-01,\n",
       "                1.0650e+00, -9.8884e-01],\n",
       "              [ 9.9203e-01, -3.7615e-01, -2.1169e-01,  ...,  1.9856e-01,\n",
       "                1.0909e-01, -9.8480e-01]]]]),\n",
       "    'prev_value': tensor([[[[ 1.2668e-02, -6.1652e-02,  1.2231e-02,  ...,  6.5173e-02,\n",
       "                8.6831e-02,  5.3114e-02],\n",
       "              [-2.0859e-01,  2.0463e-01, -2.6959e-01,  ...,  3.4793e-01,\n",
       "                4.5454e-01,  2.4158e-01],\n",
       "              [-4.0268e-02, -2.2609e-01, -7.1109e-01,  ..., -1.9916e-01,\n",
       "               -3.0483e-01, -7.8058e-01],\n",
       "              ...,\n",
       "              [-3.8000e-01,  3.1518e-01, -3.2066e-01,  ..., -1.4547e-01,\n",
       "               -3.9263e-01, -2.5702e-01],\n",
       "              [ 1.3053e-01,  3.2114e-01, -1.2686e-01,  ..., -2.8764e-01,\n",
       "               -7.3824e-01,  2.7726e-01],\n",
       "              [-8.5208e-02,  1.5503e-01,  7.5779e-02,  ...,  7.5800e-02,\n",
       "                4.0683e-02,  9.8744e-03]],\n",
       "    \n",
       "             [[ 9.2762e-02, -6.8029e-02, -1.4969e-01,  ..., -2.3434e-02,\n",
       "                5.6186e-04, -2.3233e-02],\n",
       "              [ 4.6975e-01, -2.9570e-02,  1.3405e-01,  ...,  5.3710e-01,\n",
       "               -2.2597e-01,  3.5570e-01],\n",
       "              [-1.9232e-01, -4.6771e-01,  1.7404e-01,  ...,  3.2623e-01,\n",
       "                6.1069e-01,  6.7939e-01],\n",
       "              ...,\n",
       "              [ 8.3572e-02, -3.4429e-02,  2.8177e-01,  ..., -1.4880e-01,\n",
       "               -1.4257e-01,  5.6056e-01],\n",
       "              [ 4.6074e-01,  6.8296e-01, -9.4685e-02,  ...,  1.7433e-01,\n",
       "                2.6825e-01,  4.4581e-01],\n",
       "              [-6.5526e-02, -2.1038e-02, -3.1888e-01,  ..., -1.6066e-01,\n",
       "               -2.3940e-02, -2.0501e-01]],\n",
       "    \n",
       "             [[-2.5254e-01, -2.8549e-02, -1.8995e-01,  ..., -2.5972e-03,\n",
       "               -9.7805e-02, -9.0156e-03],\n",
       "              [ 2.1183e-02, -6.2442e-02, -3.3163e-01,  ..., -1.5731e-02,\n",
       "                3.3286e-02,  7.7350e-02],\n",
       "              [-3.9284e-01, -7.7852e-02,  9.0369e-01,  ..., -9.1352e-02,\n",
       "               -2.9801e-02, -5.0730e-02],\n",
       "              ...,\n",
       "              [-4.7334e-01,  3.2656e-01, -2.7690e-02,  ..., -2.9571e-01,\n",
       "                1.6700e+00, -3.2191e-01],\n",
       "              [-1.9180e-01, -2.3731e-01, -2.5650e-01,  ..., -6.3170e-01,\n",
       "               -6.5887e-01, -5.4119e-01],\n",
       "              [ 9.2496e-02, -3.0573e-02, -1.7989e-02,  ..., -9.2100e-02,\n",
       "                3.1546e-02, -1.7140e-02]],\n",
       "    \n",
       "             ...,\n",
       "    \n",
       "             [[ 8.7161e-02,  3.2211e-03, -1.2167e-01,  ..., -2.2640e-01,\n",
       "                4.9763e-02,  1.4631e-01],\n",
       "              [-1.2961e-01,  3.6009e-01,  7.1011e-01,  ..., -3.1118e-01,\n",
       "               -2.7199e-02, -1.9666e-01],\n",
       "              [-4.5490e-01,  3.3799e-01,  5.9816e-01,  ..., -4.4635e-01,\n",
       "               -1.1824e-01, -3.3373e-01],\n",
       "              ...,\n",
       "              [-1.0974e-01,  5.6908e-01, -2.2913e-01,  ..., -3.7062e-01,\n",
       "               -6.7110e-01, -6.8819e-01],\n",
       "              [-3.1030e-01,  6.6959e-01, -5.2835e-01,  ...,  1.4801e-01,\n",
       "                4.2890e-01, -6.1656e-02],\n",
       "              [ 5.4012e-01,  9.3782e-02, -3.6373e-01,  ...,  1.9503e-01,\n",
       "                1.1038e-01,  4.2250e-01]],\n",
       "    \n",
       "             [[-2.9714e-02, -4.8889e-02,  9.7778e-02,  ..., -3.5902e-01,\n",
       "                2.2877e-02,  1.1323e-01],\n",
       "              [ 4.5557e-01, -5.4249e-02, -2.3662e-01,  ...,  6.7511e-02,\n",
       "               -2.6520e-01, -4.4216e-01],\n",
       "              [ 8.2567e-01, -2.1551e-01, -8.2154e-01,  ..., -1.9270e-01,\n",
       "               -4.8957e-01,  4.9375e-01],\n",
       "              ...,\n",
       "              [ 1.5516e-01, -1.1653e-01,  6.4450e-01,  ..., -5.7481e-01,\n",
       "               -3.8706e-03,  1.7820e-01],\n",
       "              [ 8.8408e-01, -5.6783e-01, -1.2672e-01,  ..., -1.3314e-01,\n",
       "               -2.3932e-01,  9.5334e-02],\n",
       "              [ 8.5574e-02,  2.1872e-01, -5.4835e-02,  ...,  3.3532e-01,\n",
       "               -7.1058e-03, -1.9115e-01]],\n",
       "    \n",
       "             [[-1.7945e-01,  6.9180e-02, -1.5178e-01,  ..., -2.2669e-01,\n",
       "               -7.4609e-02,  9.2302e-02],\n",
       "              [ 5.1830e-01, -9.9543e-03,  5.7168e-02,  ...,  5.8159e-01,\n",
       "                2.9192e-01,  1.7828e-01],\n",
       "              [ 1.9874e-01, -1.0522e-01,  1.2498e-03,  ...,  5.3597e-01,\n",
       "               -1.8945e-01,  4.4165e-02],\n",
       "              ...,\n",
       "              [ 4.7414e-01,  1.4386e-01, -1.6774e-01,  ..., -2.0629e-01,\n",
       "               -1.8455e-02, -5.7206e-01],\n",
       "              [-3.3292e-02,  1.4293e-01,  6.1746e-01,  ...,  3.2254e-02,\n",
       "                1.3436e-01,  1.9286e-01],\n",
       "              [-9.4101e-02, -1.7969e-01, -2.3658e-01,  ..., -2.8490e-01,\n",
       "               -9.2613e-02, -8.3371e-03]]]]),\n",
       "    'prev_key_padding_mask': None}},\n",
       "  {'self': {'prev_key': tensor([[[[-1.0420, -2.6576,  2.2329,  ...,  5.3402, -0.2373,  1.0332],\n",
       "              [-0.8877, -3.2600,  3.1658,  ...,  6.1333,  0.4132, -0.2932],\n",
       "              [-1.6286, -2.3084,  3.1699,  ...,  5.1272,  0.3684,  0.2618],\n",
       "              ...,\n",
       "              [-2.3856, -2.1098,  3.7028,  ...,  5.4090, -0.6007,  0.2233],\n",
       "              [-1.7285, -2.6918,  3.4866,  ...,  5.6909,  0.1418,  0.4137],\n",
       "              [-1.8457, -2.2734,  3.9102,  ...,  6.9927, -1.1225,  0.1789]],\n",
       "    \n",
       "             [[ 1.7160, -0.6565, -3.7194,  ..., -1.8990,  0.8900, -2.5520],\n",
       "              [ 0.9809,  0.9960, -1.9022,  ..., -1.1341,  0.4094, -1.6548],\n",
       "              [ 1.6994,  0.6501, -1.8956,  ..., -1.5154,  0.6371,  0.0558],\n",
       "              ...,\n",
       "              [ 1.1953,  1.5963, -2.6382,  ..., -1.6688, -0.2053, -0.7656],\n",
       "              [ 1.5987,  1.0975, -2.2167,  ..., -1.4449,  0.2915, -0.5627],\n",
       "              [ 1.5051,  0.3008, -2.9792,  ..., -1.9604, -0.5959, -0.9736]],\n",
       "    \n",
       "             [[-1.9342, -1.2033, -4.1559,  ..., -1.8834, -0.7235, -2.2443],\n",
       "              [-2.8460, -3.1301, -5.5732,  ..., -0.7851, -2.2381, -2.2946],\n",
       "              [-3.1854, -2.0017, -6.4609,  ..., -0.0905, -1.6151, -3.1991],\n",
       "              ...,\n",
       "              [-0.9973, -1.0164, -4.2432,  ..., -0.5775, -2.0976, -2.7832],\n",
       "              [-1.5631, -2.3211, -6.4468,  ..., -0.2253, -1.9557, -3.8542],\n",
       "              [-0.6045, -1.8325, -6.7826,  ..., -1.3316, -0.8493, -3.9928]],\n",
       "    \n",
       "             ...,\n",
       "    \n",
       "             [[ 2.6204, -0.3883,  3.5335,  ..., -0.8545, -3.0044,  1.4266],\n",
       "              [ 1.8279, -0.3935,  1.4586,  ..., -0.6139, -1.0374,  2.9424],\n",
       "              [ 2.2512,  0.4396,  2.1050,  ...,  0.0488, -2.3455,  4.6062],\n",
       "              ...,\n",
       "              [ 1.3818, -0.3690,  1.0331,  ..., -0.3498, -1.4909,  4.6349],\n",
       "              [ 1.3181,  0.3437,  2.7725,  ...,  0.5822, -2.3722,  5.0667],\n",
       "              [ 1.7193, -1.6459,  3.2484,  ..., -1.5675, -2.2561,  3.5995]],\n",
       "    \n",
       "             [[ 0.8631, -3.5918,  0.7681,  ..., -1.3922,  0.6124, -0.9992],\n",
       "              [ 0.7531, -3.5312,  1.7215,  ..., -0.6755,  0.7929, -1.0381],\n",
       "              [ 0.2252, -3.4724,  0.8572,  ..., -1.2511,  1.0816, -0.6326],\n",
       "              ...,\n",
       "              [ 0.7187, -3.7168,  1.6621,  ..., -1.1989,  0.7343, -1.1323],\n",
       "              [ 0.1352, -3.4679,  1.0023,  ..., -1.0604,  0.9319, -0.7223],\n",
       "              [ 0.2300, -3.2181,  1.4729,  ..., -1.0969,  0.6806, -0.5171]],\n",
       "    \n",
       "             [[-2.9986,  0.0576,  1.0897,  ...,  3.9799, -1.4122, -6.0393],\n",
       "              [-1.2742,  0.3686,  0.5432,  ...,  1.6738, -0.3005, -6.1011],\n",
       "              [-0.7397, -0.6165,  1.8411,  ...,  1.6953, -1.6694, -4.2847],\n",
       "              ...,\n",
       "              [-1.1574,  1.4820,  0.7723,  ...,  1.4552,  0.9633, -5.0538],\n",
       "              [-1.3222, -0.1899,  1.2290,  ...,  0.3257,  0.1702, -4.2658],\n",
       "              [ 0.4197,  0.5647,  1.1082,  ...,  2.5946,  1.2035, -5.6856]]]]),\n",
       "    'prev_value': tensor([[[[-0.5745,  0.2720, -0.8390,  ...,  0.5979, -0.0122, -0.6304],\n",
       "              [ 1.3680, -0.3454,  0.2271,  ...,  0.8294, -0.1112, -0.3799],\n",
       "              [ 1.0963,  1.5361,  0.4171,  ...,  1.2700, -1.8841, -0.6051],\n",
       "              ...,\n",
       "              [ 2.0907, -1.0432,  0.3165,  ...,  0.7589, -0.3333, -1.7865],\n",
       "              [ 0.3515,  1.5730,  0.5695,  ...,  1.3952, -1.7190, -1.1073],\n",
       "              [-1.5426, -0.0687, -0.1982,  ...,  1.0454,  0.6634, -1.0468]],\n",
       "    \n",
       "             [[-0.9416, -0.3294, -0.6614,  ..., -1.1073, -0.0872,  0.1178],\n",
       "              [ 0.5779, -0.1062, -0.5425,  ..., -0.7704, -0.9517, -0.2815],\n",
       "              [ 0.2845, -0.2310, -0.1475,  ..., -0.6638, -0.7889,  1.4107],\n",
       "              ...,\n",
       "              [ 0.6475,  0.0702, -0.5639,  ..., -0.6089, -0.5382, -0.1579],\n",
       "              [ 0.2414, -0.2537, -0.3914,  ..., -0.8664, -0.6765,  1.4100],\n",
       "              [ 0.0415,  0.4149, -0.3171,  ...,  0.4873,  0.4396,  0.6285]],\n",
       "    \n",
       "             [[ 0.8627, -0.4057, -0.4099,  ..., -0.6638, -0.0072, -0.5993],\n",
       "              [ 0.9784, -0.4796,  0.1996,  ..., -0.1112,  0.0202,  0.9413],\n",
       "              [-0.3902, -0.0620,  0.2212,  ...,  0.0115, -0.2479,  0.1933],\n",
       "              ...,\n",
       "              [-0.1767, -0.4121,  0.0392,  ..., -1.0097, -0.0284, -0.8712],\n",
       "              [-0.4918, -0.0901,  0.2842,  ..., -0.0345, -0.6964, -0.2825],\n",
       "              [ 0.2939, -0.9563,  0.2293,  ..., -0.5389,  0.4095, -0.3494]],\n",
       "    \n",
       "             ...,\n",
       "    \n",
       "             [[-0.0597, -0.5182,  0.9325,  ..., -1.0294,  0.7664, -0.4958],\n",
       "              [ 0.7345,  0.4057, -0.4300,  ...,  0.0143,  0.4968, -0.2238],\n",
       "              [-0.0040,  0.1563, -0.2481,  ..., -0.3460,  0.6410,  0.8898],\n",
       "              ...,\n",
       "              [-0.1662, -0.3937, -0.4674,  ..., -0.1940,  0.4062, -0.5671],\n",
       "              [ 0.3588, -0.2918, -0.1574,  ..., -0.4190,  0.0326,  0.2736],\n",
       "              [-0.6673, -0.1004, -0.3974,  ...,  0.0843,  0.3729,  0.2452]],\n",
       "    \n",
       "             [[-0.8688, -0.2323, -0.3649,  ...,  0.2606, -0.0939,  0.3100],\n",
       "              [ 0.2782,  0.2350,  0.0862,  ..., -0.5811, -0.5236,  0.2317],\n",
       "              [-0.4763, -0.1083,  0.8173,  ..., -0.8344,  0.1470, -0.5868],\n",
       "              ...,\n",
       "              [ 0.4680,  0.5720,  0.4062,  ..., -0.4743, -0.7300,  1.0453],\n",
       "              [-0.0026,  0.1058,  0.3736,  ..., -0.5681,  0.2267,  0.0350],\n",
       "              [-0.7757,  0.4460, -0.6780,  ..., -0.4273,  1.2083, -0.0258]],\n",
       "    \n",
       "             [[ 0.1095, -0.4660,  0.1895,  ..., -0.8408,  1.2909,  0.1346],\n",
       "              [ 0.7780, -0.2357,  0.0712,  ..., -0.3596,  0.8275,  0.1119],\n",
       "              [ 0.8234, -0.1793,  1.7547,  ..., -0.2363, -0.0304, -0.1061],\n",
       "              ...,\n",
       "              [ 1.2335, -0.2670, -0.5349,  ..., -1.1746,  0.4653, -0.5288],\n",
       "              [ 0.5389,  0.1028,  1.0584,  ..., -0.2428, -0.7457,  0.1757],\n",
       "              [ 0.5877, -0.7989,  0.7636,  ...,  1.0930, -0.1456, -0.1768]]]]),\n",
       "    'prev_key_padding_mask': None},\n",
       "   'encoder_decoder': {'prev_key': tensor([[[[-1.8420e-01, -4.8438e-02,  2.5254e-01,  ..., -3.3318e-01,\n",
       "               -1.3961e-01, -3.1215e-02],\n",
       "              [-2.6825e-01, -2.1921e-01,  8.2014e-01,  ..., -8.8955e-01,\n",
       "               -5.4780e-01,  5.4360e-01],\n",
       "              [-5.6427e-01,  4.6136e-01,  8.5487e-01,  ..., -5.0804e-01,\n",
       "               -6.9638e-01, -2.6519e-01],\n",
       "              ...,\n",
       "              [-3.4884e-01,  5.5399e-01, -1.5188e-01,  ..., -8.6239e-01,\n",
       "               -4.7270e-01,  2.9867e-01],\n",
       "              [-9.0345e-01,  9.9274e-02, -6.9021e-01,  ...,  4.7231e-02,\n",
       "               -7.9192e-01,  3.1802e-01],\n",
       "              [-9.9642e-02,  8.8871e-02, -5.2763e-01,  ..., -2.9220e-02,\n",
       "                7.8569e-03,  4.2083e-01]],\n",
       "    \n",
       "             [[ 2.3283e-01, -3.3355e-01, -1.3337e-01,  ...,  1.8146e-02,\n",
       "                5.8408e-02,  6.9568e-01],\n",
       "              [ 6.3840e-01, -4.9688e-01, -5.2378e-01,  ..., -4.9648e-01,\n",
       "               -9.6922e-02,  3.6682e-01],\n",
       "              [ 3.7519e-01,  1.3763e-01,  6.7605e-01,  ..., -5.5374e-01,\n",
       "               -5.3912e-02,  7.2088e-01],\n",
       "              ...,\n",
       "              [-1.3721e-01, -9.3863e-01, -3.0710e-01,  ...,  4.4542e-01,\n",
       "               -6.8739e-01,  2.3222e-01],\n",
       "              [ 6.5451e-01, -7.0184e-01,  8.3235e-01,  ..., -2.1727e-01,\n",
       "               -1.8270e-01,  1.8745e-01],\n",
       "              [ 2.2844e-01, -4.9003e-01,  3.1775e-01,  ..., -2.9412e-01,\n",
       "               -3.7921e-02,  2.2642e-01]],\n",
       "    \n",
       "             [[-4.5393e-01, -1.3341e-01,  1.3880e-01,  ..., -4.6815e-01,\n",
       "               -7.9324e-01, -5.6458e-01],\n",
       "              [-1.3547e+00,  2.4391e-01, -1.2285e-01,  ..., -8.2367e-02,\n",
       "               -1.7138e+00, -1.3056e+00],\n",
       "              [-8.6655e-01,  5.4540e-01,  7.9079e-02,  ...,  8.7838e-01,\n",
       "               -1.8755e+00, -1.6165e+00],\n",
       "              ...,\n",
       "              [-7.7201e-01, -4.7763e-01, -1.6425e-02,  ..., -1.9585e-01,\n",
       "               -2.4028e+00, -9.4801e-01],\n",
       "              [-4.0869e-01, -1.1045e+00, -8.5102e-01,  ..., -5.6982e-01,\n",
       "               -1.4215e+00, -1.3388e+00],\n",
       "              [-2.2927e-01, -4.4098e-01, -8.8754e-02,  ..., -2.4542e-01,\n",
       "               -9.0293e-01, -6.2233e-01]],\n",
       "    \n",
       "             ...,\n",
       "    \n",
       "             [[-2.8073e-01, -2.3730e-01, -6.8387e-01,  ..., -4.5323e-01,\n",
       "                6.6470e-01,  1.3663e-01],\n",
       "              [-1.3744e+00,  5.4011e-01, -1.0279e+00,  ...,  1.6543e-01,\n",
       "                2.5494e-01,  2.2257e-01],\n",
       "              [-2.2504e-01,  1.0412e+00, -9.1504e-01,  ...,  3.5924e-01,\n",
       "                1.0693e+00,  8.8975e-01],\n",
       "              ...,\n",
       "              [-8.2131e-01, -7.2352e-01, -7.2897e-01,  ...,  2.4800e-01,\n",
       "                1.2110e+00, -5.2852e-01],\n",
       "              [-1.2162e+00,  1.4083e+00, -2.2728e-02,  ..., -3.7236e-02,\n",
       "                3.1882e-01,  1.2240e+00],\n",
       "              [-8.0501e-01, -2.1829e-01, -6.3518e-01,  ..., -5.4036e-01,\n",
       "                4.7120e-01,  3.3552e-01]],\n",
       "    \n",
       "             [[ 4.7002e-01, -5.6317e-01, -4.6598e-02,  ...,  6.4175e-03,\n",
       "                1.3808e-01,  3.9087e-01],\n",
       "              [-6.2364e-02,  2.6881e-01, -3.4456e-02,  ...,  5.5108e-02,\n",
       "                1.8506e-01, -6.5718e-02],\n",
       "              [-4.6093e-01, -4.3810e-01, -5.4887e-01,  ..., -4.5337e-01,\n",
       "                3.5390e-01,  8.1102e-02],\n",
       "              ...,\n",
       "              [-1.5358e-03, -1.2323e+00, -1.7547e+00,  ...,  1.8171e-01,\n",
       "                1.1145e-01, -1.1636e-01],\n",
       "              [ 6.5797e-01, -1.5644e+00, -1.2699e+00,  ..., -9.2932e-01,\n",
       "                3.0719e-01, -4.4463e-01],\n",
       "              [ 4.8515e-01, -4.3144e-01, -2.8060e-01,  ...,  2.0914e-02,\n",
       "                2.1939e-01,  2.0408e-01]],\n",
       "    \n",
       "             [[-2.6797e-01, -8.1083e-01, -2.7551e-01,  ...,  1.1636e-01,\n",
       "               -2.9112e-01, -3.0829e-01],\n",
       "              [-4.1165e-01, -4.9414e-01, -1.0620e+00,  ..., -6.0885e-01,\n",
       "               -1.1062e+00, -1.0806e+00],\n",
       "              [ 2.7716e-04,  1.8712e-01, -1.4685e+00,  ...,  8.6760e-02,\n",
       "               -4.6948e-01, -8.1271e-01],\n",
       "              ...,\n",
       "              [-3.0516e-02, -1.1083e+00, -6.6648e-01,  ...,  2.5874e-01,\n",
       "               -9.6148e-01, -3.5442e-01],\n",
       "              [ 5.8010e-02, -6.4908e-01, -4.7166e-01,  ..., -1.9326e-03,\n",
       "               -1.0604e+00, -6.1200e-01],\n",
       "              [ 3.5233e-01, -8.7662e-01, -4.6434e-01,  ..., -1.8192e-01,\n",
       "               -4.0221e-01, -1.5899e-01]]]]),\n",
       "    'prev_value': tensor([[[[ 0.1076, -0.1786, -0.0196,  ..., -0.0690, -0.1347,  0.0656],\n",
       "              [-0.9778, -0.4516,  0.0516,  ...,  0.7013,  0.5932,  0.2334],\n",
       "              [-0.0482,  0.3305, -1.1763,  ...,  0.2497,  0.4352,  0.3567],\n",
       "              ...,\n",
       "              [-0.6001, -0.5087, -0.5485,  ..., -0.5805,  0.5428,  0.2363],\n",
       "              [-0.6634,  0.0644, -0.3642,  ...,  0.6569,  0.8377, -0.2692],\n",
       "              [ 0.1257,  0.1686, -0.3012,  ...,  0.1525,  0.2600, -0.1685]],\n",
       "    \n",
       "             [[ 0.1904,  0.1772,  0.0934,  ..., -0.2439, -0.0230, -0.0332],\n",
       "              [ 0.0024, -1.2083,  0.2154,  ..., -0.4683, -0.2365, -0.6575],\n",
       "              [-0.0186, -0.2371, -0.6941,  ...,  0.7961,  0.4685, -0.5417],\n",
       "              ...,\n",
       "              [ 0.1553, -0.9108,  0.0471,  ...,  0.2658,  0.6139,  0.0682],\n",
       "              [-0.1510, -0.4063, -0.4344,  ..., -0.3490, -0.1358,  0.2143],\n",
       "              [ 0.5563,  0.5155,  0.0937,  ..., -0.3949, -0.1943,  0.0777]],\n",
       "    \n",
       "             [[-0.0209,  0.0771,  0.2116,  ..., -0.0446, -0.0823,  0.0190],\n",
       "              [ 0.0911, -0.3225, -0.1161,  ...,  1.2270, -0.4164, -0.0297],\n",
       "              [ 0.1538, -0.7971,  0.5459,  ...,  0.5005, -0.8430,  0.1533],\n",
       "              ...,\n",
       "              [ 1.6984, -1.8118, -0.2147,  ..., -0.5890, -0.0734, -0.4834],\n",
       "              [ 0.3477, -0.8588, -0.3126,  ...,  0.0192, -0.3872, -0.2413],\n",
       "              [-0.0240,  0.0878,  0.1352,  ..., -0.0498,  0.0459, -0.0846]],\n",
       "    \n",
       "             ...,\n",
       "    \n",
       "             [[-0.3315,  0.0744, -0.0130,  ...,  0.0945, -0.1460, -0.2109],\n",
       "              [-0.0065,  0.2381, -0.2388,  ...,  0.6049, -0.3598,  0.0510],\n",
       "              [-0.5163,  0.1600,  0.0152,  ...,  0.9313,  0.3322,  0.3959],\n",
       "              ...,\n",
       "              [ 0.0200, -0.0377,  0.0372,  ..., -0.0918,  0.0817,  0.5028],\n",
       "              [ 0.2903, -0.1253, -0.1366,  ...,  0.3503,  0.1961,  0.2578],\n",
       "              [-0.3069, -0.0154, -0.0593,  ..., -0.1769,  0.0655, -0.1042]],\n",
       "    \n",
       "             [[-0.0296, -0.1601, -0.0169,  ...,  0.0811,  0.2763,  0.0236],\n",
       "              [-0.8603, -0.4391,  0.0384,  ..., -0.4444,  0.2040,  0.1436],\n",
       "              [ 0.1891,  0.6363, -0.2793,  ..., -0.4251, -0.9018,  1.0297],\n",
       "              ...,\n",
       "              [-0.5147, -0.3939,  0.4083,  ...,  0.0966, -0.7494,  0.3319],\n",
       "              [ 0.2190,  0.2248, -0.8014,  ..., -0.1573,  0.4174, -0.5497],\n",
       "              [ 0.1701, -0.1194, -0.0748,  ...,  0.1653, -0.0805, -0.0517]],\n",
       "    \n",
       "             [[-0.0385,  0.1000, -0.2200,  ...,  0.2650,  0.0786, -0.0360],\n",
       "              [-1.0108,  0.2269, -0.3250,  ..., -0.2313,  0.6093,  1.0946],\n",
       "              [ 0.8857, -0.2988, -0.6174,  ...,  0.0608,  0.0074,  0.9044],\n",
       "              ...,\n",
       "              [ 0.5494, -0.3206, -0.1087,  ..., -1.2909,  0.4486, -0.1504],\n",
       "              [ 0.1507,  0.3358,  0.5715,  ..., -0.0193,  0.7781, -0.4030],\n",
       "              [ 0.1855,  0.1017,  0.0919,  ...,  0.2505,  0.1708,  0.0409]]]]),\n",
       "    'prev_key_padding_mask': None}},\n",
       "  {'self': {'prev_key': tensor([[[[-0.4386, -1.3872, -0.1620,  ..., -0.3746, -1.3416,  1.0764],\n",
       "              [ 0.0612, -2.2845, -0.2334,  ..., -1.7360,  0.8800,  1.7569],\n",
       "              [-0.8147, -2.3691, -0.0957,  ..., -1.6103,  0.7098,  0.4914],\n",
       "              ...,\n",
       "              [ 0.5684, -1.8840,  1.6992,  ..., -1.4052,  0.1818,  0.5972],\n",
       "              [-0.3822, -2.1525,  1.3639,  ..., -0.3142, -0.3463,  0.9031],\n",
       "              [-0.2622, -0.3857,  0.1205,  ..., -0.7373, -2.0036,  0.9011]],\n",
       "    \n",
       "             [[ 0.6334,  0.1873,  1.1210,  ..., -0.0680,  0.2989, -0.0285],\n",
       "              [ 0.2913,  0.8246,  1.2077,  ..., -0.1854,  0.4606,  0.7916],\n",
       "              [ 0.6356,  0.9774,  0.9473,  ..., -1.1173,  0.2341,  0.4618],\n",
       "              ...,\n",
       "              [ 0.7940,  1.4894,  0.9775,  ..., -1.8996,  0.9252,  1.7233],\n",
       "              [ 1.0107,  1.5064,  1.2146,  ..., -2.1000,  0.7236,  0.5914],\n",
       "              [ 1.3191,  1.1486,  1.1880,  ..., -1.5288,  0.5883,  1.1386]],\n",
       "    \n",
       "             [[ 1.2161, -0.2206, -0.9509,  ...,  1.0185, -0.4440, -0.8678],\n",
       "              [ 2.3200,  1.0798, -0.3421,  ...,  1.4352, -0.5072, -0.4134],\n",
       "              [ 0.3517,  1.4141,  1.1424,  ...,  0.5471, -0.4191,  1.2636],\n",
       "              ...,\n",
       "              [ 1.5827,  0.2958, -0.6607,  ...,  0.8367, -0.7918,  0.4461],\n",
       "              [-0.2735,  0.8822,  1.7212,  ..., -0.2863, -0.7739,  1.5141],\n",
       "              [ 2.4963, -1.2310,  0.3447,  ...,  0.3263, -1.3234,  0.7089]],\n",
       "    \n",
       "             ...,\n",
       "    \n",
       "             [[-0.5088, -1.3029, -0.3625,  ..., -0.7572, -0.5128,  1.1692],\n",
       "              [-0.2135, -1.0116, -0.5526,  ..., -1.0808, -1.0128,  1.3829],\n",
       "              [ 0.1111, -1.8804,  0.0857,  ..., -0.0998, -0.5224,  2.1621],\n",
       "              ...,\n",
       "              [ 0.0676, -1.2949, -0.7140,  ..., -0.3195, -0.4627,  1.2849],\n",
       "              [-0.3288, -2.2879, -1.0343,  ...,  0.2470, -0.0063,  1.8370],\n",
       "              [ 0.2480, -2.1706, -0.8915,  ...,  0.2177,  0.0053,  1.6384]],\n",
       "    \n",
       "             [[-0.5398,  1.1517, -0.5188,  ...,  1.5237,  0.4137, -1.3521],\n",
       "              [-0.0046,  0.5243,  0.4688,  ...,  2.1578,  1.7668, -0.6806],\n",
       "              [ 0.5839,  1.0898,  1.1682,  ...,  3.0346, -1.1191, -0.6699],\n",
       "              ...,\n",
       "              [ 0.3785,  1.3512,  0.1427,  ...,  3.6335, -0.4131,  0.5678],\n",
       "              [ 0.2430,  1.1577,  0.3492,  ...,  3.0468, -1.8448, -0.7978],\n",
       "              [ 0.6921,  0.8463,  2.0346,  ...,  2.9376, -2.1048, -0.9644]],\n",
       "    \n",
       "             [[-0.0773,  0.2406,  0.7545,  ...,  0.8204, -0.3109, -0.5765],\n",
       "              [-0.0828, -0.3649,  1.1382,  ..., -0.3309, -1.3645, -0.5450],\n",
       "              [ 0.2465, -0.2226,  0.8804,  ...,  0.1846, -0.8468,  0.0697],\n",
       "              ...,\n",
       "              [ 0.9481, -0.2856,  1.5658,  ...,  0.6068, -0.1764, -0.3854],\n",
       "              [ 1.0599,  0.3890,  1.5472,  ...,  0.2225, -0.4787,  0.3560],\n",
       "              [ 1.0379,  0.5692,  1.1530,  ...,  0.3569, -0.0694,  0.1048]]]]),\n",
       "    'prev_value': tensor([[[[ 0.3166,  0.0175,  0.2295,  ..., -0.2603,  0.3056,  0.2850],\n",
       "              [-0.0374,  0.4944,  0.5638,  ..., -0.4105,  0.0306,  0.5081],\n",
       "              [ 0.1219, -0.0176,  0.6240,  ...,  0.3240,  0.3198,  0.1925],\n",
       "              ...,\n",
       "              [ 0.3032,  0.6376, -0.1578,  ...,  0.7297, -0.5846,  0.2980],\n",
       "              [ 0.1783, -0.2641,  0.5497,  ...,  0.6149, -0.3159,  0.5903],\n",
       "              [ 0.2030, -0.2037,  0.9975,  ..., -0.1037, -0.5016,  0.9380]],\n",
       "    \n",
       "             [[ 1.2856,  1.7635, -0.3128,  ..., -1.1929, -0.3192,  0.4350],\n",
       "              [ 0.7226,  0.8527,  0.4963,  ...,  0.2044, -0.4410, -0.3434],\n",
       "              [-0.1608,  0.6110,  0.8066,  ..., -0.3591,  1.0545, -0.1352],\n",
       "              ...,\n",
       "              [-0.6637, -0.0651,  0.5823,  ...,  0.7850, -1.0507,  0.3687],\n",
       "              [-0.8608,  0.5349,  0.9931,  ...,  0.3715,  0.8187,  0.8951],\n",
       "              [ 0.5664,  0.6961, -0.2382,  ...,  0.7142,  0.6515, -0.6071]],\n",
       "    \n",
       "             [[-0.8713, -0.0169,  0.5578,  ..., -0.4909, -0.5108,  0.3441],\n",
       "              [-0.5304, -1.0394,  0.6265,  ...,  0.4748, -0.8179,  0.9929],\n",
       "              [-0.8267, -1.0291,  0.7375,  ..., -0.0737, -0.8070, -0.1073],\n",
       "              ...,\n",
       "              [-0.4937, -0.6409, -0.2711,  ...,  1.4267, -1.3484,  0.3756],\n",
       "              [-0.6949, -1.3360,  0.8178,  ..., -0.0708, -1.1026,  0.2147],\n",
       "              [ 0.8232, -1.0623, -0.5154,  ..., -0.2422, -0.3695, -0.0643]],\n",
       "    \n",
       "             ...,\n",
       "    \n",
       "             [[ 0.8262, -0.4217, -0.4608,  ...,  0.3635,  0.9073, -0.5239],\n",
       "              [ 0.3790, -1.0899, -0.2426,  ..., -0.3176,  0.4511, -0.3717],\n",
       "              [-1.0221, -1.0844,  0.3145,  ..., -0.2052, -0.4125, -0.8133],\n",
       "              ...,\n",
       "              [-1.1766,  0.1010, -0.5418,  ...,  0.8460, -1.1177,  1.1306],\n",
       "              [-1.4292, -0.3071,  0.4105,  ..., -0.1114, -0.5418, -0.5932],\n",
       "              [-0.1987, -0.7748, -0.8441,  ...,  0.0808, -0.5329, -0.7052]],\n",
       "    \n",
       "             [[-0.1796,  0.2851, -0.2967,  ...,  0.4069, -1.0675, -0.0721],\n",
       "              [-0.0898,  0.2318,  0.0352,  ...,  0.1150, -0.5712,  0.3178],\n",
       "              [-0.0543,  0.0537, -0.2081,  ...,  0.0674, -0.3579,  0.3623],\n",
       "              ...,\n",
       "              [ 0.0539, -0.1789,  0.0704,  ..., -0.4926, -0.0630,  0.4467],\n",
       "              [ 0.2592,  0.1445, -0.7313,  ...,  0.1228,  0.2471,  0.5146],\n",
       "              [-0.2494,  0.1063, -0.9146,  ..., -0.0618, -0.0715, -0.0356]],\n",
       "    \n",
       "             [[ 1.4797,  0.4583, -0.3394,  ...,  0.6259, -0.9978, -1.1243],\n",
       "              [ 1.2080,  1.1951, -0.5327,  ...,  0.3260, -1.1588,  0.8424],\n",
       "              [ 0.4315,  1.1653,  0.9714,  ..., -0.1326, -1.1869, -0.1478],\n",
       "              ...,\n",
       "              [ 2.2707,  0.3632, -0.6890,  ..., -0.7977, -1.4924,  1.8525],\n",
       "              [-0.0901,  0.9613,  0.1965,  ...,  0.1908, -0.8898,  0.7531],\n",
       "              [ 0.7363, -0.1112,  0.1473,  ...,  1.1607,  0.2204, -0.0863]]]]),\n",
       "    'prev_key_padding_mask': None},\n",
       "   'encoder_decoder': {'prev_key': tensor([[[[ 1.0456e-01, -2.0529e-01,  1.2888e-01,  ...,  2.4715e-01,\n",
       "                1.0131e-01,  7.7653e-01],\n",
       "              [-8.1829e-01, -5.8299e-01,  4.8085e-01,  ...,  9.5532e-02,\n",
       "                6.4317e-01,  2.2539e+00],\n",
       "              [ 2.2288e-01, -7.4419e-01,  2.9365e-01,  ..., -4.0970e-01,\n",
       "                1.0386e+00,  1.0105e+00],\n",
       "              ...,\n",
       "              [ 6.2894e-01, -7.8855e-01,  1.5846e-01,  ...,  4.4008e-01,\n",
       "                7.0549e-01,  8.1576e-01],\n",
       "              [ 1.3644e+00, -1.0432e+00, -9.0449e-01,  ...,  8.5678e-01,\n",
       "               -1.1682e-01,  4.4392e-01],\n",
       "              [ 5.1388e-01, -2.4892e-01,  1.0695e-01,  ...,  4.0552e-01,\n",
       "                7.7924e-02,  6.9312e-01]],\n",
       "    \n",
       "             [[ 3.3318e-01, -2.4350e-01,  4.1744e-01,  ..., -4.2430e-01,\n",
       "               -4.9854e-01,  1.5830e-02],\n",
       "              [ 1.0673e+00, -9.8538e-01,  1.8444e+00,  ..., -5.9753e-01,\n",
       "               -8.5799e-03, -3.1624e-01],\n",
       "              [ 6.0197e-01, -1.3974e-01,  1.0134e+00,  ..., -4.1998e-01,\n",
       "               -7.7568e-01, -6.4773e-02],\n",
       "              ...,\n",
       "              [ 4.2866e-01,  2.5228e-02,  1.2341e+00,  ..., -4.8693e-01,\n",
       "               -9.2436e-01,  1.1395e+00],\n",
       "              [ 1.4688e-01, -6.5375e-01,  1.4785e+00,  ...,  5.0767e-01,\n",
       "                6.6096e-03,  1.2068e+00],\n",
       "              [ 1.6996e-01, -2.6330e-01,  3.1483e-01,  ..., -2.9461e-01,\n",
       "               -1.9658e-01,  3.1056e-01]],\n",
       "    \n",
       "             [[ 2.8525e-01,  9.2361e-01,  2.6869e-01,  ...,  6.1563e-02,\n",
       "               -7.0191e-01, -2.5230e-01],\n",
       "              [-8.1277e-01,  1.6521e+00,  1.4319e+00,  ..., -5.8853e-01,\n",
       "               -7.5999e-01, -7.8557e-01],\n",
       "              [-1.3152e+00,  9.6841e-01,  1.0579e+00,  ...,  4.2736e-01,\n",
       "               -5.3953e-01, -2.5930e-01],\n",
       "              ...,\n",
       "              [ 1.5437e-01,  1.3572e+00,  7.7412e-01,  ...,  1.8254e-01,\n",
       "               -3.9882e-01, -1.1053e+00],\n",
       "              [ 4.2749e-01,  3.1644e-01,  1.5259e+00,  ...,  1.0815e+00,\n",
       "                5.1256e-02, -1.1678e+00],\n",
       "              [ 6.8241e-01,  3.5971e-01,  4.2513e-01,  ...,  2.4436e-01,\n",
       "               -3.6139e-01, -5.6960e-01]],\n",
       "    \n",
       "             ...,\n",
       "    \n",
       "             [[ 3.8118e-01, -1.7207e-01, -6.2278e-01,  ..., -5.1655e-01,\n",
       "                4.0608e-02,  4.2699e-01],\n",
       "              [ 4.0264e-01, -5.9732e-02, -1.5106e+00,  ..., -1.3490e+00,\n",
       "                1.0299e-01,  2.1810e+00],\n",
       "              [ 1.0174e+00,  4.2892e-01, -1.3049e+00,  ..., -7.4117e-01,\n",
       "               -3.3523e-02,  1.4477e+00],\n",
       "              ...,\n",
       "              [ 7.4666e-01, -6.3229e-01, -1.6032e+00,  ..., -6.2144e-01,\n",
       "               -9.7669e-02,  3.4095e-01],\n",
       "              [ 5.0389e-01,  1.2370e-01, -1.7532e+00,  ..., -1.1614e+00,\n",
       "                2.0692e-01,  2.0226e-01],\n",
       "              [ 4.1594e-01, -2.2657e-01, -5.0113e-01,  ..., -7.7820e-01,\n",
       "                8.4255e-02,  3.0238e-01]],\n",
       "    \n",
       "             [[ 1.9387e-01, -1.1619e+00,  3.3559e-01,  ...,  1.0550e-01,\n",
       "                3.0735e-01,  4.7073e-01],\n",
       "              [ 6.3581e-01, -2.2221e+00,  1.3327e+00,  ...,  4.8500e-01,\n",
       "                2.3659e-01,  1.5629e+00],\n",
       "              [ 9.8121e-02, -3.0003e+00,  1.0157e+00,  ...,  1.2585e-01,\n",
       "               -1.4707e-01,  8.9678e-01],\n",
       "              ...,\n",
       "              [-2.0332e-01, -1.7242e+00,  9.2863e-01,  ...,  6.9113e-01,\n",
       "               -4.2633e-02,  2.1015e-01],\n",
       "              [ 3.9833e-01, -1.5607e+00,  1.1850e+00,  ...,  4.3959e-01,\n",
       "                4.3322e-01,  1.2536e+00],\n",
       "              [-1.2251e-01, -6.5646e-01,  1.5760e-01,  ...,  1.1190e-02,\n",
       "                3.2302e-01,  3.8188e-01]],\n",
       "    \n",
       "             [[ 4.9489e-01, -2.4762e-01,  7.9699e-01,  ...,  1.3386e-01,\n",
       "               -1.7772e-01,  4.9352e-02],\n",
       "              [ 6.9328e-01, -2.4361e-01,  1.8353e+00,  ..., -1.9093e-03,\n",
       "               -2.5971e-01,  4.7278e-01],\n",
       "              [ 6.8385e-01, -5.9196e-01,  1.8357e+00,  ..., -2.1485e-01,\n",
       "               -3.3559e-03,  3.2903e-01],\n",
       "              ...,\n",
       "              [ 5.3927e-01, -9.9594e-02,  1.7795e+00,  ...,  5.1635e-01,\n",
       "               -1.2662e+00,  2.3426e-01],\n",
       "              [ 5.2316e-01, -4.5081e-01,  2.1512e+00,  ...,  9.7274e-01,\n",
       "                3.7206e-01,  6.3245e-01],\n",
       "              [ 2.0831e-01, -1.4510e-01,  1.2593e+00,  ...,  2.1643e-01,\n",
       "                2.1537e-01,  2.4746e-01]]]]),\n",
       "    'prev_value': tensor([[[[ 6.4077e-02,  5.8064e-02, -1.9483e-01,  ..., -7.8897e-02,\n",
       "               -5.0025e-02,  2.2823e-01],\n",
       "              [ 3.7622e-01, -3.1719e-01, -8.5985e-01,  ...,  7.4993e-01,\n",
       "                8.8788e-01,  9.1134e-01],\n",
       "              [ 4.4101e-01,  2.9921e-01, -1.0085e+00,  ...,  3.8476e-02,\n",
       "                4.1891e-01,  4.7242e-01],\n",
       "              ...,\n",
       "              [-2.0114e-01,  9.5092e-02,  1.4042e-01,  ..., -8.8208e-02,\n",
       "                1.6686e-02,  1.0492e-02],\n",
       "              [-2.7887e-01, -1.6279e-01,  3.9901e-01,  ..., -8.5220e-02,\n",
       "                1.6054e-01,  6.3417e-02],\n",
       "              [-8.7745e-02,  8.4321e-02,  4.0978e-02,  ..., -7.3668e-02,\n",
       "                8.4554e-02,  7.7110e-02]],\n",
       "    \n",
       "             [[-2.9955e-02, -2.2552e-01, -9.1741e-02,  ...,  6.7156e-03,\n",
       "                1.4648e-01, -2.5657e-01],\n",
       "              [ 1.6354e-01,  2.8052e-01, -4.1090e-02,  ...,  8.0411e-03,\n",
       "                4.1909e-01, -5.2990e-01],\n",
       "              [-7.0091e-01,  3.0734e-01, -3.8457e-01,  ..., -2.1926e-02,\n",
       "                8.2610e-02, -5.9351e-01],\n",
       "              ...,\n",
       "              [-3.2176e-01,  1.0331e-01,  5.8172e-01,  ..., -1.7388e-01,\n",
       "                1.9064e-03,  4.3375e-02],\n",
       "              [-2.6426e-01, -2.8020e-01,  2.8559e-01,  ...,  4.5616e-01,\n",
       "                1.3914e-01,  1.2464e-01],\n",
       "              [ 1.0652e-01, -1.0165e-01, -1.4629e-01,  ..., -1.4126e-01,\n",
       "                7.6337e-02, -9.1235e-02]],\n",
       "    \n",
       "             [[ 1.8548e-01, -2.6982e-02,  6.4652e-02,  ..., -3.3704e-03,\n",
       "               -1.3870e-02, -1.2474e-01],\n",
       "              [-9.1989e-02, -1.2284e+00,  5.5069e-01,  ..., -3.0630e-01,\n",
       "                9.9804e-01,  1.9027e-01],\n",
       "              [-9.2620e-02, -1.7489e-01, -6.9738e-02,  ...,  2.7576e-02,\n",
       "                5.0493e-02, -2.6091e-01],\n",
       "              ...,\n",
       "              [-1.2634e+00, -5.8408e-01, -2.9538e-01,  ..., -4.7259e-01,\n",
       "               -8.4625e-02,  2.2815e-02],\n",
       "              [ 2.1042e-01,  5.8651e-01, -4.4134e-01,  ..., -2.2497e-02,\n",
       "                2.0361e-01, -4.4441e-01],\n",
       "              [ 1.0620e-02,  2.1478e-02,  3.6181e-02,  ..., -1.1032e-01,\n",
       "               -1.4138e-01, -1.3065e-01]],\n",
       "    \n",
       "             ...,\n",
       "    \n",
       "             [[-1.5182e-01,  2.3944e-02, -8.1644e-02,  ...,  2.3179e-02,\n",
       "                5.3609e-02, -4.1581e-02],\n",
       "              [-1.0764e-01, -3.1809e-01,  2.0071e-01,  ..., -7.2897e-01,\n",
       "                3.9615e-01,  7.5300e-01],\n",
       "              [-6.6477e-01, -1.3495e-01,  1.1732e+00,  ..., -3.8536e-01,\n",
       "                3.3229e-01, -3.2231e-01],\n",
       "              ...,\n",
       "              [ 9.7288e-01, -6.9394e-01, -2.6665e-01,  ...,  1.2433e-01,\n",
       "               -5.1786e-01, -1.7266e-01],\n",
       "              [-5.5052e-01, -8.7155e-02, -2.7513e-01,  ...,  2.0633e-01,\n",
       "                7.7953e-02,  2.7793e-02],\n",
       "              [-8.2670e-02,  2.4704e-02,  1.1110e-01,  ...,  9.8621e-02,\n",
       "               -3.1574e-02,  6.6347e-02]],\n",
       "    \n",
       "             [[-3.1829e-02, -7.5094e-02, -7.8170e-02,  ..., -5.9828e-02,\n",
       "                2.4814e-02, -5.1194e-02],\n",
       "              [-2.2282e-01, -4.7809e-01,  9.9864e-02,  ...,  4.2317e-01,\n",
       "               -1.7886e-01, -5.0548e-01],\n",
       "              [ 5.6382e-01,  1.2876e-01, -1.5268e-01,  ..., -4.1838e-01,\n",
       "               -1.4593e-01,  7.2902e-02],\n",
       "              ...,\n",
       "              [ 9.3415e-02, -6.7319e-01, -2.8879e-01,  ..., -9.5550e-01,\n",
       "               -2.7961e-01, -4.8029e-01],\n",
       "              [ 6.2017e-01,  2.0555e-01, -3.0175e-02,  ..., -1.0751e-01,\n",
       "                5.8899e-01, -1.9859e-02],\n",
       "              [ 1.5803e-02, -1.0069e-01, -1.3709e-01,  ..., -6.7551e-03,\n",
       "                1.7907e-01, -6.9250e-02]],\n",
       "    \n",
       "             [[-1.7501e-01, -2.2864e-02,  1.0970e-01,  ...,  1.9474e-01,\n",
       "               -2.0150e-01, -1.4387e-01],\n",
       "              [ 2.2593e-01, -6.2551e-02, -2.8222e-01,  ...,  3.4896e-01,\n",
       "               -2.0154e-02,  4.9966e-01],\n",
       "              [ 7.3629e-02, -3.6650e-01, -3.9690e-01,  ...,  8.3182e-01,\n",
       "                3.6934e-01,  1.0185e+00],\n",
       "              ...,\n",
       "              [ 1.0140e+00,  3.7680e-01, -1.5916e-01,  ..., -6.6281e-01,\n",
       "                1.0458e+00, -5.2816e-01],\n",
       "              [ 3.5410e-01, -3.7631e-01, -3.6845e-01,  ...,  4.4708e-01,\n",
       "                4.1101e-01, -8.8617e-02],\n",
       "              [ 2.3217e-01, -4.6807e-02, -4.9795e-02,  ..., -3.3269e-04,\n",
       "                4.7279e-02,  2.4947e-01]]]]),\n",
       "    'prev_key_padding_mask': None}},\n",
       "  {'self': {'prev_key': tensor([[[[ 1.7577, -0.1493,  0.7103,  ..., -3.3646,  0.9506,  3.4055],\n",
       "              [ 1.2980, -0.3484,  0.7114,  ..., -3.7351, -0.0923,  2.4999],\n",
       "              [ 1.7753, -1.5904,  0.4215,  ..., -3.5594, -0.7368,  3.1657],\n",
       "              ...,\n",
       "              [ 0.4208, -0.5945,  0.5975,  ..., -3.0974,  0.4133,  2.8638],\n",
       "              [ 1.8881, -1.6426,  1.0646,  ..., -2.2803, -0.4155,  3.0045],\n",
       "              [ 1.4469, -0.8418,  1.7329,  ..., -2.2963, -0.2138,  2.6693]],\n",
       "    \n",
       "             [[-0.2946,  2.3705,  1.6327,  ...,  0.3761, -2.1832,  1.5858],\n",
       "              [-0.4564,  3.0690,  1.4612,  ...,  0.4027, -1.7255,  1.9882],\n",
       "              [-1.4755,  1.3590,  1.4257,  ...,  0.4256, -2.6202,  0.6012],\n",
       "              ...,\n",
       "              [ 0.5748,  2.3382,  1.6360,  ...,  1.1650, -1.0905,  1.0761],\n",
       "              [ 0.2509,  0.7415,  1.6487,  ...,  0.9933, -2.5156,  0.7358],\n",
       "              [ 0.3746,  1.0726,  2.2805,  ...,  1.6215, -2.8568, -0.0939]],\n",
       "    \n",
       "             [[ 1.8140,  0.7750,  1.7317,  ..., -0.3673, -0.2906,  0.3088],\n",
       "              [ 1.4844,  0.3030,  1.5810,  ..., -0.4945, -0.2887,  0.5588],\n",
       "              [ 1.6983,  0.2947,  1.0971,  ..., -0.1311,  0.2650,  0.4756],\n",
       "              ...,\n",
       "              [ 1.4079,  0.6165,  0.1249,  ..., -0.1089,  0.4625,  0.0433],\n",
       "              [ 1.5924,  0.7178,  0.3013,  ..., -0.1230,  0.4066,  0.6418],\n",
       "              [ 2.4640,  1.1461,  0.2326,  ..., -0.1661,  0.0803,  0.0252]],\n",
       "    \n",
       "             ...,\n",
       "    \n",
       "             [[-1.4035,  3.2683,  1.4504,  ..., -3.5191, -2.9273,  2.1255],\n",
       "              [-2.0065,  2.3748,  2.0731,  ..., -3.0744, -2.4706,  2.7779],\n",
       "              [ 0.1941,  2.9487,  0.5210,  ..., -3.5122, -2.2263,  1.9211],\n",
       "              ...,\n",
       "              [-1.3335,  2.6229,  2.3638,  ..., -4.2336, -1.0085,  2.6781],\n",
       "              [-0.4103,  3.5102,  2.0366,  ..., -4.5065, -2.2552,  1.1866],\n",
       "              [-1.8580,  3.5623,  1.7300,  ..., -4.7526, -3.7688,  2.6007]],\n",
       "    \n",
       "             [[-3.2129, -2.6840, -0.4144,  ..., -0.7789,  1.9339, -2.5591],\n",
       "              [-3.3387, -2.0042,  0.4193,  ..., -0.3864,  0.3406, -1.1192],\n",
       "              [-4.7805, -1.9039,  1.0843,  ...,  0.6097, -0.3442, -0.3334],\n",
       "              ...,\n",
       "              [-4.8451, -0.0921,  3.2312,  ..., -0.0779,  0.3092,  1.4590],\n",
       "              [-5.0606, -2.0435,  3.3079,  ..., -0.0507,  0.6238,  0.9035],\n",
       "              [-6.0607, -1.2324,  2.4039,  ..., -2.8776,  1.1863, -0.1880]],\n",
       "    \n",
       "             [[-1.0288, -0.8438, -1.4548,  ...,  0.3287, -0.9569, -1.5939],\n",
       "              [-1.6580, -1.2029, -0.8261,  ...,  0.2175, -0.9681, -1.5453],\n",
       "              [-1.8224, -0.1242, -1.8221,  ...,  0.4239, -1.1162, -0.2981],\n",
       "              ...,\n",
       "              [-1.9146, -0.4782, -1.1259,  ..., -1.2548, -1.6012, -0.7738],\n",
       "              [-1.5693,  0.4857, -1.2201,  ..., -1.2911, -1.5854,  0.4384],\n",
       "              [-2.4113,  0.8957, -1.7243,  ..., -0.4181, -3.6217, -0.8792]]]]),\n",
       "    'prev_value': tensor([[[[ 0.5497,  0.1443, -0.0501,  ..., -0.5754,  0.5201, -0.1517],\n",
       "              [ 0.3548,  0.6551, -0.3478,  ..., -0.6220,  0.7489, -0.5380],\n",
       "              [ 0.3122,  0.4799, -0.5822,  ..., -0.2551,  0.9614, -0.2153],\n",
       "              ...,\n",
       "              [-0.0059,  0.3564, -1.0588,  ..., -0.5445,  0.1565, -0.3905],\n",
       "              [ 0.7192,  0.4721, -0.7537,  ..., -0.9467,  0.2782, -0.0478],\n",
       "              [ 1.1439,  0.4017, -0.7365,  ..., -0.5761,  0.1096,  0.1848]],\n",
       "    \n",
       "             [[-0.0128,  0.1925,  1.0920,  ...,  0.4594,  0.2365,  0.0480],\n",
       "              [ 0.0099, -0.0899,  0.4835,  ...,  0.0174,  1.0552, -0.4265],\n",
       "              [-0.2836,  0.3932,  0.5278,  ...,  0.8343,  1.0706, -0.7328],\n",
       "              ...,\n",
       "              [-0.3765,  0.5437,  0.2344,  ..., -0.7338,  1.6809, -1.1795],\n",
       "              [-1.2525,  1.0953,  0.7100,  ..., -0.2391,  1.2304, -1.4069],\n",
       "              [ 0.2567, -0.1644,  0.0619,  ...,  0.2920,  0.5622, -0.2909]],\n",
       "    \n",
       "             [[-0.6757,  0.4502, -0.2609,  ..., -0.7653, -2.1103,  2.2313],\n",
       "              [-1.1425,  1.2428,  0.9859,  ..., -0.5558, -2.2188,  2.4991],\n",
       "              [-1.5486,  1.3693,  0.6198,  ...,  0.7905, -1.6989,  1.7865],\n",
       "              ...,\n",
       "              [-2.2305,  1.0317, -0.4439,  ...,  0.9464, -2.1203, -0.1396],\n",
       "              [-1.0749,  0.7928, -0.4232,  ...,  0.7202, -1.5237, -0.3332],\n",
       "              [-2.2208,  0.5714,  0.0340,  ...,  0.4166, -2.8835, -0.3782]],\n",
       "    \n",
       "             ...,\n",
       "    \n",
       "             [[-0.3318,  0.5610,  0.7763,  ..., -0.5046,  0.1397,  0.6193],\n",
       "              [-0.4802,  0.4545,  0.5983,  ..., -0.1125,  0.0924,  0.4436],\n",
       "              [-0.3022,  0.4847,  0.7895,  ..., -0.3073, -0.2881, -0.0861],\n",
       "              ...,\n",
       "              [-0.9775, -0.5146,  0.5931,  ...,  0.2046, -0.2983,  0.4921],\n",
       "              [ 0.0577,  0.1513,  0.6237,  ...,  0.0514, -0.3236, -0.0919],\n",
       "              [ 0.0074,  0.0927,  0.3415,  ..., -0.5113,  0.1606,  0.0905]],\n",
       "    \n",
       "             [[ 0.6655,  1.0287, -0.3520,  ...,  0.1199,  0.0383,  0.1351],\n",
       "              [ 0.0082,  1.0085,  0.1135,  ...,  0.2028,  0.3539,  0.2401],\n",
       "              [-0.1490,  0.1923,  0.0340,  ..., -0.2224, -0.2666,  0.3351],\n",
       "              ...,\n",
       "              [ 0.0726,  0.4207,  0.2846,  ...,  0.0556,  0.2315, -0.0434],\n",
       "              [ 0.0913,  0.4100, -0.0191,  ..., -0.2299, -0.2048,  0.1260],\n",
       "              [ 0.1592, -0.0471, -0.4443,  ...,  0.1232,  0.3920,  0.3209]],\n",
       "    \n",
       "             [[-0.3330,  0.0773, -0.6680,  ...,  0.1150, -1.3802,  0.0819],\n",
       "              [-0.0983, -0.3249,  0.0254,  ...,  0.4713, -1.4069,  0.6313],\n",
       "              [-0.8929,  0.5928, -0.2651,  ...,  0.3166, -1.9566,  0.6203],\n",
       "              ...,\n",
       "              [ 0.3262, -0.2003, -0.4600,  ...,  0.2226, -0.7891,  1.4392],\n",
       "              [ 0.0789,  0.1767,  0.0678,  ..., -0.5910, -1.1197,  1.1473],\n",
       "              [ 0.0881,  0.2936, -0.5806,  ...,  0.1085, -0.9963,  1.5987]]]]),\n",
       "    'prev_key_padding_mask': None},\n",
       "   'encoder_decoder': {'prev_key': tensor([[[[-3.6616e-01, -4.0182e-01, -1.8509e-01,  ...,  2.1838e-01,\n",
       "               -2.4470e-01, -7.0684e-01],\n",
       "              [-6.4479e-02, -7.1229e-01,  2.1648e-01,  ..., -7.6443e-01,\n",
       "               -5.5732e-01,  5.5454e-03],\n",
       "              [-1.2056e+00,  2.7023e-01, -1.1877e-01,  ..., -4.3619e-01,\n",
       "               -2.6237e-02, -1.0924e+00],\n",
       "              ...,\n",
       "              [-1.1888e+00, -1.0687e+00, -6.9280e-01,  ..., -5.2430e-01,\n",
       "               -1.5224e-01, -1.7299e-01],\n",
       "              [-3.9156e-01,  2.4904e-01, -1.5083e+00,  ..., -1.7233e+00,\n",
       "                6.3109e-01, -4.2390e-01],\n",
       "              [ 1.8966e-02, -1.5035e-01, -2.1716e-01,  ..., -2.9557e-01,\n",
       "                3.6368e-02, -7.8248e-01]],\n",
       "    \n",
       "             [[-3.6144e-01,  8.6916e-02,  5.6274e-01,  ..., -2.1401e-01,\n",
       "                4.3845e-01, -3.4840e-01],\n",
       "              [ 5.9675e-02, -1.4489e-01,  2.3496e+00,  ..., -2.2605e-01,\n",
       "                6.5763e-01, -1.2174e+00],\n",
       "              [ 1.5079e-01, -6.1714e-01,  1.8082e+00,  ...,  1.3001e-01,\n",
       "                5.4519e-01, -1.0035e+00],\n",
       "              ...,\n",
       "              [-2.0864e-04,  6.4167e-03,  1.2917e+00,  ..., -3.0422e-01,\n",
       "                8.6334e-01, -1.5698e+00],\n",
       "              [-1.3356e-02,  1.4282e-01,  2.5518e+00,  ..., -5.3164e-01,\n",
       "                1.4090e+00, -1.7231e+00],\n",
       "              [-2.3535e-01,  1.3204e-01,  5.7534e-01,  ..., -1.6871e-01,\n",
       "                3.2291e-01, -4.0083e-01]],\n",
       "    \n",
       "             [[-2.6808e-01, -5.5409e-01, -2.0233e-01,  ...,  5.2835e-01,\n",
       "               -3.9500e-01,  8.0296e-02],\n",
       "              [-5.1899e-01, -1.7049e+00, -1.4948e-01,  ...,  4.6511e-01,\n",
       "                1.1034e-01,  2.5514e-01],\n",
       "              [-1.5946e+00, -7.2978e-01, -2.3459e-01,  ...,  3.8608e-01,\n",
       "                4.3424e-01,  3.7390e-01],\n",
       "              ...,\n",
       "              [-5.6918e-01,  4.6421e-01, -4.3474e-01,  ..., -3.2830e-01,\n",
       "                1.9861e-01,  3.9178e-01],\n",
       "              [-3.2644e-01, -7.9666e-01, -1.8110e+00,  ...,  6.5489e-02,\n",
       "               -1.8072e-01, -3.0488e-01],\n",
       "              [-2.2480e-01, -3.6019e-01, -7.4992e-01,  ...,  1.5469e-01,\n",
       "               -4.1510e-01, -6.7547e-02]],\n",
       "    \n",
       "             ...,\n",
       "    \n",
       "             [[ 3.3907e-02,  3.7264e-01, -6.8898e-02,  ..., -6.8983e-01,\n",
       "               -2.6845e-01,  4.7423e-01],\n",
       "              [-3.2803e-02,  1.3079e+00,  3.3757e-02,  ..., -8.4174e-01,\n",
       "               -9.1132e-01,  7.5869e-01],\n",
       "              [ 4.6021e-01,  7.4589e-01, -1.8851e-01,  ..., -4.8587e-01,\n",
       "               -2.0616e-01,  9.5187e-01],\n",
       "              ...,\n",
       "              [ 1.0044e+00,  3.5248e-01, -3.3128e-01,  ..., -5.7431e-01,\n",
       "                4.6704e-01, -2.2367e-01],\n",
       "              [ 1.2602e+00,  4.9487e-01, -7.1853e-01,  ...,  5.9109e-02,\n",
       "               -4.7428e-01, -1.5135e+00],\n",
       "              [ 2.8138e-01,  3.0004e-01, -2.4951e-01,  ..., -2.8860e-01,\n",
       "               -1.0490e-01, -2.7372e-01]],\n",
       "    \n",
       "             [[ 4.3627e-01,  5.8087e-01,  4.7605e-01,  ..., -4.4265e-01,\n",
       "               -3.9703e-01,  1.4163e-02],\n",
       "              [-3.7156e-02,  5.0235e-01, -1.9763e-01,  ..., -1.1116e+00,\n",
       "               -1.5128e-01, -5.2712e-01],\n",
       "              [ 3.3287e-01, -3.7785e-01, -1.4169e-01,  ..., -1.3634e+00,\n",
       "               -1.7718e+00,  2.8552e-01],\n",
       "              ...,\n",
       "              [ 1.7934e+00, -2.4606e-01,  1.7294e-01,  ..., -8.9359e-01,\n",
       "               -1.8646e-01, -1.1508e+00],\n",
       "              [-6.4528e-01, -3.9034e-01, -1.4363e+00,  ..., -4.8558e-01,\n",
       "               -9.0882e-01, -1.7125e+00],\n",
       "              [ 4.5042e-01,  3.3176e-01,  1.3178e-01,  ..., -4.0084e-01,\n",
       "                1.7463e-01, -4.2018e-01]],\n",
       "    \n",
       "             [[ 7.3869e-02,  5.6172e-01, -4.5126e-01,  ...,  7.1184e-01,\n",
       "               -1.0685e+00,  1.5597e-01],\n",
       "              [ 1.4295e+00,  1.6708e-01, -1.9557e+00,  ...,  1.2362e+00,\n",
       "               -1.3876e+00,  1.2032e+00],\n",
       "              [ 5.2357e-01,  1.2164e+00, -1.7111e+00,  ...,  1.3318e+00,\n",
       "               -1.4083e+00,  5.6095e-01],\n",
       "              ...,\n",
       "              [-1.9711e-01, -1.0514e-01, -1.2026e+00,  ...,  1.8026e+00,\n",
       "               -1.7810e+00, -4.2208e-01],\n",
       "              [-2.1649e-01,  1.0547e-01, -1.9396e+00,  ...,  2.0849e+00,\n",
       "               -5.3188e-01,  1.2854e+00],\n",
       "              [ 2.3491e-01,  5.7797e-01, -5.5214e-01,  ...,  8.4466e-01,\n",
       "               -1.0931e+00,  2.6421e-01]]]]),\n",
       "    'prev_value': tensor([[[[ 1.4786e-01, -1.9019e-01, -5.1243e-02,  ...,  2.7939e-01,\n",
       "                6.1882e-02,  5.6013e-03],\n",
       "              [-5.0397e-02,  2.6890e-01, -4.5263e-01,  ..., -1.1787e-01,\n",
       "               -4.3991e-01, -1.3605e+00],\n",
       "              [ 2.8726e-01, -4.9320e-01, -3.1383e-01,  ...,  1.8283e-01,\n",
       "               -1.3587e-01, -4.0301e-01],\n",
       "              ...,\n",
       "              [ 2.0098e-01, -3.4638e-01,  3.3232e-01,  ...,  3.0658e-01,\n",
       "                3.0608e-01,  1.5324e-01],\n",
       "              [-6.8540e-01, -3.3268e-01,  1.5846e-01,  ..., -7.3929e-01,\n",
       "               -4.2027e-01, -1.8577e-01],\n",
       "              [-9.2902e-02, -1.4245e-01,  1.5198e-02,  ...,  2.9816e-02,\n",
       "               -9.0109e-02,  8.3910e-02]],\n",
       "    \n",
       "             [[-2.8416e-02, -1.9399e-01, -6.3224e-02,  ...,  8.5193e-02,\n",
       "                9.0296e-02,  3.0515e-02],\n",
       "              [-4.6062e-01, -6.3081e-01,  3.2332e-01,  ..., -1.2804e+00,\n",
       "               -4.5104e-03,  3.7012e-01],\n",
       "              [ 2.0465e-01,  4.7613e-02,  6.0262e-02,  ...,  5.6861e-01,\n",
       "                3.6006e-01,  1.1136e+00],\n",
       "              ...,\n",
       "              [-2.4613e-02,  2.8493e-01, -5.4672e-01,  ..., -2.0476e-01,\n",
       "                4.8916e-01, -2.3961e-01],\n",
       "              [ 6.1269e-01, -4.0063e-01, -1.5415e-01,  ..., -1.7037e-01,\n",
       "               -2.9857e-01,  6.0732e-01],\n",
       "              [ 1.7512e-02,  6.3654e-02,  6.2607e-02,  ...,  9.3274e-02,\n",
       "                1.8114e-01,  3.5307e-02]],\n",
       "    \n",
       "             [[ 1.1782e-01, -2.1540e-02,  1.8566e-03,  ..., -4.6203e-02,\n",
       "               -9.7579e-02, -1.0548e-01],\n",
       "              [ 3.2260e-01,  8.2699e-01,  2.9158e-01,  ...,  4.7888e-01,\n",
       "               -2.0347e-02, -5.8528e-01],\n",
       "              [-5.9837e-01, -5.3322e-01, -2.3845e-01,  ..., -4.7438e-01,\n",
       "               -2.7909e-01, -4.0723e-01],\n",
       "              ...,\n",
       "              [-2.6723e-01,  8.2659e-01, -3.1418e-01,  ...,  2.1021e-01,\n",
       "                2.1630e-01, -4.4766e-01],\n",
       "              [-9.5815e-01,  3.8152e-01, -5.7938e-01,  ..., -1.3378e-01,\n",
       "               -1.1316e-01,  3.8792e-02],\n",
       "              [-2.0232e-02, -6.0504e-02, -9.4665e-02,  ...,  1.2183e-01,\n",
       "               -4.5293e-02,  5.8877e-02]],\n",
       "    \n",
       "             ...,\n",
       "    \n",
       "             [[-3.2411e-02, -6.7592e-03, -1.9217e-01,  ..., -1.1152e-01,\n",
       "               -8.4710e-02, -7.4783e-02],\n",
       "              [ 2.6365e-01, -6.8597e-01,  1.7654e-01,  ...,  2.9206e-01,\n",
       "               -4.3739e-02, -1.0731e-01],\n",
       "              [ 1.2450e-03,  4.0255e-01,  7.0282e-01,  ...,  4.6689e-01,\n",
       "               -4.0894e-01,  5.5229e-01],\n",
       "              ...,\n",
       "              [ 2.9092e-01,  9.1497e-02,  9.1789e-02,  ...,  1.4870e-01,\n",
       "               -2.0057e-01, -4.3704e-02],\n",
       "              [-2.2225e-02, -2.9624e-01, -3.8907e-01,  ...,  2.4184e-01,\n",
       "                4.6583e-01, -5.3044e-01],\n",
       "              [-1.3136e-02, -4.0405e-02, -3.8486e-01,  ..., -1.5034e-01,\n",
       "               -1.2052e-01, -3.4261e-01]],\n",
       "    \n",
       "             [[ 1.3119e-01,  5.7860e-02,  1.0705e-01,  ..., -8.9069e-02,\n",
       "                8.3572e-02, -1.1297e-02],\n",
       "              [ 5.5408e-01, -1.2212e-01,  6.5057e-02,  ..., -8.5330e-02,\n",
       "               -2.2818e-01, -5.7802e-02],\n",
       "              [-2.2177e-02,  9.2844e-02,  3.9327e-01,  ..., -2.1034e-01,\n",
       "                4.7864e-01, -4.8376e-01],\n",
       "              ...,\n",
       "              [-7.7384e-01,  1.3757e-02,  4.4800e-01,  ..., -4.0377e-02,\n",
       "                2.7527e-01, -3.8188e-01],\n",
       "              [-5.6450e-01, -9.5785e-02, -2.2523e-02,  ...,  8.0577e-02,\n",
       "               -1.8226e-01, -1.3814e-01],\n",
       "              [ 1.1916e-01,  1.4036e-01, -3.2102e-02,  ...,  6.4266e-03,\n",
       "                2.1023e-01,  1.0381e-01]],\n",
       "    \n",
       "             [[-5.1245e-02,  1.9419e-02,  1.2575e-02,  ...,  7.0709e-02,\n",
       "                4.0821e-02, -4.5363e-02],\n",
       "              [-4.6716e-01,  9.4839e-01, -8.6119e-02,  ..., -6.0828e-01,\n",
       "                8.1578e-01, -1.7882e-01],\n",
       "              [ 6.6389e-02,  2.7912e-01,  4.5117e-01,  ..., -2.6106e-01,\n",
       "                2.7252e-01,  3.8032e-01],\n",
       "              ...,\n",
       "              [-1.1559e+00, -6.9169e-02, -1.3023e-01,  ...,  4.0538e-01,\n",
       "                6.6600e-01,  6.3399e-01],\n",
       "              [ 4.7756e-01,  1.1739e-01, -1.1275e-01,  ..., -8.1208e-01,\n",
       "               -2.6786e-02,  1.4004e-01],\n",
       "              [-1.2074e-01, -7.9649e-02,  4.0653e-02,  ..., -2.3950e-01,\n",
       "               -2.7664e-01, -4.8439e-02]]]]),\n",
       "    'prev_key_padding_mask': None}},\n",
       "  {'self': {'prev_key': tensor([[[[ 1.0786, -2.4573,  1.0620,  ..., -0.0240,  0.1650, -1.7056],\n",
       "              [ 1.2539, -1.9442,  0.5814,  ..., -0.3507,  0.5779, -2.2695],\n",
       "              [ 0.3923, -1.6969,  0.2851,  ..., -0.0232,  1.2288, -2.1743],\n",
       "              ...,\n",
       "              [ 1.3185, -1.5432, -0.9113,  ...,  0.2378,  0.4466, -2.6453],\n",
       "              [ 1.1000, -1.3861, -0.8115,  ...,  0.9976,  0.1941, -2.9759],\n",
       "              [ 1.1703, -1.9812,  0.6183,  ...,  0.8441,  0.1882, -2.9303]],\n",
       "    \n",
       "             [[ 0.3892, -0.1134,  0.6233,  ...,  0.5424, -0.4426,  1.0852],\n",
       "              [ 0.1556,  0.0722,  0.4689,  ...,  0.8428, -0.5312,  1.0767],\n",
       "              [ 0.1963,  0.1496,  0.0365,  ...,  0.5851, -0.3369,  0.8492],\n",
       "              ...,\n",
       "              [-0.4656, -0.1611, -0.2850,  ...,  1.3392, -0.6983,  0.2984],\n",
       "              [ 0.0946, -0.0599, -0.1961,  ...,  1.0540, -0.3551, -0.1114],\n",
       "              [-0.5895,  0.1134, -0.4275,  ...,  0.8063, -0.7422,  0.7813]],\n",
       "    \n",
       "             [[-1.1065,  1.6905, -3.5255,  ...,  3.4339,  1.5854, -0.5598],\n",
       "              [-0.3818,  1.1893, -3.0321,  ...,  3.4123,  2.1027, -1.3289],\n",
       "              [-1.3244,  1.3811, -2.5365,  ...,  2.1537,  2.6096, -0.8957],\n",
       "              ...,\n",
       "              [-1.8053,  1.7157, -3.3935,  ...,  3.0698,  2.7724, -0.8714],\n",
       "              [-2.2845,  1.8739, -3.0606,  ...,  2.7080,  2.3425, -0.1871],\n",
       "              [-2.2309,  2.5940, -3.4503,  ...,  2.7752,  2.0204, -0.7998]],\n",
       "    \n",
       "             ...,\n",
       "    \n",
       "             [[ 0.0427, -1.7145,  0.0333,  ...,  2.3660,  0.5249,  1.3152],\n",
       "              [ 0.0766, -1.9122,  0.6408,  ...,  1.9238,  0.6870,  1.1031],\n",
       "              [ 1.4674, -2.5779,  0.8675,  ...,  1.3955,  0.0592,  1.0025],\n",
       "              ...,\n",
       "              [ 0.7745, -1.7299,  0.2806,  ...,  1.3122, -0.9616, -0.7171],\n",
       "              [ 0.9801, -1.0542,  0.2543,  ...,  1.5649, -0.6937, -0.6548],\n",
       "              [ 0.6379, -1.1766, -0.1398,  ...,  1.3484, -0.6904, -0.1515]],\n",
       "    \n",
       "             [[ 2.4371, -0.9199,  1.0947,  ...,  3.2940,  0.7416, -1.4279],\n",
       "              [ 1.6988, -0.8398,  1.0654,  ...,  3.1555,  1.2211, -1.6841],\n",
       "              [ 1.8543, -0.9704,  1.1290,  ...,  2.1775,  0.4944, -1.3852],\n",
       "              ...,\n",
       "              [ 1.1771, -0.9632,  2.4648,  ...,  2.5090,  0.8437, -0.5628],\n",
       "              [ 1.9574, -0.9090,  1.3660,  ...,  2.3319,  0.4252, -0.5052],\n",
       "              [ 1.1476, -0.6523,  2.1659,  ...,  2.8095,  0.2278, -1.5482]],\n",
       "    \n",
       "             [[-3.1806, -0.3751,  1.5777,  ..., -1.2858, -0.3349, -0.6481],\n",
       "              [-2.9992, -0.1535,  1.9907,  ..., -1.9345, -0.2248, -0.1774],\n",
       "              [-3.2145,  0.4015,  1.7630,  ..., -1.2778, -0.1254, -0.4338],\n",
       "              ...,\n",
       "              [-2.2422, -0.7287,  3.3320,  ..., -1.4765,  0.5827, -1.6865],\n",
       "              [-2.8995, -0.9923,  3.3317,  ..., -0.8407,  0.6703, -1.6308],\n",
       "              [-2.2865, -1.2800,  4.7821,  ..., -0.9731,  0.2096, -0.9051]]]]),\n",
       "    'prev_value': tensor([[[[-0.4650, -0.6465,  0.1047,  ..., -0.6660, -0.0547, -0.6353],\n",
       "              [-0.4128, -0.3678,  0.1762,  ..., -1.0956, -0.0721, -0.2333],\n",
       "              [ 0.1028, -0.2051, -0.7875,  ..., -1.1033,  0.1012, -0.2511],\n",
       "              ...,\n",
       "              [ 0.5322,  0.4511,  0.1378,  ..., -2.0055, -0.2588, -0.1245],\n",
       "              [ 0.5615,  0.9324, -0.9520,  ..., -1.4706, -0.3713,  0.6957],\n",
       "              [ 1.5624,  1.4346,  0.1168,  ..., -1.6842,  0.4153, -0.1295]],\n",
       "    \n",
       "             [[ 0.6719, -0.7559, -0.6868,  ...,  0.5003,  1.0788,  0.3501],\n",
       "              [ 0.3570, -0.0845, -0.2145,  ...,  0.6216,  1.3628, -0.0757],\n",
       "              [ 0.3144,  0.3590, -0.2320,  ...,  1.0587,  0.6261,  0.3555],\n",
       "              ...,\n",
       "              [-0.4282,  0.5108, -0.4949,  ...,  0.9572,  1.6459,  0.2193],\n",
       "              [-0.7168,  0.1784, -0.0113,  ...,  1.8232,  0.6767,  0.5912],\n",
       "              [-0.7606,  0.0461, -0.3209,  ...,  1.1214,  1.1142, -0.3615]],\n",
       "    \n",
       "             [[ 1.1910,  0.1930, -0.5043,  ...,  0.5207,  1.7079,  1.5071],\n",
       "              [ 0.7431, -0.0743, -0.4003,  ...,  0.3252,  1.3208,  1.4143],\n",
       "              [ 0.4032, -0.5283, -0.1828,  ...,  0.9426,  0.6093,  1.0430],\n",
       "              ...,\n",
       "              [ 0.2943, -0.6599, -0.0768,  ...,  0.5494,  0.2320,  0.2514],\n",
       "              [-0.0033, -0.0277,  0.2472,  ...,  0.5466, -0.0621,  0.5934],\n",
       "              [ 0.3325, -0.3417,  0.0024,  ...,  0.6789,  0.8871,  0.0414]],\n",
       "    \n",
       "             ...,\n",
       "    \n",
       "             [[-0.4735,  0.8384,  0.1025,  ..., -0.4455,  0.2744,  0.6022],\n",
       "              [-0.6351,  0.4040, -0.4424,  ..., -0.6899,  0.3707,  0.6133],\n",
       "              [-0.1071, -0.1488, -0.8194,  ..., -0.6658, -0.0601,  0.5307],\n",
       "              ...,\n",
       "              [-0.4642,  1.0749, -0.2243,  ..., -0.5491,  0.7151, -0.2332],\n",
       "              [ 0.1768,  0.7328, -0.9319,  ..., -0.5603,  0.3063, -0.0198],\n",
       "              [-0.3760,  1.0854, -0.7366,  ..., -0.6375,  0.9814,  0.2246]],\n",
       "    \n",
       "             [[ 1.1535, -0.4887,  0.5032,  ...,  0.2698,  0.0388,  0.0048],\n",
       "              [ 1.5794, -0.5340,  0.6083,  ...,  0.2188,  0.1188,  0.0292],\n",
       "              [ 0.5081, -0.2324,  1.3199,  ...,  0.4175,  0.9392,  0.4736],\n",
       "              ...,\n",
       "              [ 0.9498,  0.5004, -0.1598,  ..., -0.1476,  0.3879, -0.3847],\n",
       "              [ 0.3598,  0.3713,  0.8257,  ...,  0.9476,  1.4262,  0.2486],\n",
       "              [ 0.3553,  0.7210,  0.3100,  ..., -0.1864,  0.7318, -0.3100]],\n",
       "    \n",
       "             [[ 0.2556,  0.0448, -0.2817,  ..., -0.6540, -1.5005, -0.6380],\n",
       "              [ 0.4099, -0.0318, -0.3381,  ..., -0.4257, -1.1033, -0.6276],\n",
       "              [-0.1065, -0.2422,  0.3767,  ..., -0.1466, -0.8344, -0.6758],\n",
       "              ...,\n",
       "              [ 0.4070, -0.1742,  0.2083,  ..., -0.1375, -1.4892, -0.9273],\n",
       "              [ 0.2274, -0.2431,  0.6381,  ...,  0.4256, -1.1603, -0.9753],\n",
       "              [ 0.9884, -0.1205, -0.2061,  ...,  0.3669, -1.1831, -1.1901]]]]),\n",
       "    'prev_key_padding_mask': None},\n",
       "   'encoder_decoder': {'prev_key': tensor([[[[-1.5711e-01,  3.3163e-01,  1.4636e-01,  ...,  1.0844e-01,\n",
       "               -3.5982e-01,  6.6427e-01],\n",
       "              [-1.5167e-02,  4.9956e-01,  9.6413e-01,  ...,  4.0752e-01,\n",
       "               -2.1532e-01,  1.1576e+00],\n",
       "              [-3.2074e-01, -2.3080e-01,  9.1048e-01,  ...,  9.9732e-02,\n",
       "                7.3382e-01,  1.9638e+00],\n",
       "              ...,\n",
       "              [ 5.7372e-01,  4.2205e-01,  3.5687e-01,  ..., -2.0015e-02,\n",
       "                4.8156e-02,  1.3505e+00],\n",
       "              [-1.1607e-01,  7.7893e-02,  4.7785e-01,  ..., -6.8934e-01,\n",
       "                7.8541e-01,  1.2728e+00],\n",
       "              [-1.4218e-03,  2.2220e-01, -9.6997e-02,  ..., -1.8964e-01,\n",
       "               -3.0267e-01,  2.2963e-01]],\n",
       "    \n",
       "             [[-1.3036e+00, -7.6016e-01,  6.5263e-01,  ...,  4.9169e-01,\n",
       "               -8.6391e-02,  5.0125e-01],\n",
       "              [-2.2354e+00, -1.2248e+00,  1.6166e+00,  ...,  2.0227e+00,\n",
       "                1.0599e-01,  1.5788e+00],\n",
       "              [-2.2332e+00, -6.5981e-01,  1.1650e+00,  ...,  1.4726e+00,\n",
       "               -2.9441e-01,  1.2598e+00],\n",
       "              ...,\n",
       "              [-3.5406e+00, -1.5498e+00,  1.3269e+00,  ...,  1.1090e+00,\n",
       "                5.9752e-01,  2.0916e+00],\n",
       "              [-1.8912e+00, -1.2044e+00,  8.5557e-01,  ...,  1.9473e+00,\n",
       "                1.3523e-01,  1.1524e+00],\n",
       "              [-1.3315e+00, -9.4833e-01,  7.4520e-01,  ...,  5.1146e-01,\n",
       "                2.0609e-01,  6.1548e-01]],\n",
       "    \n",
       "             [[ 7.3494e-01, -4.3791e-02, -7.3733e-01,  ...,  5.3250e-01,\n",
       "               -4.0204e-01, -6.7831e-01],\n",
       "              [ 1.0683e+00,  7.1716e-01, -1.0739e+00,  ...,  1.3376e+00,\n",
       "               -8.8944e-01,  2.2833e-02],\n",
       "              [ 8.3195e-01,  2.3438e-01, -7.6935e-01,  ...,  6.7873e-01,\n",
       "               -7.3429e-01, -8.8419e-01],\n",
       "              ...,\n",
       "              [ 1.1759e+00,  2.3863e-01, -4.3196e-01,  ...,  1.3955e+00,\n",
       "               -2.3997e-01, -1.2918e+00],\n",
       "              [ 4.7844e-01, -8.8231e-01, -3.7913e-01,  ...,  4.1662e-01,\n",
       "               -3.7501e-01,  1.3179e-01],\n",
       "              [ 4.5739e-01, -2.8050e-01, -7.0057e-01,  ...,  4.7904e-01,\n",
       "               -1.3112e-01, -3.3446e-01]],\n",
       "    \n",
       "             ...,\n",
       "    \n",
       "             [[-5.8203e-01, -4.0230e-02, -9.4540e-02,  ...,  4.9386e-01,\n",
       "               -7.5255e-01, -2.6305e-01],\n",
       "              [-1.5300e+00, -2.1990e-01, -4.8001e-01,  ...,  5.3976e-01,\n",
       "               -1.0623e+00,  1.3439e+00],\n",
       "              [-5.9481e-01, -7.2949e-01, -6.4646e-01,  ...,  2.2058e-01,\n",
       "               -6.3144e-01,  9.7157e-01],\n",
       "              ...,\n",
       "              [-2.1155e-01,  1.0186e+00,  5.2744e-01,  ...,  7.6377e-01,\n",
       "               -1.2188e+00,  8.8453e-02],\n",
       "              [-1.0272e+00,  1.2040e-01,  1.9444e-01,  ...,  5.8066e-01,\n",
       "               -1.6088e+00, -3.7101e-01],\n",
       "              [-5.5718e-01,  3.3936e-01,  9.4544e-02,  ...,  3.8575e-01,\n",
       "               -8.2697e-01, -2.8097e-01]],\n",
       "    \n",
       "             [[-1.1470e+00, -9.2949e-01, -2.6368e-01,  ...,  2.9216e-01,\n",
       "                5.8826e-01, -7.8078e-02],\n",
       "              [-1.5218e+00, -1.1223e+00, -1.1530e+00,  ...,  1.7628e+00,\n",
       "                1.8636e+00, -2.5723e-01],\n",
       "              [-2.6708e+00, -7.9515e-01, -4.1435e-01,  ...,  7.5964e-01,\n",
       "                2.0849e+00, -3.6345e-01],\n",
       "              ...,\n",
       "              [-2.7097e+00, -2.1493e+00,  1.7324e-01,  ...,  3.6551e-01,\n",
       "                2.0663e-01, -1.8967e-01],\n",
       "              [-1.9485e+00, -4.9699e-01, -1.1757e+00,  ...,  1.8829e+00,\n",
       "                1.3904e+00, -1.3949e+00],\n",
       "              [-1.0371e+00, -6.5721e-01, -2.6398e-01,  ...,  6.5333e-01,\n",
       "                9.3370e-01, -1.1149e-01]],\n",
       "    \n",
       "             [[-2.7932e-01,  4.4579e-01, -1.3012e-01,  ...,  1.4640e-01,\n",
       "                1.0999e-01,  2.3987e-01],\n",
       "              [-8.3571e-02,  2.2800e-01, -1.4304e+00,  ...,  5.5765e-01,\n",
       "                2.8818e-01,  4.4012e-01],\n",
       "              [-1.0560e-01, -1.6765e-01, -8.3572e-01,  ...,  8.5267e-01,\n",
       "                6.8058e-01, -2.1220e-02],\n",
       "              ...,\n",
       "              [-2.2410e-01,  5.9110e-01, -1.3241e-01,  ..., -2.0425e-01,\n",
       "                5.7500e-01,  2.0105e-01],\n",
       "              [ 7.6813e-02,  8.4209e-02, -1.0972e+00,  ...,  1.1637e+00,\n",
       "                1.0017e+00,  5.7447e-01],\n",
       "              [ 5.8038e-02,  2.4580e-01, -7.4651e-02,  ...,  2.9351e-01,\n",
       "                3.5288e-01,  2.6613e-01]]]]),\n",
       "    'prev_value': tensor([[[[ 1.1107e-02,  1.0759e-01,  7.7873e-02,  ..., -1.9503e-01,\n",
       "               -3.4983e-02,  1.1792e-01],\n",
       "              [ 6.9304e-02,  4.3806e-02,  1.7009e-01,  ..., -6.1841e-01,\n",
       "                4.0110e-01,  4.8814e-02],\n",
       "              [ 1.0189e+00,  5.2064e-01, -8.8646e-01,  ..., -1.3005e-02,\n",
       "               -2.1342e-01,  5.2805e-01],\n",
       "              ...,\n",
       "              [-4.8737e-01,  2.9467e-01,  1.4037e-01,  ...,  3.0934e-01,\n",
       "                4.4938e-01, -2.9773e-01],\n",
       "              [ 4.5299e-01,  2.5072e-01,  1.3500e-01,  ...,  1.4042e-02,\n",
       "                7.0469e-01, -4.7451e-02],\n",
       "              [ 9.8248e-02, -4.6104e-02,  1.1339e-01,  ..., -1.6201e-01,\n",
       "               -1.0110e-02, -5.8325e-02]],\n",
       "    \n",
       "             [[ 1.0994e-01, -2.0341e-01, -1.4444e-01,  ...,  5.9723e-03,\n",
       "               -2.4112e-01, -1.6111e-01],\n",
       "              [ 4.0713e-01, -4.3749e-02,  5.1274e-01,  ...,  1.1600e+00,\n",
       "                1.8922e-01,  6.0626e-02],\n",
       "              [-7.1271e-01, -2.3001e-01,  2.6464e-01,  ..., -2.6788e-01,\n",
       "               -1.0373e+00,  7.0869e-02],\n",
       "              ...,\n",
       "              [-5.6347e-01, -3.7559e-02, -1.0108e+00,  ...,  5.3816e-01,\n",
       "                7.4510e-01,  4.6104e-01],\n",
       "              [ 3.7498e-01,  2.5700e-01,  3.1539e-01,  ...,  2.4210e-01,\n",
       "                4.1768e-02,  5.4203e-01],\n",
       "              [ 2.2612e-01,  1.1280e-02,  8.7958e-02,  ..., -1.6766e-01,\n",
       "               -2.3047e-01, -1.2863e-01]],\n",
       "    \n",
       "             [[ 1.3104e-02, -6.2122e-02, -1.3621e-01,  ...,  4.3866e-02,\n",
       "                7.1249e-02, -3.4759e-02],\n",
       "              [-3.7349e-02, -6.9817e-01,  8.2018e-01,  ..., -5.1770e-01,\n",
       "                7.1259e-01,  5.1618e-01],\n",
       "              [-2.2165e-01, -3.0249e-01, -6.1490e-02,  ..., -1.9854e-01,\n",
       "                3.1963e-02,  8.8614e-01],\n",
       "              ...,\n",
       "              [-5.1774e-01,  4.0962e-02, -5.3444e-01,  ..., -1.1613e-01,\n",
       "                4.9870e-01,  6.8063e-02],\n",
       "              [-2.1911e-01, -3.3658e-01,  5.9730e-02,  ..., -2.0326e-01,\n",
       "                4.8459e-01, -2.5853e-01],\n",
       "              [ 9.2442e-03,  7.7242e-02,  2.8904e-02,  ..., -3.8329e-02,\n",
       "                1.0296e-01, -9.9827e-03]],\n",
       "    \n",
       "             ...,\n",
       "    \n",
       "             [[-3.8294e-02, -1.8870e-01,  9.7481e-02,  ..., -1.1999e-01,\n",
       "               -1.9277e-02,  1.8308e-01],\n",
       "              [ 6.5298e-02, -4.0677e-01, -7.4329e-02,  ..., -6.0844e-01,\n",
       "               -7.1549e-01, -5.7505e-02],\n",
       "              [-7.3258e-02, -5.5769e-01,  9.5068e-02,  ..., -2.4579e-01,\n",
       "                6.9169e-01,  1.5277e-01],\n",
       "              ...,\n",
       "              [-4.3455e-01, -1.1342e-01, -3.9831e-01,  ..., -8.2882e-01,\n",
       "                4.6393e-01,  1.5582e-01],\n",
       "              [ 8.3279e-02, -3.2862e-01, -2.8894e-01,  ..., -6.5697e-01,\n",
       "               -2.7158e-01, -5.6420e-01],\n",
       "              [-3.3034e-02,  1.6439e-02, -2.7514e-01,  ...,  1.7076e-01,\n",
       "                1.2590e-01, -1.1762e-01]],\n",
       "    \n",
       "             [[ 1.0597e-01, -3.2704e-02,  9.6955e-02,  ...,  4.1949e-02,\n",
       "               -5.4061e-03,  5.1693e-02],\n",
       "              [ 6.2597e-01, -1.0445e-01,  3.9969e-02,  ...,  8.8713e-01,\n",
       "               -5.4974e-02, -1.6568e-01],\n",
       "              [-3.0234e-01, -8.4579e-01,  1.0563e+00,  ..., -8.2594e-01,\n",
       "               -1.5142e-02, -1.6160e-01],\n",
       "              ...,\n",
       "              [-5.6416e-01, -5.3371e-01,  5.6500e-01,  ...,  1.1763e-01,\n",
       "               -3.9383e-01,  3.4920e-01],\n",
       "              [-1.6980e-01, -2.5712e-01,  3.3453e-02,  ...,  3.8700e-01,\n",
       "               -2.5532e-01, -6.7835e-01],\n",
       "              [ 2.0013e-01,  6.6028e-02, -4.2959e-02,  ...,  4.0228e-02,\n",
       "               -2.1211e-02, -1.5906e-02]],\n",
       "    \n",
       "             [[ 7.5887e-02, -9.1818e-03,  1.3580e-01,  ..., -1.4933e-01,\n",
       "                1.7052e-02, -1.6065e-01],\n",
       "              [-5.0107e-01, -7.1010e-01, -7.9300e-01,  ..., -3.3779e-01,\n",
       "               -1.3278e-02, -1.6631e-01],\n",
       "              [ 4.3908e-01,  3.5601e-01, -5.5003e-01,  ..., -9.6066e-01,\n",
       "               -2.1473e-01, -4.4139e-01],\n",
       "              ...,\n",
       "              [-2.5725e-01,  2.8446e-01, -2.5906e-01,  ...,  1.5803e-01,\n",
       "                3.2442e-03, -1.9616e-01],\n",
       "              [-1.3240e-01, -2.9325e-01, -3.8476e-01,  ...,  9.8643e-02,\n",
       "                1.2473e-01, -3.5927e-02],\n",
       "              [ 8.7539e-04, -5.4039e-02, -5.4840e-03,  ..., -1.2192e-01,\n",
       "                1.5223e-01, -8.1721e-02]]]]),\n",
       "    'prev_key_padding_mask': None}},\n",
       "  {'self': {'prev_key': tensor([[[[-1.3137, -3.0840,  1.5314,  ...,  0.7828, -0.1586, -0.3873],\n",
       "              [-1.2703, -2.9476,  1.9303,  ...,  0.6305, -0.8193, -0.4382],\n",
       "              [-1.2461, -2.7332,  2.1963,  ...,  0.9076, -1.4350,  0.2660],\n",
       "              ...,\n",
       "              [-1.2251, -3.2496,  1.9728,  ...,  0.8513, -0.9843,  0.0953],\n",
       "              [-1.1286, -3.3279,  2.4675,  ...,  0.9858, -1.6961, -0.0066],\n",
       "              [-1.1955, -2.9466,  1.3573,  ...,  0.5601, -1.1225, -0.1153]],\n",
       "    \n",
       "             [[ 0.8363,  1.7573, -0.0464,  ...,  1.2543,  1.8991, -0.1633],\n",
       "              [ 0.5300,  1.9311,  0.2553,  ...,  1.5390,  1.8008, -1.1767],\n",
       "              [ 0.9255,  1.8885,  0.5714,  ...,  1.0353,  1.8284, -0.3773],\n",
       "              ...,\n",
       "              [ 0.1633,  1.1362,  0.8314,  ...,  2.2417,  1.0925, -0.1335],\n",
       "              [ 0.4345,  1.7972,  1.0577,  ...,  1.8163,  1.4781,  0.4214],\n",
       "              [ 0.3478,  1.1958,  0.3124,  ...,  2.1961,  0.9861,  0.4018]],\n",
       "    \n",
       "             [[ 0.9049, -4.0828, -3.5065,  ...,  2.7423,  0.2129,  4.1556],\n",
       "              [ 0.3179, -3.7650, -3.2166,  ...,  3.2237,  1.1401,  4.2567],\n",
       "              [-0.0207, -3.4614, -3.8181,  ...,  3.5230,  0.8778,  4.0965],\n",
       "              ...,\n",
       "              [-0.5261, -2.7322, -4.2807,  ...,  2.3567,  1.5052,  3.9930],\n",
       "              [-0.2873, -2.9646, -4.3418,  ...,  3.0169,  1.1597,  3.6723],\n",
       "              [-0.8288, -3.3580, -3.7032,  ...,  2.8287,  1.6012,  4.0869]],\n",
       "    \n",
       "             ...,\n",
       "    \n",
       "             [[-2.1438, -2.0998,  1.3922,  ...,  0.7957, -2.3940,  2.0840],\n",
       "              [-1.8087, -2.2661,  1.2219,  ...,  0.3749, -2.9785,  1.7554],\n",
       "              [-2.7493, -1.7824,  0.7348,  ...,  0.1979, -2.9415,  2.0613],\n",
       "              ...,\n",
       "              [-1.4595, -2.7164,  1.0750,  ...,  0.6508, -2.7032,  1.9368],\n",
       "              [-2.7116, -2.4944,  0.7297,  ...,  0.7593, -3.2642,  2.5467],\n",
       "              [-2.9043, -2.7057,  0.6591,  ...,  0.7207, -2.8730,  2.6208]],\n",
       "    \n",
       "             [[-2.9009,  1.1071,  2.5619,  ..., -0.9952,  2.8290,  3.0007],\n",
       "              [-2.8228,  1.3158,  2.1519,  ..., -0.0751,  2.8668,  2.1463],\n",
       "              [-2.1083,  1.3903,  2.1284,  ..., -0.4410,  3.4291,  1.3123],\n",
       "              ...,\n",
       "              [-3.0688,  1.6285,  2.4075,  ...,  0.1327,  2.7448,  1.5054],\n",
       "              [-2.7261,  1.7518,  2.3963,  ..., -0.4382,  3.6085,  1.1680],\n",
       "              [-2.4602,  1.5760,  3.0580,  ..., -1.1102,  3.7105,  2.5743]],\n",
       "    \n",
       "             [[-0.3275, -1.5552, -4.9538,  ...,  2.1777, -0.2020,  0.9823],\n",
       "              [-0.8979, -1.7720, -4.1663,  ...,  2.2935, -1.0723,  1.1071],\n",
       "              [-1.6778, -1.7164, -3.9305,  ...,  2.1543, -1.0369,  1.6188],\n",
       "              ...,\n",
       "              [-1.5350, -1.8589, -3.4932,  ...,  1.8842, -2.3318,  1.5376],\n",
       "              [-1.6560, -2.3895, -3.3073,  ...,  1.8943, -1.7222,  0.9717],\n",
       "              [-1.2056, -1.6075, -3.9353,  ...,  2.1476, -1.9533,  1.7132]]]]),\n",
       "    'prev_value': tensor([[[[-2.6712e-01,  9.5974e-01, -2.5131e-01,  ...,  4.4729e-01,\n",
       "                7.8776e-01,  5.0272e-01],\n",
       "              [ 9.2659e-04,  8.6316e-01, -5.3462e-01,  ...,  3.9152e-01,\n",
       "                3.4127e-01,  1.0023e+00],\n",
       "              [-1.8622e-01,  3.8827e-01, -5.3389e-01,  ...,  1.0831e+00,\n",
       "               -1.7907e-02,  7.1246e-02],\n",
       "              ...,\n",
       "              [ 5.4794e-01,  2.0801e-01, -7.9341e-01,  ...,  2.8468e-01,\n",
       "               -6.8289e-02,  5.7010e-01],\n",
       "              [ 2.0008e-01,  3.9932e-02, -3.4972e-01,  ...,  3.1701e-01,\n",
       "                4.1104e-01, -1.4480e-01],\n",
       "              [-3.4902e-01,  2.1736e-01,  2.2690e-02,  ..., -1.1159e-01,\n",
       "                7.0234e-01,  3.6269e-01]],\n",
       "    \n",
       "             [[-1.7391e+00, -6.0624e-02, -7.6866e-01,  ...,  8.2773e-02,\n",
       "               -8.0634e-01, -7.1478e-01],\n",
       "              [-1.5021e+00,  2.9264e-01, -2.1637e-01,  ...,  2.7401e-01,\n",
       "               -9.4238e-01, -5.6527e-01],\n",
       "              [-1.5496e+00,  7.2116e-01, -2.6642e-01,  ...,  4.1028e-01,\n",
       "               -5.7716e-01, -1.1761e+00],\n",
       "              ...,\n",
       "              [-1.4499e+00,  7.2631e-01,  3.0239e-01,  ...,  2.2238e-01,\n",
       "                2.6387e-02, -1.2760e+00],\n",
       "              [-1.5655e+00,  8.3511e-01, -3.4871e-01,  ...,  5.0663e-01,\n",
       "                2.4569e-01, -1.1048e+00],\n",
       "              [-1.2934e+00,  7.4942e-01, -4.3796e-01,  ...,  2.0775e-01,\n",
       "                4.6374e-01, -1.0005e+00]],\n",
       "    \n",
       "             [[ 3.8651e-01,  1.1347e-01,  2.5553e-01,  ..., -1.4403e-01,\n",
       "               -2.1021e-02, -1.0124e+00],\n",
       "              [ 2.4775e-01, -8.2421e-03,  2.6512e-02,  ...,  4.9364e-01,\n",
       "                1.7577e-03, -1.1886e+00],\n",
       "              [-3.0224e-01,  2.2934e-01, -3.0842e-01,  ..., -4.3852e-01,\n",
       "               -1.4321e-01, -1.1996e+00],\n",
       "              ...,\n",
       "              [-1.2780e-01,  9.4394e-02,  2.0456e-01,  ...,  9.3350e-01,\n",
       "                1.9847e-01, -1.1570e+00],\n",
       "              [-3.9020e-01, -6.1899e-02,  6.5159e-02,  ...,  4.3203e-01,\n",
       "               -1.2163e-01, -9.3663e-01],\n",
       "              [-2.6528e-01, -2.5565e-01, -2.2725e-01,  ...,  5.6122e-01,\n",
       "                2.8840e-01, -9.1540e-01]],\n",
       "    \n",
       "             ...,\n",
       "    \n",
       "             [[-1.0047e+00, -2.4404e-01,  3.8538e-01,  ...,  8.3460e-02,\n",
       "               -5.6009e-01,  8.8521e-01],\n",
       "              [-7.3304e-01, -3.1240e-01,  3.5381e-01,  ..., -3.8927e-01,\n",
       "                1.9202e-01,  5.9892e-01],\n",
       "              [-7.4363e-01, -1.2339e-01,  3.0317e-01,  ...,  6.9208e-01,\n",
       "               -6.0411e-02,  2.5675e-01],\n",
       "              ...,\n",
       "              [-1.5367e-01, -2.7565e-01,  3.2514e-01,  ..., -1.7799e-02,\n",
       "                4.5811e-01,  6.4055e-01],\n",
       "              [-1.9338e-01, -3.4797e-01,  2.1855e-01,  ...,  1.6071e-01,\n",
       "                2.9236e-01,  4.8010e-01],\n",
       "              [ 1.4497e-02, -7.3041e-01, -4.3821e-01,  ..., -5.4221e-01,\n",
       "                5.1186e-01,  5.6922e-01]],\n",
       "    \n",
       "             [[ 3.1473e-01, -3.0876e-01, -3.5579e-01,  ..., -5.7635e-02,\n",
       "               -9.6509e-01,  4.9705e-01],\n",
       "              [ 4.1747e-01,  7.8206e-03, -2.5211e-01,  ...,  1.3426e-01,\n",
       "               -3.4290e-01,  2.8771e-01],\n",
       "              [ 6.0406e-01, -4.3139e-01, -3.4987e-01,  ..., -2.2906e-03,\n",
       "               -7.8869e-01, -2.1028e-01],\n",
       "              ...,\n",
       "              [ 2.7368e-01,  8.3916e-01,  2.0032e-01,  ...,  3.6052e-01,\n",
       "               -3.0701e-01, -3.1514e-02],\n",
       "              [ 3.7538e-01, -8.0932e-02, -1.0316e-01,  ...,  1.8225e-01,\n",
       "               -1.0777e+00, -2.3351e-01],\n",
       "              [-4.6394e-02, -2.0417e-01, -1.6563e-02,  ...,  5.3973e-01,\n",
       "               -2.4936e-01,  1.7511e-01]],\n",
       "    \n",
       "             [[ 1.9107e-01, -6.7075e-01, -1.0233e+00,  ..., -1.1567e+00,\n",
       "                3.1603e-01,  1.7206e-01],\n",
       "              [ 9.8523e-02, -6.4658e-01, -9.5050e-01,  ..., -7.4603e-01,\n",
       "                2.6314e-01,  1.6651e-01],\n",
       "              [ 2.4399e-01, -7.0555e-01, -4.7166e-01,  ..., -3.5335e-01,\n",
       "                8.1697e-01,  2.3340e-01],\n",
       "              ...,\n",
       "              [-2.2436e-01, -1.0344e+00, -4.2614e-01,  ..., -1.4379e-01,\n",
       "                4.0524e-03,  2.2871e-01],\n",
       "              [ 1.1906e-02, -9.8307e-01, -4.2935e-01,  ..., -1.2713e-01,\n",
       "                4.2153e-01,  1.0802e-01],\n",
       "              [-1.4415e-01, -9.5165e-01, -5.8657e-01,  ..., -5.5625e-01,\n",
       "                1.3341e-01, -7.4920e-02]]]]),\n",
       "    'prev_key_padding_mask': None},\n",
       "   'encoder_decoder': {'prev_key': tensor([[[[-2.5505e-02, -2.7897e-01, -6.4752e-01,  ..., -5.1161e-01,\n",
       "               -5.1036e-01,  5.2014e-01],\n",
       "              [ 5.8097e-01,  7.6592e-03, -1.0485e+00,  ..., -9.9866e-01,\n",
       "               -4.2740e-01,  2.0480e+00],\n",
       "              [ 9.5912e-02,  4.5640e-02,  1.2162e-01,  ..., -1.2599e+00,\n",
       "               -8.3617e-01,  7.9523e-01],\n",
       "              ...,\n",
       "              [ 1.6321e-01, -2.1134e-01, -6.6831e-01,  ..., -3.8766e-01,\n",
       "               -1.3930e+00,  2.0012e+00],\n",
       "              [-4.0402e-01,  3.8204e-01,  4.5314e-01,  ..., -7.5166e-01,\n",
       "               -7.9972e-01,  1.6747e+00],\n",
       "              [-2.8862e-01, -4.4753e-01,  3.4136e-02,  ..., -2.6938e-01,\n",
       "                1.6316e-03,  6.1333e-01]],\n",
       "    \n",
       "             [[-3.2614e-01,  4.8880e-01, -6.3490e-01,  ..., -1.3803e-01,\n",
       "                2.4277e-02,  5.9553e-01],\n",
       "              [-4.4071e-01,  6.4757e-01, -7.4483e-01,  ..., -6.7964e-01,\n",
       "                3.0372e-01,  9.3919e-01],\n",
       "              [-5.2288e-01,  5.8819e-01, -5.1337e-01,  ..., -7.9856e-01,\n",
       "                2.0786e-01,  1.3700e+00],\n",
       "              ...,\n",
       "              [ 6.8413e-03,  9.5131e-01, -1.2533e+00,  ..., -1.4832e+00,\n",
       "                7.3815e-01,  1.4126e+00],\n",
       "              [-5.6015e-01,  1.0661e+00, -1.8011e+00,  ..., -1.3846e+00,\n",
       "                2.2247e-01,  5.8391e-01],\n",
       "              [-7.2584e-01,  4.4438e-01, -8.1557e-01,  ..., -2.2476e-02,\n",
       "                2.5439e-01,  5.3827e-01]],\n",
       "    \n",
       "             [[-8.5518e-01,  6.0507e-01, -2.0638e-01,  ..., -2.4646e-01,\n",
       "                7.5417e-01,  9.2061e-01],\n",
       "              [-8.1628e-01,  7.9153e-01, -7.4084e-01,  ..., -4.7478e-01,\n",
       "                9.7004e-01,  1.2718e+00],\n",
       "              [-9.6449e-01,  1.1511e+00, -4.2107e-01,  ..., -1.7786e-01,\n",
       "                1.5098e+00,  4.3547e-01],\n",
       "              ...,\n",
       "              [-1.3204e+00,  1.1980e+00, -1.2875e-02,  ..., -2.4984e-01,\n",
       "                1.1393e+00,  1.1197e+00],\n",
       "              [-5.1686e-01,  1.4257e+00, -7.0963e-03,  ...,  2.6633e-01,\n",
       "               -3.8583e-01,  6.1667e-01],\n",
       "              [-7.3431e-01,  9.5351e-01, -1.4060e-01,  ..., -1.0237e-01,\n",
       "                3.9939e-01,  6.1494e-01]],\n",
       "    \n",
       "             ...,\n",
       "    \n",
       "             [[ 1.2375e-01, -2.2446e-01, -3.8023e-01,  ...,  1.0340e+00,\n",
       "                6.6195e-01,  1.6925e-01],\n",
       "              [ 4.5305e-01, -5.1460e-01, -1.4779e+00,  ...,  1.1174e+00,\n",
       "                1.2879e+00,  2.3204e-01],\n",
       "              [ 2.2393e-01, -2.4407e-01, -1.0049e+00,  ...,  8.6153e-01,\n",
       "                8.7742e-01,  8.9225e-01],\n",
       "              ...,\n",
       "              [-4.7021e-01,  2.0893e-02, -1.3528e+00,  ...,  8.6534e-01,\n",
       "                1.9105e+00,  6.6368e-02],\n",
       "              [-9.5895e-01,  2.8295e-01, -1.4638e+00,  ...,  2.1502e+00,\n",
       "                1.1754e+00,  9.9889e-01],\n",
       "              [-1.0939e-01, -2.2461e-01, -7.2868e-01,  ...,  1.2502e+00,\n",
       "                8.7736e-01,  2.9150e-01]],\n",
       "    \n",
       "             [[ 7.3166e-01, -5.6901e-01,  6.4652e-01,  ..., -1.5083e+00,\n",
       "               -7.8236e-01, -2.5920e-01],\n",
       "              [ 1.7008e+00,  2.5154e-01,  2.4639e-01,  ..., -1.5624e+00,\n",
       "               -4.6102e-01, -3.1336e-01],\n",
       "              [ 9.9966e-01, -9.6883e-01,  1.1461e+00,  ..., -1.9308e+00,\n",
       "               -1.1425e+00,  8.7870e-02],\n",
       "              ...,\n",
       "              [ 2.3737e+00, -2.4613e+00,  2.4880e+00,  ..., -8.9553e-01,\n",
       "               -2.3655e+00, -5.8143e-01],\n",
       "              [ 2.0042e+00, -5.1623e-01,  2.2830e-01,  ..., -8.6056e-01,\n",
       "               -2.7749e+00, -4.1870e-01],\n",
       "              [ 9.5640e-01, -4.7285e-01,  5.5299e-01,  ..., -1.3050e+00,\n",
       "               -8.5726e-01, -2.8876e-01]],\n",
       "    \n",
       "             [[ 1.3071e-01, -2.0535e-01, -3.6450e-01,  ...,  4.0576e-01,\n",
       "                2.6316e-01, -1.4847e-01],\n",
       "              [-5.7016e-02, -1.3964e-02,  2.1404e-02,  ...,  2.9439e-01,\n",
       "               -3.0573e-01, -2.9409e-01],\n",
       "              [ 3.8911e-01, -7.1248e-01, -2.9174e-01,  ..., -2.9447e-01,\n",
       "                4.3838e-01, -5.1424e-01],\n",
       "              ...,\n",
       "              [ 4.5596e-01, -5.6947e-01, -5.3693e-02,  ...,  8.1212e-01,\n",
       "               -1.2889e+00,  4.1040e-01],\n",
       "              [ 3.5909e-01, -1.2028e+00, -1.7514e-02,  ..., -3.4713e-01,\n",
       "                6.4043e-01,  6.6859e-01],\n",
       "              [ 1.3820e-01, -2.9464e-01, -3.5660e-01,  ..., -1.7358e-01,\n",
       "                2.5218e-01, -2.0744e-01]]]]),\n",
       "    'prev_value': tensor([[[[-9.5480e-03, -1.5167e-01,  5.7806e-02,  ..., -6.0653e-02,\n",
       "                1.4971e-01,  5.9048e-02],\n",
       "              [ 1.7331e-02,  2.3153e-01, -2.5653e-01,  ..., -8.7200e-01,\n",
       "               -4.9157e-02,  1.7354e-01],\n",
       "              [ 1.1351e-01,  2.1357e-03, -3.4651e-01,  ..., -2.1069e-01,\n",
       "               -5.2814e-01,  2.4774e-01],\n",
       "              ...,\n",
       "              [-1.8898e-01,  8.2209e-02, -1.7141e-01,  ..., -3.1742e-01,\n",
       "                3.7854e-01,  1.6801e-02],\n",
       "              [ 1.6580e-01,  2.8153e-01, -5.3892e-01,  ..., -1.0448e-01,\n",
       "               -8.9805e-02,  3.9367e-01],\n",
       "              [-7.4822e-02,  3.5212e-02, -2.1232e-02,  ..., -2.6940e-02,\n",
       "                3.6874e-02, -4.0415e-02]],\n",
       "    \n",
       "             [[ 1.9840e-01, -1.0063e-01, -9.3958e-02,  ..., -1.0415e-02,\n",
       "                2.7880e-01, -4.7788e-02],\n",
       "              [ 7.6400e-01,  4.4473e-01,  1.2241e+00,  ..., -9.6791e-03,\n",
       "                4.5625e-01, -9.0671e-02],\n",
       "              [-4.9634e-02,  4.1377e-01, -1.6032e-01,  ..., -6.5051e-01,\n",
       "               -6.6162e-02, -3.4692e-02],\n",
       "              ...,\n",
       "              [-1.0978e-01,  7.3493e-01, -1.3931e-01,  ..., -5.4728e-02,\n",
       "                7.2479e-01,  7.7825e-01],\n",
       "              [-3.1049e-01,  8.3021e-01,  7.6331e-01,  ..., -5.0073e-02,\n",
       "               -2.3567e-01, -1.7932e-01],\n",
       "              [ 9.1117e-02, -3.9871e-02, -2.1855e-01,  ...,  6.0011e-03,\n",
       "                2.4323e-02, -1.0400e-01]],\n",
       "    \n",
       "             [[-1.1745e-01,  5.4431e-02, -8.7183e-02,  ..., -4.7374e-02,\n",
       "               -2.1133e-01,  1.3647e-02],\n",
       "              [ 1.2187e+00,  8.8244e-01, -3.5551e-01,  ..., -1.3690e-01,\n",
       "               -2.3786e-01,  8.5033e-01],\n",
       "              [ 1.6170e-01, -5.4929e-01,  4.4421e-03,  ...,  1.2874e-01,\n",
       "               -3.8801e-01, -6.8780e-01],\n",
       "              ...,\n",
       "              [-2.5274e-01,  6.8918e-01,  4.5511e-02,  ...,  4.3843e-01,\n",
       "               -6.0433e-01,  1.5849e-01],\n",
       "              [ 1.8269e-01, -6.3347e-02,  1.8488e-01,  ...,  4.3939e-01,\n",
       "                2.4210e-01,  3.4059e-01],\n",
       "              [-1.0845e-01, -3.3720e-02, -6.7082e-02,  ...,  5.7624e-02,\n",
       "               -5.3655e-02,  4.2378e-02]],\n",
       "    \n",
       "             ...,\n",
       "    \n",
       "             [[ 1.6862e-01,  3.2015e-02,  8.5116e-02,  ..., -1.1489e-01,\n",
       "                3.4844e-03, -7.3644e-02],\n",
       "              [ 4.3639e-01, -2.0082e-01,  3.5658e-01,  ..., -2.0476e-01,\n",
       "                1.7936e-01,  3.8194e-01],\n",
       "              [-1.0722e-01,  1.4012e-01,  8.1285e-01,  ..., -3.1294e-01,\n",
       "               -2.7371e-02, -7.2463e-01],\n",
       "              ...,\n",
       "              [ 5.2810e-02, -2.5092e-01, -7.7689e-02,  ..., -1.9360e-01,\n",
       "                1.6656e-01,  7.2043e-01],\n",
       "              [-6.8918e-01, -1.1365e-02, -5.8289e-01,  ...,  7.7224e-01,\n",
       "                2.4595e-01, -1.0754e-01],\n",
       "              [-1.1458e-01, -8.0831e-02, -2.1749e-01,  ..., -1.6446e-03,\n",
       "                9.3718e-02,  7.6796e-02]],\n",
       "    \n",
       "             [[ 4.3062e-02,  6.2515e-02,  1.2667e-01,  ..., -6.3660e-02,\n",
       "               -1.3066e-01, -6.5469e-03],\n",
       "              [-4.0983e-01, -3.7608e-01,  3.0826e-01,  ...,  7.3523e-01,\n",
       "                1.6348e-01, -6.0412e-01],\n",
       "              [-5.3408e-01, -1.7241e-01, -4.8477e-02,  ...,  1.5613e-01,\n",
       "               -4.6391e-02, -2.5378e-01],\n",
       "              ...,\n",
       "              [-4.1366e-01,  6.5570e-01, -3.0338e-01,  ..., -6.6980e-01,\n",
       "                3.0221e-01, -8.0245e-01],\n",
       "              [ 6.7949e-02,  2.1624e-01, -5.3921e-01,  ...,  1.8969e-01,\n",
       "               -5.6277e-02, -1.9954e-01],\n",
       "              [-7.1399e-02,  1.2528e-02, -7.0279e-02,  ..., -2.7329e-02,\n",
       "                2.3819e-02, -2.0236e-02]],\n",
       "    \n",
       "             [[ 9.5236e-02,  4.1513e-02,  7.3448e-02,  ...,  3.0306e-02,\n",
       "                1.7896e-01, -1.2967e-03],\n",
       "              [ 9.1642e-02,  6.0431e-01, -7.2264e-02,  ...,  2.8263e-01,\n",
       "                2.7053e-01,  4.9303e-01],\n",
       "              [-3.0377e-01, -1.1587e+00,  1.1635e-02,  ...,  2.4272e-01,\n",
       "                2.0469e-02, -7.6571e-01],\n",
       "              ...,\n",
       "              [ 5.9805e-02, -3.0422e-01,  2.0940e-01,  ..., -6.4326e-01,\n",
       "               -7.8383e-01,  4.0541e-01],\n",
       "              [-2.2936e-01,  1.2028e-01, -2.7063e-01,  ..., -1.4437e+00,\n",
       "               -6.0328e-01,  3.1779e-01],\n",
       "              [-1.2291e-01, -2.1566e-02, -1.0572e-02,  ..., -4.4563e-01,\n",
       "               -1.8923e-01,  1.8326e-02]]]]),\n",
       "    'prev_key_padding_mask': None}}])"
      ]
     },
     "execution_count": 247,
     "metadata": {},
     "output_type": "execute_result"
    }
   ],
   "source": [
    "past"
   ]
  },
  {
   "cell_type": "code",
   "execution_count": 245,
   "metadata": {},
   "outputs": [
    {
     "data": {
      "text/plain": [
       "(tensor([[[-1.8868e-01,  1.5954e-02,  5.3438e-02,  ...,  1.0132e+00,\n",
       "            1.2336e-01, -2.1607e-02],\n",
       "          [-6.8476e-01,  2.5475e-02, -2.3553e-01,  ...,  1.6161e+00,\n",
       "           -5.6394e-01,  2.3299e-02],\n",
       "          [-6.0008e-01,  1.3130e-01,  5.9747e-02,  ...,  1.7662e+00,\n",
       "           -2.7124e-01,  1.7678e-01],\n",
       "          ...,\n",
       "          [-4.6728e-01, -1.4575e-01,  1.3083e-01,  ...,  1.6113e+00,\n",
       "           -1.8874e-01,  1.1142e-01],\n",
       "          [-1.4793e-02,  8.9173e-03, -1.9321e-01,  ...,  1.4010e+00,\n",
       "           -3.5746e-01,  4.0463e-01],\n",
       "          [-1.9166e-01,  1.9024e-04,  7.7792e-03,  ...,  8.7008e-01,\n",
       "            6.2007e-02, -1.4011e-01]]], grad_fn=<TransposeBackward0>),\n",
       " [],\n",
       " [])"
      ]
     },
     "execution_count": 245,
     "metadata": {},
     "output_type": "execute_result"
    }
   ],
   "source": [
    "english_encoded"
   ]
  },
  {
   "cell_type": "code",
   "execution_count": 209,
   "metadata": {},
   "outputs": [
    {
     "data": {
      "text/plain": [
       "tensor([[-1.2651, -7.9781, -3.3722,  ..., -7.9603, -7.9602,  0.0000]])"
      ]
     },
     "execution_count": 209,
     "metadata": {},
     "output_type": "execute_result"
    }
   ],
   "source": [
    "next_token_logits"
   ]
  },
  {
   "cell_type": "code",
   "execution_count": 210,
   "metadata": {},
   "outputs": [
    {
     "data": {
      "text/plain": [
       "tensor(10509)"
      ]
     },
     "execution_count": 210,
     "metadata": {},
     "output_type": "execute_result"
    }
   ],
   "source": [
    "next_token_logits[0].argmax()"
   ]
  },
  {
   "cell_type": "code",
   "execution_count": 208,
   "metadata": {},
   "outputs": [
    {
     "data": {
      "text/plain": [
       "tensor(10509)"
      ]
     },
     "execution_count": 208,
     "metadata": {},
     "output_type": "execute_result"
    }
   ],
   "source": [
    "next_token_to_add"
   ]
  },
  {
   "cell_type": "code",
   "execution_count": 206,
   "metadata": {},
   "outputs": [
    {
     "data": {
      "text/plain": [
       "'Hola'"
      ]
     },
     "execution_count": 206,
     "metadata": {},
     "output_type": "execute_result"
    }
   ],
   "source": [
    "tokenizer.decode(torch.LongTensor([9261]))"
   ]
  },
  {
   "cell_type": "code",
   "execution_count": 204,
   "metadata": {},
   "outputs": [
    {
     "data": {
      "text/plain": [
       "27754"
      ]
     },
     "execution_count": 204,
     "metadata": {},
     "output_type": "execute_result"
    }
   ],
   "source": [
    "tokenizer.convert_tokens_to_ids(\"Hola\")"
   ]
  },
  {
   "cell_type": "code",
   "execution_count": 280,
   "metadata": {},
   "outputs": [
    {
     "ename": "ValueError",
     "evalue": "too many values to unpack (expected 2)",
     "output_type": "error",
     "traceback": [
      "\u001b[1;31m---------------------------------------------------------------------------\u001b[0m",
      "\u001b[1;31mValueError\u001b[0m                                Traceback (most recent call last)",
      "\u001b[1;32m<ipython-input-280-3e851ef3c4be>\u001b[0m in \u001b[0;36m<module>\u001b[1;34m\u001b[0m\n\u001b[1;32m----> 1\u001b[1;33m \u001b[0meng_to_spanish\u001b[0m \u001b[1;33m=\u001b[0m \u001b[0men_ROMANCE\u001b[0m\u001b[1;33m.\u001b[0m\u001b[0mgenerate\u001b[0m\u001b[1;33m(\u001b[0m\u001b[1;33m**\u001b[0m\u001b[0mbatch\u001b[0m\u001b[1;33m,\u001b[0m \u001b[0muse_cache\u001b[0m\u001b[1;33m=\u001b[0m\u001b[1;32mFalse\u001b[0m\u001b[1;33m)\u001b[0m\u001b[1;33m\u001b[0m\u001b[1;33m\u001b[0m\u001b[0m\n\u001b[0m\u001b[0;32m      2\u001b[0m \u001b[0meng_to_spanish\u001b[0m\u001b[1;33m\u001b[0m\u001b[1;33m\u001b[0m\u001b[0m\n",
      "\u001b[1;32m~\\anaconda3\\lib\\site-packages\\torch\\autograd\\grad_mode.py\u001b[0m in \u001b[0;36mdecorate_context\u001b[1;34m(*args, **kwargs)\u001b[0m\n\u001b[0;32m     13\u001b[0m         \u001b[1;32mdef\u001b[0m \u001b[0mdecorate_context\u001b[0m\u001b[1;33m(\u001b[0m\u001b[1;33m*\u001b[0m\u001b[0margs\u001b[0m\u001b[1;33m,\u001b[0m \u001b[1;33m**\u001b[0m\u001b[0mkwargs\u001b[0m\u001b[1;33m)\u001b[0m\u001b[1;33m:\u001b[0m\u001b[1;33m\u001b[0m\u001b[1;33m\u001b[0m\u001b[0m\n\u001b[0;32m     14\u001b[0m             \u001b[1;32mwith\u001b[0m \u001b[0mself\u001b[0m\u001b[1;33m:\u001b[0m\u001b[1;33m\u001b[0m\u001b[1;33m\u001b[0m\u001b[0m\n\u001b[1;32m---> 15\u001b[1;33m                 \u001b[1;32mreturn\u001b[0m \u001b[0mfunc\u001b[0m\u001b[1;33m(\u001b[0m\u001b[1;33m*\u001b[0m\u001b[0margs\u001b[0m\u001b[1;33m,\u001b[0m \u001b[1;33m**\u001b[0m\u001b[0mkwargs\u001b[0m\u001b[1;33m)\u001b[0m\u001b[1;33m\u001b[0m\u001b[1;33m\u001b[0m\u001b[0m\n\u001b[0m\u001b[0;32m     16\u001b[0m         \u001b[1;32mreturn\u001b[0m \u001b[0mdecorate_context\u001b[0m\u001b[1;33m\u001b[0m\u001b[1;33m\u001b[0m\u001b[0m\n\u001b[0;32m     17\u001b[0m \u001b[1;33m\u001b[0m\u001b[0m\n",
      "\u001b[1;32m~\\AppData\\Roaming\\Python\\Python37\\site-packages\\transformers\\modeling_utils.py\u001b[0m in \u001b[0;36mgenerate\u001b[1;34m(self, input_ids, max_length, min_length, do_sample, early_stopping, num_beams, temperature, top_k, top_p, repetition_penalty, bad_words_ids, bos_token_id, pad_token_id, eos_token_id, length_penalty, no_repeat_ngram_size, num_return_sequences, attention_mask, decoder_start_token_id, use_cache, **model_specific_kwargs)\u001b[0m\n\u001b[0;32m   1223\u001b[0m                 \u001b[0mattention_mask\u001b[0m\u001b[1;33m=\u001b[0m\u001b[0mattention_mask\u001b[0m\u001b[1;33m,\u001b[0m\u001b[1;33m\u001b[0m\u001b[1;33m\u001b[0m\u001b[0m\n\u001b[0;32m   1224\u001b[0m                 \u001b[0muse_cache\u001b[0m\u001b[1;33m=\u001b[0m\u001b[0muse_cache\u001b[0m\u001b[1;33m,\u001b[0m\u001b[1;33m\u001b[0m\u001b[1;33m\u001b[0m\u001b[0m\n\u001b[1;32m-> 1225\u001b[1;33m                 \u001b[0mmodel_specific_kwargs\u001b[0m\u001b[1;33m=\u001b[0m\u001b[0mmodel_specific_kwargs\u001b[0m\u001b[1;33m,\u001b[0m\u001b[1;33m\u001b[0m\u001b[1;33m\u001b[0m\u001b[0m\n\u001b[0m\u001b[0;32m   1226\u001b[0m             )\n\u001b[0;32m   1227\u001b[0m         \u001b[1;32melse\u001b[0m\u001b[1;33m:\u001b[0m\u001b[1;33m\u001b[0m\u001b[1;33m\u001b[0m\u001b[0m\n",
      "\u001b[1;32m~\\AppData\\Roaming\\Python\\Python37\\site-packages\\transformers\\modeling_utils.py\u001b[0m in \u001b[0;36m_generate_beam_search\u001b[1;34m(self, input_ids, cur_len, max_length, min_length, do_sample, early_stopping, temperature, top_k, top_p, repetition_penalty, no_repeat_ngram_size, bad_words_ids, pad_token_id, eos_token_id, batch_size, num_return_sequences, length_penalty, num_beams, vocab_size, encoder_outputs, attention_mask, use_cache, model_specific_kwargs)\u001b[0m\n\u001b[0;32m   1542\u001b[0m             \u001b[1;31m# re-order internal states\u001b[0m\u001b[1;33m\u001b[0m\u001b[1;33m\u001b[0m\u001b[1;33m\u001b[0m\u001b[0m\n\u001b[0;32m   1543\u001b[0m             \u001b[1;32mif\u001b[0m \u001b[0mpast\u001b[0m \u001b[1;32mis\u001b[0m \u001b[1;32mnot\u001b[0m \u001b[1;32mNone\u001b[0m\u001b[1;33m:\u001b[0m\u001b[1;33m\u001b[0m\u001b[1;33m\u001b[0m\u001b[0m\n\u001b[1;32m-> 1544\u001b[1;33m                 \u001b[0mpast\u001b[0m \u001b[1;33m=\u001b[0m \u001b[0mself\u001b[0m\u001b[1;33m.\u001b[0m\u001b[0m_reorder_cache\u001b[0m\u001b[1;33m(\u001b[0m\u001b[0mpast\u001b[0m\u001b[1;33m,\u001b[0m \u001b[0mbeam_idx\u001b[0m\u001b[1;33m)\u001b[0m\u001b[1;33m\u001b[0m\u001b[1;33m\u001b[0m\u001b[0m\n\u001b[0m\u001b[0;32m   1545\u001b[0m \u001b[1;33m\u001b[0m\u001b[0m\n\u001b[0;32m   1546\u001b[0m             \u001b[1;31m# extend attention_mask for new generated input if only decoder\u001b[0m\u001b[1;33m\u001b[0m\u001b[1;33m\u001b[0m\u001b[1;33m\u001b[0m\u001b[0m\n",
      "\u001b[1;32m~\\AppData\\Roaming\\Python\\Python37\\site-packages\\transformers\\modeling_bart.py\u001b[0m in \u001b[0;36m_reorder_cache\u001b[1;34m(past, beam_idx)\u001b[0m\n\u001b[0;32m   1024\u001b[0m     \u001b[1;33m@\u001b[0m\u001b[0mstaticmethod\u001b[0m\u001b[1;33m\u001b[0m\u001b[1;33m\u001b[0m\u001b[0m\n\u001b[0;32m   1025\u001b[0m     \u001b[1;32mdef\u001b[0m \u001b[0m_reorder_cache\u001b[0m\u001b[1;33m(\u001b[0m\u001b[0mpast\u001b[0m\u001b[1;33m,\u001b[0m \u001b[0mbeam_idx\u001b[0m\u001b[1;33m)\u001b[0m\u001b[1;33m:\u001b[0m\u001b[1;33m\u001b[0m\u001b[1;33m\u001b[0m\u001b[0m\n\u001b[1;32m-> 1026\u001b[1;33m         \u001b[1;33m(\u001b[0m\u001b[1;33m(\u001b[0m\u001b[0menc_out\u001b[0m\u001b[1;33m,\u001b[0m \u001b[0menc_mask\u001b[0m\u001b[1;33m)\u001b[0m\u001b[1;33m,\u001b[0m \u001b[0mdecoder_cached_states\u001b[0m\u001b[1;33m)\u001b[0m \u001b[1;33m=\u001b[0m \u001b[0mpast\u001b[0m\u001b[1;33m\u001b[0m\u001b[1;33m\u001b[0m\u001b[0m\n\u001b[0m\u001b[0;32m   1027\u001b[0m         \u001b[0mreordered_past\u001b[0m \u001b[1;33m=\u001b[0m \u001b[1;33m[\u001b[0m\u001b[1;33m]\u001b[0m\u001b[1;33m\u001b[0m\u001b[1;33m\u001b[0m\u001b[0m\n\u001b[0;32m   1028\u001b[0m         \u001b[1;32mfor\u001b[0m \u001b[0mlayer_past\u001b[0m \u001b[1;32min\u001b[0m \u001b[0mdecoder_cached_states\u001b[0m\u001b[1;33m:\u001b[0m\u001b[1;33m\u001b[0m\u001b[1;33m\u001b[0m\u001b[0m\n",
      "\u001b[1;31mValueError\u001b[0m: too many values to unpack (expected 2)"
     ]
    }
   ],
   "source": [
    "eng_to_spanish = en_ROMANCE.generate(**batch, use_cache=False)\n",
    "eng_to_spanish"
   ]
  },
  {
   "cell_type": "code",
   "execution_count": 279,
   "metadata": {
    "scrolled": true
   },
   "outputs": [
    {
     "data": {
      "text/plain": [
       "'<pad> Corrí a la tienda.'"
      ]
     },
     "execution_count": 279,
     "metadata": {},
     "output_type": "execute_result"
    }
   ],
   "source": [
    "tokenizer.decode(eng_to_spanish[0])"
   ]
  },
  {
   "cell_type": "code",
   "execution_count": 178,
   "metadata": {},
   "outputs": [
    {
     "data": {
      "text/plain": [
       "[10509, 0]"
      ]
     },
     "execution_count": 178,
     "metadata": {},
     "output_type": "execute_result"
    }
   ],
   "source": [
    "tokenizer.encode(\"Corr\")"
   ]
  },
  {
   "cell_type": "code",
   "execution_count": 176,
   "metadata": {},
   "outputs": [
    {
     "data": {
      "text/plain": [
       "tensor([[65000, 10509,     9]])"
      ]
     },
     "execution_count": 176,
     "metadata": {},
     "output_type": "execute_result"
    }
   ],
   "source": [
    "partial_decode = torch.cat((partial_decode, next_token_to_add.unsqueeze(0).unsqueeze(0)), -1)\n",
    "partial_decode"
   ]
  },
  {
   "cell_type": "code",
   "execution_count": 192,
   "metadata": {},
   "outputs": [],
   "source": [
    "decoded = tokenizer.convert_ids_to_tokens(partial_decode[0])"
   ]
  },
  {
   "cell_type": "code",
   "execution_count": 193,
   "metadata": {},
   "outputs": [
    {
     "data": {
      "text/plain": [
       "'<pad> Corr'"
      ]
     },
     "execution_count": 193,
     "metadata": {},
     "output_type": "execute_result"
    }
   ],
   "source": [
    "tokenizer.decode(partial_decode[0])"
   ]
  },
  {
   "cell_type": "code",
   "execution_count": 164,
   "metadata": {},
   "outputs": [
    {
     "data": {
      "text/plain": [
       "['<pad>', '▁Corr', 'í']"
      ]
     },
     "execution_count": 164,
     "metadata": {},
     "output_type": "execute_result"
    }
   ],
   "source": [
    "model_inputs = model.prepare_inputs_for_generation(\n",
    "    partial_decode, past=past, attention_mask=batch['attention_mask'], use_cache=model.config.use_cache\n",
    ")\n",
    "with torch.no_grad():\n",
    "    model_outputs = model(**model_inputs)\n",
    "\n",
    "next_token_logits = model_outputs[0][:, -1, :]\n",
    "past = model_outputs[1]\n",
    "next_token_to_add = next_token_logits[0].argmax()\n",
    "partial_decode = torch.cat((partial_decode, next_token_to_add.unsqueeze(0).unsqueeze(0)), -1)\n",
    "tokenizer.convert_ids_to_tokens(partial_decode[0])"
   ]
  },
  {
   "cell_type": "code",
   "execution_count": 145,
   "metadata": {
    "scrolled": true
   },
   "outputs": [
    {
     "ename": "RuntimeError",
     "evalue": "Function 'MmBackward' returned nan values in its 1th output.",
     "output_type": "error",
     "traceback": [
      "\u001b[1;31m---------------------------------------------------------------------------\u001b[0m",
      "\u001b[1;31mRuntimeError\u001b[0m                              Traceback (most recent call last)",
      "\u001b[1;32m<ipython-input-145-12d284b8cb35>\u001b[0m in \u001b[0;36m<module>\u001b[1;34m\u001b[0m\n\u001b[0;32m      3\u001b[0m                    \u001b[0mencoder_outputs\u001b[0m \u001b[1;33m=\u001b[0m \u001b[0menglish_encoded\u001b[0m\u001b[1;33m,\u001b[0m\u001b[1;33m\u001b[0m\u001b[1;33m\u001b[0m\u001b[0m\n\u001b[0;32m      4\u001b[0m                    decoder_input_ids = partial_decode.unsqueeze(0), requires_grad=True)\n\u001b[1;32m----> 5\u001b[1;33m     \u001b[0mnext_word_logits\u001b[0m\u001b[1;33m[\u001b[0m\u001b[1;36m0\u001b[0m\u001b[1;33m]\u001b[0m\u001b[1;33m.\u001b[0m\u001b[0msum\u001b[0m\u001b[1;33m(\u001b[0m\u001b[1;33m)\u001b[0m\u001b[1;33m.\u001b[0m\u001b[0mbackward\u001b[0m\u001b[1;33m(\u001b[0m\u001b[1;33m)\u001b[0m\u001b[1;33m\u001b[0m\u001b[1;33m\u001b[0m\u001b[0m\n\u001b[0m",
      "\u001b[1;32m~\\anaconda3\\lib\\site-packages\\torch\\tensor.py\u001b[0m in \u001b[0;36mbackward\u001b[1;34m(self, gradient, retain_graph, create_graph)\u001b[0m\n\u001b[0;32m    196\u001b[0m                 \u001b[0mproducts\u001b[0m\u001b[1;33m.\u001b[0m \u001b[0mDefaults\u001b[0m \u001b[0mto\u001b[0m\u001b[0;31m \u001b[0m\u001b[0;31m`\u001b[0m\u001b[0;31m`\u001b[0m\u001b[1;32mFalse\u001b[0m\u001b[0;31m`\u001b[0m\u001b[0;31m`\u001b[0m\u001b[1;33m.\u001b[0m\u001b[1;33m\u001b[0m\u001b[1;33m\u001b[0m\u001b[0m\n\u001b[0;32m    197\u001b[0m         \"\"\"\n\u001b[1;32m--> 198\u001b[1;33m         \u001b[0mtorch\u001b[0m\u001b[1;33m.\u001b[0m\u001b[0mautograd\u001b[0m\u001b[1;33m.\u001b[0m\u001b[0mbackward\u001b[0m\u001b[1;33m(\u001b[0m\u001b[0mself\u001b[0m\u001b[1;33m,\u001b[0m \u001b[0mgradient\u001b[0m\u001b[1;33m,\u001b[0m \u001b[0mretain_graph\u001b[0m\u001b[1;33m,\u001b[0m \u001b[0mcreate_graph\u001b[0m\u001b[1;33m)\u001b[0m\u001b[1;33m\u001b[0m\u001b[1;33m\u001b[0m\u001b[0m\n\u001b[0m\u001b[0;32m    199\u001b[0m \u001b[1;33m\u001b[0m\u001b[0m\n\u001b[0;32m    200\u001b[0m     \u001b[1;32mdef\u001b[0m \u001b[0mregister_hook\u001b[0m\u001b[1;33m(\u001b[0m\u001b[0mself\u001b[0m\u001b[1;33m,\u001b[0m \u001b[0mhook\u001b[0m\u001b[1;33m)\u001b[0m\u001b[1;33m:\u001b[0m\u001b[1;33m\u001b[0m\u001b[1;33m\u001b[0m\u001b[0m\n",
      "\u001b[1;32m~\\anaconda3\\lib\\site-packages\\torch\\autograd\\__init__.py\u001b[0m in \u001b[0;36mbackward\u001b[1;34m(tensors, grad_tensors, retain_graph, create_graph, grad_variables)\u001b[0m\n\u001b[0;32m     98\u001b[0m     Variable._execution_engine.run_backward(\n\u001b[0;32m     99\u001b[0m         \u001b[0mtensors\u001b[0m\u001b[1;33m,\u001b[0m \u001b[0mgrad_tensors\u001b[0m\u001b[1;33m,\u001b[0m \u001b[0mretain_graph\u001b[0m\u001b[1;33m,\u001b[0m \u001b[0mcreate_graph\u001b[0m\u001b[1;33m,\u001b[0m\u001b[1;33m\u001b[0m\u001b[1;33m\u001b[0m\u001b[0m\n\u001b[1;32m--> 100\u001b[1;33m         allow_unreachable=True)  # allow_unreachable flag\n\u001b[0m\u001b[0;32m    101\u001b[0m \u001b[1;33m\u001b[0m\u001b[0m\n\u001b[0;32m    102\u001b[0m \u001b[1;33m\u001b[0m\u001b[0m\n",
      "\u001b[1;31mRuntimeError\u001b[0m: Function 'MmBackward' returned nan values in its 1th output."
     ]
    }
   ],
   "source": [
    "with torch.autograd.detect_anomaly():\n",
    "    next_word_logits = en_ROMANCE(input_ids = input_ids,\n",
    "                   encoder_outputs = english_encoded,\n",
    "                   decoder_input_ids = partial_decode.unsqueeze(0), requires_grad=True)\n",
    "    next_word_logits[0].sum().backward()"
   ]
  },
  {
   "cell_type": "code",
   "execution_count": 141,
   "metadata": {
    "scrolled": true
   },
   "outputs": [
    {
     "data": {
      "text/plain": [
       "tensor([[[nan, nan, nan,  ..., nan, nan, nan],\n",
       "         [nan, nan, nan,  ..., nan, nan, nan]]], grad_fn=<AddBackward0>)"
      ]
     },
     "execution_count": 141,
     "metadata": {},
     "output_type": "execute_result"
    }
   ],
   "source": [
    "next_word_logits[0]"
   ]
  },
  {
   "cell_type": "code",
   "execution_count": 151,
   "metadata": {},
   "outputs": [],
   "source": [
    "en_ROMANCE.generate??"
   ]
  },
  {
   "cell_type": "code",
   "execution_count": 78,
   "metadata": {},
   "outputs": [],
   "source": [
    "en_ROMANCE.model.encoder??"
   ]
  },
  {
   "cell_type": "code",
   "execution_count": 150,
   "metadata": {},
   "outputs": [
    {
     "ename": "RuntimeError",
     "evalue": "Trying to backward through the graph a second time, but the buffers have already been freed. Specify retain_graph=True when calling backward the first time.",
     "output_type": "error",
     "traceback": [
      "\u001b[1;31m---------------------------------------------------------------------------\u001b[0m",
      "\u001b[1;31mRuntimeError\u001b[0m                              Traceback (most recent call last)",
      "\u001b[1;32m<ipython-input-150-7e1e6a94673d>\u001b[0m in \u001b[0;36m<module>\u001b[1;34m\u001b[0m\n\u001b[1;32m----> 1\u001b[1;33m \u001b[0mprint\u001b[0m\u001b[1;33m(\u001b[0m\u001b[0menglish_encoded\u001b[0m\u001b[1;33m[\u001b[0m\u001b[1;36m0\u001b[0m\u001b[1;33m]\u001b[0m\u001b[1;33m[\u001b[0m\u001b[1;36m0\u001b[0m\u001b[1;33m]\u001b[0m\u001b[1;33m.\u001b[0m\u001b[0msum\u001b[0m\u001b[1;33m(\u001b[0m\u001b[1;33m)\u001b[0m\u001b[1;33m.\u001b[0m\u001b[0mbackward\u001b[0m\u001b[1;33m(\u001b[0m\u001b[0mretain_graph\u001b[0m\u001b[1;33m=\u001b[0m\u001b[1;32mTrue\u001b[0m\u001b[1;33m)\u001b[0m\u001b[1;33m)\u001b[0m\u001b[1;33m\u001b[0m\u001b[1;33m\u001b[0m\u001b[0m\n\u001b[0m",
      "\u001b[1;32m~\\anaconda3\\lib\\site-packages\\torch\\tensor.py\u001b[0m in \u001b[0;36mbackward\u001b[1;34m(self, gradient, retain_graph, create_graph)\u001b[0m\n\u001b[0;32m    196\u001b[0m                 \u001b[0mproducts\u001b[0m\u001b[1;33m.\u001b[0m \u001b[0mDefaults\u001b[0m \u001b[0mto\u001b[0m\u001b[0;31m \u001b[0m\u001b[0;31m`\u001b[0m\u001b[0;31m`\u001b[0m\u001b[1;32mFalse\u001b[0m\u001b[0;31m`\u001b[0m\u001b[0;31m`\u001b[0m\u001b[1;33m.\u001b[0m\u001b[1;33m\u001b[0m\u001b[1;33m\u001b[0m\u001b[0m\n\u001b[0;32m    197\u001b[0m         \"\"\"\n\u001b[1;32m--> 198\u001b[1;33m         \u001b[0mtorch\u001b[0m\u001b[1;33m.\u001b[0m\u001b[0mautograd\u001b[0m\u001b[1;33m.\u001b[0m\u001b[0mbackward\u001b[0m\u001b[1;33m(\u001b[0m\u001b[0mself\u001b[0m\u001b[1;33m,\u001b[0m \u001b[0mgradient\u001b[0m\u001b[1;33m,\u001b[0m \u001b[0mretain_graph\u001b[0m\u001b[1;33m,\u001b[0m \u001b[0mcreate_graph\u001b[0m\u001b[1;33m)\u001b[0m\u001b[1;33m\u001b[0m\u001b[1;33m\u001b[0m\u001b[0m\n\u001b[0m\u001b[0;32m    199\u001b[0m \u001b[1;33m\u001b[0m\u001b[0m\n\u001b[0;32m    200\u001b[0m     \u001b[1;32mdef\u001b[0m \u001b[0mregister_hook\u001b[0m\u001b[1;33m(\u001b[0m\u001b[0mself\u001b[0m\u001b[1;33m,\u001b[0m \u001b[0mhook\u001b[0m\u001b[1;33m)\u001b[0m\u001b[1;33m:\u001b[0m\u001b[1;33m\u001b[0m\u001b[1;33m\u001b[0m\u001b[0m\n",
      "\u001b[1;32m~\\anaconda3\\lib\\site-packages\\torch\\autograd\\__init__.py\u001b[0m in \u001b[0;36mbackward\u001b[1;34m(tensors, grad_tensors, retain_graph, create_graph, grad_variables)\u001b[0m\n\u001b[0;32m     98\u001b[0m     Variable._execution_engine.run_backward(\n\u001b[0;32m     99\u001b[0m         \u001b[0mtensors\u001b[0m\u001b[1;33m,\u001b[0m \u001b[0mgrad_tensors\u001b[0m\u001b[1;33m,\u001b[0m \u001b[0mretain_graph\u001b[0m\u001b[1;33m,\u001b[0m \u001b[0mcreate_graph\u001b[0m\u001b[1;33m,\u001b[0m\u001b[1;33m\u001b[0m\u001b[1;33m\u001b[0m\u001b[0m\n\u001b[1;32m--> 100\u001b[1;33m         allow_unreachable=True)  # allow_unreachable flag\n\u001b[0m\u001b[0;32m    101\u001b[0m \u001b[1;33m\u001b[0m\u001b[0m\n\u001b[0;32m    102\u001b[0m \u001b[1;33m\u001b[0m\u001b[0m\n",
      "\u001b[1;31mRuntimeError\u001b[0m: Trying to backward through the graph a second time, but the buffers have already been freed. Specify retain_graph=True when calling backward the first time."
     ]
    }
   ],
   "source": [
    "print(english_encoded[0][0].sum().backward(retain_graph=True))"
   ]
  },
  {
   "cell_type": "code",
   "execution_count": 111,
   "metadata": {},
   "outputs": [
    {
     "data": {
      "text/plain": [
       "Normalize(mean=tensor([[-2.0293e-01,  2.0769e-02,  2.8147e-02,  ...,  1.0518e+00,\n",
       "          1.0340e-01, -8.8115e-02],\n",
       "        [-3.6971e-01,  1.9407e-01,  2.8978e-01,  ...,  1.9322e+00,\n",
       "          3.5916e-01,  1.1154e-03],\n",
       "        [-3.5610e-01,  2.6620e-01,  1.5143e-01,  ...,  2.1092e+00,\n",
       "         -1.0457e-01,  5.2787e-01],\n",
       "        ...,\n",
       "        [-6.9544e-02,  1.5759e-01,  3.8321e-01,  ...,  1.4983e+00,\n",
       "          3.7078e-01,  8.3071e-03],\n",
       "        [-2.8330e-01,  1.0562e-01,  2.4944e-01,  ...,  1.8255e+00,\n",
       "          1.2717e-01, -1.2668e-01],\n",
       "        [-3.3574e-03,  1.5221e-01,  2.5999e-01,  ...,  9.5313e-01,\n",
       "         -2.8015e-02, -1.5033e-01]], grad_fn=<SelectBackward>), std=1)"
      ]
     },
     "execution_count": 111,
     "metadata": {},
     "output_type": "execute_result"
    }
   ],
   "source": [
    "transforms.Normalize(english_encoded[0][0], 1, 1)"
   ]
  },
  {
   "cell_type": "code",
   "execution_count": 48,
   "metadata": {},
   "outputs": [],
   "source": [
    "en_ROMANCE.forward??"
   ]
  },
  {
   "cell_type": "code",
   "execution_count": 57,
   "metadata": {},
   "outputs": [],
   "source": [
    "en_ROMANCE.model??"
   ]
  },
  {
   "cell_type": "code",
   "execution_count": 34,
   "metadata": {},
   "outputs": [],
   "source": [
    "en_ROMANCE.generate??"
   ]
  },
  {
   "cell_type": "code",
   "execution_count": 52,
   "metadata": {},
   "outputs": [
    {
     "ename": "SyntaxError",
     "evalue": "invalid syntax (<ipython-input-52-ec7d18a83f16>, line 1)",
     "output_type": "error",
     "traceback": [
      "\u001b[1;36m  File \u001b[1;32m\"<ipython-input-52-ec7d18a83f16>\"\u001b[1;36m, line \u001b[1;32m1\u001b[0m\n\u001b[1;33m    :class:`Module`\u001b[0m\n\u001b[1;37m    ^\u001b[0m\n\u001b[1;31mSyntaxError\u001b[0m\u001b[1;31m:\u001b[0m invalid syntax\n"
     ]
    }
   ],
   "source": [
    ":class:`Module`"
   ]
  },
  {
   "cell_type": "code",
   "execution_count": null,
   "metadata": {},
   "outputs": [],
   "source": [
    "next_word_logits[1][0][0].topk(5).indices"
   ]
  },
  {
   "cell_type": "code",
   "execution_count": null,
   "metadata": {},
   "outputs": [],
   "source": [
    "en_ROMANCE_tokenizer.decode(next_word_logits[1][0][0].topk(5).indices)"
   ]
  },
  {
   "cell_type": "code",
   "execution_count": null,
   "metadata": {},
   "outputs": [],
   "source": [
    "en_ROMANCE.model??"
   ]
  },
  {
   "cell_type": "code",
   "execution_count": null,
   "metadata": {
    "scrolled": true
   },
   "outputs": [],
   "source": [
    "english.input_ids"
   ]
  },
  {
   "cell_type": "code",
   "execution_count": null,
   "metadata": {},
   "outputs": [],
   "source": [
    "en_ROMANCE_tokenizer.encode('>>es<< This is a phrase we want to translate into Spanish', return_tensors=\"pt\")"
   ]
  },
  {
   "cell_type": "code",
   "execution_count": null,
   "metadata": {},
   "outputs": [],
   "source": [
    "english.input_ids"
   ]
  },
  {
   "cell_type": "code",
   "execution_count": null,
   "metadata": {},
   "outputs": [],
   "source": [
    "(english_encoded[0],)"
   ]
  },
  {
   "cell_type": "code",
   "execution_count": null,
   "metadata": {},
   "outputs": [],
   "source": [
    "english_encoded[0]"
   ]
  },
  {
   "cell_type": "code",
   "execution_count": null,
   "metadata": {},
   "outputs": [],
   "source": [
    "en_ROMANCE.model.encoder(input_ids = english.input_ids)"
   ]
  }
 ],
 "metadata": {
  "kernelspec": {
   "display_name": "Python 3",
   "language": "python",
   "name": "python3"
  },
  "language_info": {
   "codemirror_mode": {
    "name": "ipython",
    "version": 3
   },
   "file_extension": ".py",
   "mimetype": "text/x-python",
   "name": "python",
   "nbconvert_exporter": "python",
   "pygments_lexer": "ipython3",
   "version": "3.7.6"
  }
 },
 "nbformat": 4,
 "nbformat_minor": 4
}
